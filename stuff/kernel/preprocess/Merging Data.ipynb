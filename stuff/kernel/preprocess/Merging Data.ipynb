{
 "cells": [
  {
   "cell_type": "code",
   "execution_count": 2,
   "metadata": {
    "ExecuteTime": {
     "end_time": "2019-09-21T15:27:26.161436Z",
     "start_time": "2019-09-21T15:27:26.146270Z"
    }
   },
   "outputs": [
    {
     "data": {
      "text/html": [
       "        <script type=\"text/javascript\">\n",
       "        window.PlotlyConfig = {MathJaxConfig: 'local'};\n",
       "        if (window.MathJax) {MathJax.Hub.Config({SVG: {font: \"STIX-Web\"}});}\n",
       "        if (typeof require !== 'undefined') {\n",
       "        require.undef(\"plotly\");\n",
       "        requirejs.config({\n",
       "            paths: {\n",
       "                'plotly': ['https://cdn.plot.ly/plotly-latest.min']\n",
       "            }\n",
       "        });\n",
       "        require(['plotly'], function(Plotly) {\n",
       "            window._Plotly = Plotly;\n",
       "        });\n",
       "        }\n",
       "        </script>\n",
       "        "
      ]
     },
     "metadata": {},
     "output_type": "display_data"
    }
   ],
   "source": [
    "# Scientific libraries\n",
    "              \n",
    "import numpy as np              \n",
    "import scipy as sp              \n",
    "import pandas as pd              \n",
    "import json              \n",
    "import missingno as msno              \n",
    "\n",
    "# Loading Plotting Modules\n",
    "              \n",
    "import matplotlib              \n",
    "import matplotlib.pyplot as plt              \n",
    "import seaborn as sns              \n",
    "%matplotlib inline              \n",
    "import chart_studio.plotly as py              \n",
    "import plotly.figure_factory as ff              \n",
    "import plotly.graph_objects as go              \n",
    "import plotly.express as px              \n",
    "from plotly.offline import download_plotlyjs, init_notebook_mode, plot, iplot              \n",
    "init_notebook_mode(connected=True)              \n",
    "\n",
    "# Setting Data Frame Options\n",
    "              \n",
    "pd.set_option('display.max_rows', 40)              \n",
    "pd.set_option('display.max_columns', 50)              \n",
    "pd.set_option('display.width', 100)              \n",
    "pd.set_option('display.max_colwidth', 100)              \n",
    "\n",
    "    \n",
    "\n",
    "import katana.nbutil as ktn\n",
    "              \n",
    "import os\n",
    "import gc"
   ]
  },
  {
   "cell_type": "code",
   "execution_count": 3,
   "metadata": {
    "ExecuteTime": {
     "end_time": "2019-09-21T15:27:26.173885Z",
     "start_time": "2019-09-21T15:27:26.164769Z"
    }
   },
   "outputs": [],
   "source": [
    "# Setting Plot Configuration\n",
    "              \n",
    "sns.set(rc={'figure.figsize':(19,11)}, style = 'white')          "
   ]
  },
  {
   "cell_type": "code",
   "execution_count": 5,
   "metadata": {
    "ExecuteTime": {
     "end_time": "2019-09-21T15:27:31.315840Z",
     "start_time": "2019-09-21T15:27:31.308207Z"
    }
   },
   "outputs": [],
   "source": [
    "import configparser\n",
    "\n",
    "wd = os.getcwd()\n",
    "pardir = os.path.join(wd, os.pardir, )\n",
    "\n",
    "_CFG_FILE = os.path.join(pardir, os.pardir, 'features.cfg')\n",
    "\n",
    "cfg = configparser.ConfigParser()\n",
    "cfg.read(_CFG_FILE)\n",
    "categoric_trs = json.loads(cfg['categoric']['transaction'])\n",
    "categoric_id = json.loads(cfg['categoric']['identity'])\n",
    "categoric_all = categoric_id + categoric_trs"
   ]
  },
  {
   "cell_type": "code",
   "execution_count": 6,
   "metadata": {
    "ExecuteTime": {
     "end_time": "2019-09-21T15:28:28.055775Z",
     "start_time": "2019-09-21T15:27:33.696211Z"
    }
   },
   "outputs": [],
   "source": [
    "train_cat_trs = pd.read_csv('../../data/train_transaction.csv.zip')\n",
    "train_cat_id = pd.read_csv('../../data/train_identity.csv.zip')\n",
    "train_cat_trs.set_index('TransactionID', inplace=True)\n",
    "train_cat_id.set_index('TransactionID', inplace=True)\n",
    "test_cat_trs = pd.read_csv('../../data/test_transaction.csv.zip')\n",
    "test_cat_id = pd.read_csv('../../data/test_identity.csv.zip')\n",
    "test_cat_trs.set_index('TransactionID', inplace=True)\n",
    "test_cat_id.set_index('TransactionID', inplace=True)"
   ]
  },
  {
   "cell_type": "code",
   "execution_count": 7,
   "metadata": {
    "ExecuteTime": {
     "end_time": "2019-09-21T15:28:42.572382Z",
     "start_time": "2019-09-21T15:28:28.058074Z"
    }
   },
   "outputs": [
    {
     "name": "stdout",
     "output_type": "stream",
     "text": [
      "Train Cat (RJ): 144233 x 433\n",
      "Train Cat (LJ): 590540 x 433\n",
      "Test Cat (LJ): 506691 x 432\n"
     ]
    }
   ],
   "source": [
    "train_cat_rj = train_cat_trs.join(train_cat_id, how='right')\n",
    "train_cat_lj = train_cat_trs.join(train_cat_id, how='left')\n",
    "test_cat_lj = test_cat_trs.join(test_cat_id, how='left')\n",
    "print('Train Cat (RJ): %d x %d' % train_cat_rj.shape)\n",
    "print('Train Cat (LJ): %d x %d' % train_cat_lj.shape)\n",
    "print('Test Cat (LJ): %d x %d' % test_cat_lj.shape)"
   ]
  },
  {
   "cell_type": "code",
   "execution_count": null,
   "metadata": {},
   "outputs": [],
   "source": []
  },
  {
   "cell_type": "code",
   "execution_count": 7,
   "metadata": {
    "ExecuteTime": {
     "end_time": "2019-09-21T15:05:29.742889Z",
     "start_time": "2019-09-21T15:05:29.736647Z"
    }
   },
   "outputs": [],
   "source": [
    "cossim = pd.DataFrame(cossim)\n",
    "cossim.columns = df.columns\n",
    "cossim.index = df.columns"
   ]
  },
  {
   "cell_type": "code",
   "execution_count": 13,
   "metadata": {
    "ExecuteTime": {
     "end_time": "2019-09-21T15:15:39.141611Z",
     "start_time": "2019-09-21T15:15:30.105692Z"
    }
   },
   "outputs": [],
   "source": [
    "high_sim = cossim[(cossim>.9)&(cossim<.99999)].sum(axis=1).sort_values(ascending=False)"
   ]
  },
  {
   "cell_type": "code",
   "execution_count": 14,
   "metadata": {
    "ExecuteTime": {
     "end_time": "2019-09-21T15:15:39.156362Z",
     "start_time": "2019-09-21T15:15:39.144384Z"
    }
   },
   "outputs": [
    {
     "data": {
      "text/plain": [
       "id_24_nan                                  15.721496\n",
       "id_25_nan                                  15.715705\n",
       "id_26_nan                                  15.715199\n",
       "id_21_nan                                  15.715198\n",
       "id_36_F                                    14.350340\n",
       "                                             ...    \n",
       "DeviceInfo_Aquaris X Build/NMF26F           0.000000\n",
       "DeviceInfo_Aquaris X5 Plus Build/NMF26F     0.000000\n",
       "DeviceInfo_Aquaris_A4.5                     0.000000\n",
       "DeviceInfo_Aquaris_M4.5                     0.000000\n",
       "id_25_349.0                                 0.000000\n",
       "Length: 7746, dtype: float64"
      ]
     },
     "execution_count": 14,
     "metadata": {},
     "output_type": "execute_result"
    }
   ],
   "source": [
    "high_sim"
   ]
  }
 ],
 "metadata": {
  "hide_input": false,
  "kernelspec": {
   "display_name": "Python 3",
   "language": "python",
   "name": "python3"
  },
  "language_info": {
   "codemirror_mode": {
    "name": "ipython",
    "version": 3
   },
   "file_extension": ".py",
   "mimetype": "text/x-python",
   "name": "python",
   "nbconvert_exporter": "python",
   "pygments_lexer": "ipython3",
   "version": "3.7.1"
  },
  "toc": {
   "base_numbering": 1,
   "nav_menu": {},
   "number_sections": true,
   "sideBar": true,
   "skip_h1_title": false,
   "title_cell": "Table of Contents",
   "title_sidebar": "Contents",
   "toc_cell": false,
   "toc_position": {},
   "toc_section_display": true,
   "toc_window_display": false
  }
 },
 "nbformat": 4,
 "nbformat_minor": 2
}
