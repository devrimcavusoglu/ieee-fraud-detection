{
 "cells": [
  {
   "cell_type": "code",
   "execution_count": 1,
   "metadata": {
    "ExecuteTime": {
     "end_time": "2019-09-26T07:24:48.498054Z",
     "start_time": "2019-09-26T07:24:46.445444Z"
    }
   },
   "outputs": [
    {
     "data": {
      "text/html": [
       "        <script type=\"text/javascript\">\n",
       "        window.PlotlyConfig = {MathJaxConfig: 'local'};\n",
       "        if (window.MathJax) {MathJax.Hub.Config({SVG: {font: \"STIX-Web\"}});}\n",
       "        if (typeof require !== 'undefined') {\n",
       "        require.undef(\"plotly\");\n",
       "        requirejs.config({\n",
       "            paths: {\n",
       "                'plotly': ['https://cdn.plot.ly/plotly-latest.min']\n",
       "            }\n",
       "        });\n",
       "        require(['plotly'], function(Plotly) {\n",
       "            window._Plotly = Plotly;\n",
       "        });\n",
       "        }\n",
       "        </script>\n",
       "        "
      ]
     },
     "metadata": {},
     "output_type": "display_data"
    }
   ],
   "source": [
    "# Scientific libraries\n",
    "              \n",
    "import numpy as np              \n",
    "import scipy as sp              \n",
    "import pandas as pd              \n",
    "import json              \n",
    "import missingno as msno              \n",
    "\n",
    "# Loading Plotting Modules\n",
    "              \n",
    "import matplotlib              \n",
    "import matplotlib.pyplot as plt              \n",
    "import seaborn as sns              \n",
    "%matplotlib inline              \n",
    "import chart_studio.plotly as py              \n",
    "import plotly.figure_factory as ff              \n",
    "import plotly.graph_objects as go              \n",
    "import plotly.express as px              \n",
    "from plotly.offline import download_plotlyjs, init_notebook_mode, plot, iplot              \n",
    "init_notebook_mode(connected=True)              \n",
    "\n",
    "# Setting Data Frame Options\n",
    "              \n",
    "pd.set_option('display.max_rows', 40)              \n",
    "pd.set_option('display.max_columns', 50)              \n",
    "pd.set_option('display.width', 100)              \n",
    "pd.set_option('display.max_colwidth', 100)              \n",
    "\n",
    "    \n",
    "\n",
    "import katana.nbutil as ktn\n",
    "              \n",
    "import os\n",
    "import gc"
   ]
  },
  {
   "cell_type": "code",
   "execution_count": 2,
   "metadata": {
    "ExecuteTime": {
     "end_time": "2019-09-26T07:24:48.508090Z",
     "start_time": "2019-09-26T07:24:48.501326Z"
    }
   },
   "outputs": [],
   "source": [
    "# Setting Plot Configuration\n",
    "              \n",
    "sns.set(rc={'figure.figsize':(19,11)}, style = 'white')          "
   ]
  },
  {
   "cell_type": "code",
   "execution_count": 42,
   "metadata": {
    "ExecuteTime": {
     "end_time": "2019-09-22T11:17:15.923043Z",
     "start_time": "2019-09-22T11:17:15.912006Z"
    }
   },
   "outputs": [],
   "source": [
    "import configparser\n",
    "\n",
    "wd = os.getcwd()\n",
    "pardir = os.path.join(wd, os.pardir, )\n",
    "\n",
    "_CFG_FILE = os.path.join(pardir, os.pardir, 'features.cfg')\n",
    "\n",
    "cfg = configparser.ConfigParser()\n",
    "cfg.read(_CFG_FILE)\n",
    "categoric_trs = json.loads(cfg['categoric']['transaction'])\n",
    "categoric_id = json.loads(cfg['categoric']['identity'])\n",
    "categoric_all = categoric_id + categoric_trs"
   ]
  },
  {
   "cell_type": "code",
   "execution_count": 13,
   "metadata": {
    "ExecuteTime": {
     "end_time": "2019-09-22T10:43:54.771435Z",
     "start_time": "2019-09-22T10:43:06.958317Z"
    }
   },
   "outputs": [],
   "source": [
    "train_trs = pd.read_csv('../../rsc/train_transaction.csv.zip')\n",
    "train_id = pd.read_csv('../../rsc/train_identity.csv.zip')\n",
    "train_trs.set_index('TransactionID', inplace=True)\n",
    "train_id.set_index('TransactionID', inplace=True)\n",
    "test_trs = pd.read_csv('../../rsc/test_transaction.csv.zip')\n",
    "test_id = pd.read_csv('../../rsc/test_identity.csv.zip')\n",
    "test_trs.set_index('TransactionID', inplace=True)\n",
    "test_id.set_index('TransactionID', inplace=True)"
   ]
  },
  {
   "cell_type": "code",
   "execution_count": 15,
   "metadata": {
    "ExecuteTime": {
     "end_time": "2019-09-22T10:45:03.077780Z",
     "start_time": "2019-09-22T10:44:47.139994Z"
    },
    "scrolled": true
   },
   "outputs": [
    {
     "name": "stdout",
     "output_type": "stream",
     "text": [
      "Train Cat (RJ): 144233 x 433\n",
      "Train Cat (LJ): 590540 x 433\n",
      "Test Cat (LJ): 506691 x 432\n"
     ]
    }
   ],
   "source": [
    "train_rj = train_trs.join(train_id, how='right')\n",
    "train_lj = train_trs.join(train_id, how='left')\n",
    "test_lj = test_trs.join(test_id, how='left')\n",
    "print('Train Cat (RJ): %d x %d' % train_rj.shape)\n",
    "print('Train Cat (LJ): %d x %d' % train_lj.shape)\n",
    "print('Test Cat (LJ): %d x %d' % test_lj.shape)"
   ]
  },
  {
   "cell_type": "code",
   "execution_count": 16,
   "metadata": {
    "ExecuteTime": {
     "end_time": "2019-09-22T10:45:53.466713Z",
     "start_time": "2019-09-22T10:45:53.183467Z"
    }
   },
   "outputs": [],
   "source": [
    "train_set_id = train_rj.index.tolist()\n",
    "dev_set_id = list(set(train_lj.index.tolist()) -  set(train_set_id))\n",
    "test_set_id = test_lj.index.tolist()"
   ]
  },
  {
   "cell_type": "code",
   "execution_count": 27,
   "metadata": {
    "ExecuteTime": {
     "end_time": "2019-09-22T10:50:07.337476Z",
     "start_time": "2019-09-22T10:50:06.823441Z"
    }
   },
   "outputs": [
    {
     "data": {
      "text/plain": [
       "5191"
      ]
     },
     "execution_count": 27,
     "metadata": {},
     "output_type": "execute_result"
    }
   ],
   "source": [
    "import gc\n",
    "del train_id, train_trs, test_id, test_trs\n",
    "gc.collect()"
   ]
  },
  {
   "cell_type": "code",
   "execution_count": 23,
   "metadata": {
    "ExecuteTime": {
     "end_time": "2019-09-22T10:47:44.238707Z",
     "start_time": "2019-09-22T10:47:43.908502Z"
    }
   },
   "outputs": [],
   "source": [
    "indexes = pd.concat([pd.Series(train_set_id) ,\n",
    "                     pd.Series(dev_set_id) ,\n",
    "                     pd.Series(test_set_id)], axis=1)\n",
    "indexes.columns = ['train_set_id', 'dev_set_id', 'test_set_id']"
   ]
  },
  {
   "cell_type": "code",
   "execution_count": 26,
   "metadata": {
    "ExecuteTime": {
     "end_time": "2019-09-22T10:48:38.761575Z",
     "start_time": "2019-09-22T10:48:33.531407Z"
    }
   },
   "outputs": [],
   "source": [
    "indexes.to_csv('./output/transaction_ids.csv.gz')"
   ]
  },
  {
   "cell_type": "code",
   "execution_count": 1,
   "metadata": {
    "ExecuteTime": {
     "end_time": "2019-09-22T10:38:39.906482Z",
     "start_time": "2019-09-22T10:37:53.683418Z"
    }
   },
   "outputs": [],
   "source": [
    "all_cat_data = pd.read_parquet('./output/pre-modeling/all_cat.pqt.gz')"
   ]
  },
  {
   "cell_type": "code",
   "execution_count": null,
   "metadata": {
    "ExecuteTime": {
     "start_time": "2019-09-22T10:35:31.632Z"
    }
   },
   "outputs": [],
   "source": [
    "from sklearn.metrics.pairwise import cosine_similarity\n",
    "cossim = cosine_similarity(all_cat_data.T)\n",
    "cossim.columns = all_cat_data.columns\n",
    "cossim.index = all_cat_data.columns"
   ]
  },
  {
   "cell_type": "code",
   "execution_count": null,
   "metadata": {
    "ExecuteTime": {
     "start_time": "2019-09-22T10:35:32.448Z"
    }
   },
   "outputs": [],
   "source": [
    "high_sim = cossim.sum(axis=1).sort_values(ascending=False)\n",
    "high_sim"
   ]
  },
  {
   "cell_type": "code",
   "execution_count": 8,
   "metadata": {
    "ExecuteTime": {
     "end_time": "2019-09-22T10:41:26.891337Z",
     "start_time": "2019-09-22T10:41:10.255651Z"
    }
   },
   "outputs": [],
   "source": [
    "colsums = 100*(all_cat_data.sum(axis=0)/all_cat_data.shape[0])"
   ]
  },
  {
   "cell_type": "code",
   "execution_count": 29,
   "metadata": {
    "ExecuteTime": {
     "end_time": "2019-09-22T10:50:51.572280Z",
     "start_time": "2019-09-22T10:50:51.565678Z"
    }
   },
   "outputs": [],
   "source": [
    "rm_cols = colsums[colsums<.0001].index.tolist()"
   ]
  },
  {
   "cell_type": "code",
   "execution_count": 33,
   "metadata": {
    "ExecuteTime": {
     "end_time": "2019-09-22T10:52:19.661451Z",
     "start_time": "2019-09-22T10:51:29.099672Z"
    }
   },
   "outputs": [],
   "source": [
    "all_cat_data.drop(rm_cols, axis=1, inplace=True)"
   ]
  },
  {
   "cell_type": "code",
   "execution_count": 35,
   "metadata": {
    "ExecuteTime": {
     "end_time": "2019-09-22T10:56:05.449559Z",
     "start_time": "2019-09-22T10:53:36.005407Z"
    }
   },
   "outputs": [],
   "source": [
    "all_cat_data.to_parquet('./output/pre-modeling/reduced_all_cat.pqt.gz', compression='gzip')"
   ]
  },
  {
   "cell_type": "code",
   "execution_count": 36,
   "metadata": {
    "ExecuteTime": {
     "end_time": "2019-09-22T11:16:44.252182Z",
     "start_time": "2019-09-22T11:16:06.502072Z"
    }
   },
   "outputs": [
    {
     "name": "stderr",
     "output_type": "stream",
     "text": [
      "/Library/Frameworks/Python.framework/Versions/3.7/lib/python3.7/site-packages/pandas/core/frame.py:7123: FutureWarning: Sorting because non-concatenation axis is not aligned. A future version\n",
      "of pandas will change to not sort by default.\n",
      "\n",
      "To accept the future behavior, pass 'sort=False'.\n",
      "\n",
      "To retain the current behavior and silence the warning, pass 'sort=True'.\n",
      "\n",
      "  sort=sort,\n"
     ]
    }
   ],
   "source": [
    "all_data = train_lj.append(test_lj)"
   ]
  },
  {
   "cell_type": "code",
   "execution_count": 37,
   "metadata": {
    "ExecuteTime": {
     "end_time": "2019-09-22T11:16:47.745266Z",
     "start_time": "2019-09-22T11:16:47.648234Z"
    }
   },
   "outputs": [
    {
     "data": {
      "text/html": [
       "<div>\n",
       "<style scoped>\n",
       "    .dataframe tbody tr th:only-of-type {\n",
       "        vertical-align: middle;\n",
       "    }\n",
       "\n",
       "    .dataframe tbody tr th {\n",
       "        vertical-align: top;\n",
       "    }\n",
       "\n",
       "    .dataframe thead th {\n",
       "        text-align: right;\n",
       "    }\n",
       "</style>\n",
       "<table border=\"1\" class=\"dataframe\">\n",
       "  <thead>\n",
       "    <tr style=\"text-align: right;\">\n",
       "      <th></th>\n",
       "      <th>C1</th>\n",
       "      <th>C10</th>\n",
       "      <th>C11</th>\n",
       "      <th>C12</th>\n",
       "      <th>C13</th>\n",
       "      <th>C14</th>\n",
       "      <th>C2</th>\n",
       "      <th>C3</th>\n",
       "      <th>C4</th>\n",
       "      <th>C5</th>\n",
       "      <th>...</th>\n",
       "      <th>id_30</th>\n",
       "      <th>id_31</th>\n",
       "      <th>id_32</th>\n",
       "      <th>id_33</th>\n",
       "      <th>id_34</th>\n",
       "      <th>id_35</th>\n",
       "      <th>id_36</th>\n",
       "      <th>id_37</th>\n",
       "      <th>id_38</th>\n",
       "      <th>isFraud</th>\n",
       "    </tr>\n",
       "    <tr>\n",
       "      <th>TransactionID</th>\n",
       "      <th></th>\n",
       "      <th></th>\n",
       "      <th></th>\n",
       "      <th></th>\n",
       "      <th></th>\n",
       "      <th></th>\n",
       "      <th></th>\n",
       "      <th></th>\n",
       "      <th></th>\n",
       "      <th></th>\n",
       "      <th></th>\n",
       "      <th></th>\n",
       "      <th></th>\n",
       "      <th></th>\n",
       "      <th></th>\n",
       "      <th></th>\n",
       "      <th></th>\n",
       "      <th></th>\n",
       "      <th></th>\n",
       "      <th></th>\n",
       "      <th></th>\n",
       "    </tr>\n",
       "  </thead>\n",
       "  <tbody>\n",
       "    <tr>\n",
       "      <td>2987000</td>\n",
       "      <td>1.0</td>\n",
       "      <td>0.0</td>\n",
       "      <td>2.0</td>\n",
       "      <td>0.0</td>\n",
       "      <td>1.0</td>\n",
       "      <td>1.0</td>\n",
       "      <td>1.0</td>\n",
       "      <td>0.0</td>\n",
       "      <td>0.0</td>\n",
       "      <td>0.0</td>\n",
       "      <td>...</td>\n",
       "      <td>NaN</td>\n",
       "      <td>NaN</td>\n",
       "      <td>NaN</td>\n",
       "      <td>NaN</td>\n",
       "      <td>NaN</td>\n",
       "      <td>NaN</td>\n",
       "      <td>NaN</td>\n",
       "      <td>NaN</td>\n",
       "      <td>NaN</td>\n",
       "      <td>0.0</td>\n",
       "    </tr>\n",
       "    <tr>\n",
       "      <td>2987001</td>\n",
       "      <td>1.0</td>\n",
       "      <td>0.0</td>\n",
       "      <td>1.0</td>\n",
       "      <td>0.0</td>\n",
       "      <td>1.0</td>\n",
       "      <td>1.0</td>\n",
       "      <td>1.0</td>\n",
       "      <td>0.0</td>\n",
       "      <td>0.0</td>\n",
       "      <td>0.0</td>\n",
       "      <td>...</td>\n",
       "      <td>NaN</td>\n",
       "      <td>NaN</td>\n",
       "      <td>NaN</td>\n",
       "      <td>NaN</td>\n",
       "      <td>NaN</td>\n",
       "      <td>NaN</td>\n",
       "      <td>NaN</td>\n",
       "      <td>NaN</td>\n",
       "      <td>NaN</td>\n",
       "      <td>0.0</td>\n",
       "    </tr>\n",
       "    <tr>\n",
       "      <td>2987002</td>\n",
       "      <td>1.0</td>\n",
       "      <td>0.0</td>\n",
       "      <td>1.0</td>\n",
       "      <td>0.0</td>\n",
       "      <td>1.0</td>\n",
       "      <td>1.0</td>\n",
       "      <td>1.0</td>\n",
       "      <td>0.0</td>\n",
       "      <td>0.0</td>\n",
       "      <td>0.0</td>\n",
       "      <td>...</td>\n",
       "      <td>NaN</td>\n",
       "      <td>NaN</td>\n",
       "      <td>NaN</td>\n",
       "      <td>NaN</td>\n",
       "      <td>NaN</td>\n",
       "      <td>NaN</td>\n",
       "      <td>NaN</td>\n",
       "      <td>NaN</td>\n",
       "      <td>NaN</td>\n",
       "      <td>0.0</td>\n",
       "    </tr>\n",
       "    <tr>\n",
       "      <td>2987003</td>\n",
       "      <td>2.0</td>\n",
       "      <td>0.0</td>\n",
       "      <td>1.0</td>\n",
       "      <td>0.0</td>\n",
       "      <td>25.0</td>\n",
       "      <td>1.0</td>\n",
       "      <td>5.0</td>\n",
       "      <td>0.0</td>\n",
       "      <td>0.0</td>\n",
       "      <td>0.0</td>\n",
       "      <td>...</td>\n",
       "      <td>NaN</td>\n",
       "      <td>NaN</td>\n",
       "      <td>NaN</td>\n",
       "      <td>NaN</td>\n",
       "      <td>NaN</td>\n",
       "      <td>NaN</td>\n",
       "      <td>NaN</td>\n",
       "      <td>NaN</td>\n",
       "      <td>NaN</td>\n",
       "      <td>0.0</td>\n",
       "    </tr>\n",
       "    <tr>\n",
       "      <td>2987004</td>\n",
       "      <td>1.0</td>\n",
       "      <td>1.0</td>\n",
       "      <td>1.0</td>\n",
       "      <td>0.0</td>\n",
       "      <td>1.0</td>\n",
       "      <td>1.0</td>\n",
       "      <td>1.0</td>\n",
       "      <td>0.0</td>\n",
       "      <td>0.0</td>\n",
       "      <td>0.0</td>\n",
       "      <td>...</td>\n",
       "      <td>Android 7.0</td>\n",
       "      <td>samsung browser 6.2</td>\n",
       "      <td>32.0</td>\n",
       "      <td>2220x1080</td>\n",
       "      <td>match_status:2</td>\n",
       "      <td>T</td>\n",
       "      <td>F</td>\n",
       "      <td>T</td>\n",
       "      <td>T</td>\n",
       "      <td>0.0</td>\n",
       "    </tr>\n",
       "  </tbody>\n",
       "</table>\n",
       "<p>5 rows × 433 columns</p>\n",
       "</div>"
      ],
      "text/plain": [
       "                C1  C10  C11  C12   C13  C14   C2   C3   C4   C5  ...  \\\n",
       "TransactionID                                                     ...   \n",
       "2987000        1.0  0.0  2.0  0.0   1.0  1.0  1.0  0.0  0.0  0.0  ...   \n",
       "2987001        1.0  0.0  1.0  0.0   1.0  1.0  1.0  0.0  0.0  0.0  ...   \n",
       "2987002        1.0  0.0  1.0  0.0   1.0  1.0  1.0  0.0  0.0  0.0  ...   \n",
       "2987003        2.0  0.0  1.0  0.0  25.0  1.0  5.0  0.0  0.0  0.0  ...   \n",
       "2987004        1.0  1.0  1.0  0.0   1.0  1.0  1.0  0.0  0.0  0.0  ...   \n",
       "\n",
       "                     id_30                id_31  id_32      id_33  \\\n",
       "TransactionID                                                       \n",
       "2987000                NaN                  NaN    NaN        NaN   \n",
       "2987001                NaN                  NaN    NaN        NaN   \n",
       "2987002                NaN                  NaN    NaN        NaN   \n",
       "2987003                NaN                  NaN    NaN        NaN   \n",
       "2987004        Android 7.0  samsung browser 6.2   32.0  2220x1080   \n",
       "\n",
       "                        id_34  id_35  id_36  id_37  id_38  isFraud  \n",
       "TransactionID                                                       \n",
       "2987000                   NaN    NaN    NaN    NaN    NaN      0.0  \n",
       "2987001                   NaN    NaN    NaN    NaN    NaN      0.0  \n",
       "2987002                   NaN    NaN    NaN    NaN    NaN      0.0  \n",
       "2987003                   NaN    NaN    NaN    NaN    NaN      0.0  \n",
       "2987004        match_status:2      T      F      T      T      0.0  \n",
       "\n",
       "[5 rows x 433 columns]"
      ]
     },
     "execution_count": 37,
     "metadata": {},
     "output_type": "execute_result"
    }
   ],
   "source": [
    "all_data.head()"
   ]
  },
  {
   "cell_type": "code",
   "execution_count": 47,
   "metadata": {
    "ExecuteTime": {
     "end_time": "2019-09-22T11:19:03.381985Z",
     "start_time": "2019-09-22T11:18:34.083064Z"
    }
   },
   "outputs": [],
   "source": [
    "all_data.drop(categoric_all, axis=1, inplace=True)"
   ]
  },
  {
   "cell_type": "code",
   "execution_count": 52,
   "metadata": {
    "ExecuteTime": {
     "end_time": "2019-09-22T11:21:16.626813Z",
     "start_time": "2019-09-22T11:20:32.832469Z"
    }
   },
   "outputs": [],
   "source": [
    "all_data.to_parquet('./output/pre-modeling/all_num_data.pqt.gz', compression='gzip')"
   ]
  },
  {
   "cell_type": "code",
   "execution_count": 57,
   "metadata": {
    "ExecuteTime": {
     "end_time": "2019-09-22T11:22:33.952600Z",
     "start_time": "2019-09-22T11:22:33.946069Z"
    },
    "scrolled": true
   },
   "outputs": [
    {
     "data": {
      "text/plain": [
       "True"
      ]
     },
     "execution_count": 57,
     "metadata": {},
     "output_type": "execute_result"
    }
   ],
   "source": [
    "any(['Trans' in x for x in all_data.columns.tolist()])"
   ]
  },
  {
   "cell_type": "code",
   "execution_count": 61,
   "metadata": {
    "ExecuteTime": {
     "end_time": "2019-09-22T11:23:24.555025Z",
     "start_time": "2019-09-22T11:23:24.549211Z"
    },
    "scrolled": true
   },
   "outputs": [
    {
     "data": {
      "text/plain": [
       "((1097231, 384), (1097231, 6202))"
      ]
     },
     "execution_count": 61,
     "metadata": {},
     "output_type": "execute_result"
    }
   ],
   "source": [
    "all_data.shape, all_cat_data.shape"
   ]
  },
  {
   "cell_type": "code",
   "execution_count": 63,
   "metadata": {
    "ExecuteTime": {
     "end_time": "2019-09-22T11:24:41.036947Z",
     "start_time": "2019-09-22T11:24:40.116717Z"
    }
   },
   "outputs": [
    {
     "data": {
      "text/plain": [
       "13989"
      ]
     },
     "execution_count": 63,
     "metadata": {},
     "output_type": "execute_result"
    }
   ],
   "source": [
    "del all_data, train_lj, train_rj, test_lj, indexes\n",
    "gc.collect()"
   ]
  },
  {
   "cell_type": "code",
   "execution_count": 1,
   "metadata": {
    "ExecuteTime": {
     "end_time": "2019-09-22T13:13:07.942321Z",
     "start_time": "2019-09-22T13:12:23.131875Z"
    }
   },
   "outputs": [],
   "source": [
    "reduced_cat_data = pd.read_parquet('./output/pre-modeling/reduced_all_cat.pqt.gz')\n",
    "all_num_data = pd.read_parquet('./output/pre-modeling/all_num_data.pqt.gz')"
   ]
  },
  {
   "cell_type": "code",
   "execution_count": 2,
   "metadata": {
    "ExecuteTime": {
     "end_time": "2019-09-22T13:13:30.714929Z",
     "start_time": "2019-09-22T13:13:07.948955Z"
    }
   },
   "outputs": [],
   "source": [
    "df = all_num_data.join(reduced_cat_data, how='left')"
   ]
  },
  {
   "cell_type": "code",
   "execution_count": 3,
   "metadata": {
    "ExecuteTime": {
     "end_time": "2019-09-22T13:13:31.035752Z",
     "start_time": "2019-09-22T13:13:30.725335Z"
    }
   },
   "outputs": [],
   "source": [
    "indexes = pd.read_csv('./output/transaction_ids.csv.gz')"
   ]
  },
  {
   "cell_type": "code",
   "execution_count": 4,
   "metadata": {
    "ExecuteTime": {
     "end_time": "2019-09-22T13:13:50.173571Z",
     "start_time": "2019-09-22T13:13:50.163454Z"
    }
   },
   "outputs": [],
   "source": [
    "os.makedirs('../modeling/model_data', exist_ok=True)"
   ]
  },
  {
   "cell_type": "code",
   "execution_count": 5,
   "metadata": {
    "ExecuteTime": {
     "end_time": "2019-09-22T13:14:06.006633Z",
     "start_time": "2019-09-22T13:14:05.115838Z"
    }
   },
   "outputs": [
    {
     "data": {
      "text/plain": [
       "8010"
      ]
     },
     "execution_count": 5,
     "metadata": {},
     "output_type": "execute_result"
    }
   ],
   "source": [
    "import gc\n",
    "del reduced_cat_data, all_num_data\n",
    "gc.collect()"
   ]
  },
  {
   "cell_type": "code",
   "execution_count": 6,
   "metadata": {
    "ExecuteTime": {
     "end_time": "2019-09-22T13:18:02.536939Z",
     "start_time": "2019-09-22T13:14:15.824113Z"
    }
   },
   "outputs": [
    {
     "data": {
      "text/plain": [
       "0"
      ]
     },
     "execution_count": 6,
     "metadata": {},
     "output_type": "execute_result"
    }
   ],
   "source": [
    "train = df.loc[indexes[indexes.train_set_id.notna()].train_set_id]\n",
    "train.to_parquet('../modeling/model_data/train_set.pqt.gz', compression='gzip')\n",
    "del train\n",
    "gc.collect()\n",
    "dev = df.loc[indexes[indexes.dev_set_id.notna()].dev_set_id]\n",
    "dev.to_parquet('../modeling/model_data/dev_set.pqt.gz', compression='gzip')\n",
    "del dev\n",
    "gc.collect()\n",
    "test = df.loc[indexes[indexes.test_set_id.notna()].test_set_id]\n",
    "test.to_parquet('../modeling/model_data/test_set.pqt.gz', compression='gzip')\n",
    "del test\n",
    "gc.collect()"
   ]
  }
 ],
 "metadata": {
  "hide_input": false,
  "kernelspec": {
   "display_name": "Python 3",
   "language": "python",
   "name": "python3"
  },
  "language_info": {
   "codemirror_mode": {
    "name": "ipython",
    "version": 3
   },
   "file_extension": ".py",
   "mimetype": "text/x-python",
   "name": "python",
   "nbconvert_exporter": "python",
   "pygments_lexer": "ipython3",
   "version": "3.7.1"
  },
  "notify_time": "10",
  "toc": {
   "base_numbering": 1,
   "nav_menu": {},
   "number_sections": true,
   "sideBar": true,
   "skip_h1_title": false,
   "title_cell": "Table of Contents",
   "title_sidebar": "Contents",
   "toc_cell": false,
   "toc_position": {},
   "toc_section_display": true,
   "toc_window_display": false
  }
 },
 "nbformat": 4,
 "nbformat_minor": 2
}
