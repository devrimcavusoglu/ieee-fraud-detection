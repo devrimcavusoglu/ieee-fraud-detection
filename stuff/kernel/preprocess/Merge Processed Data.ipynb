{
 "cells": [
  {
   "cell_type": "code",
   "execution_count": 1,
   "metadata": {
    "ExecuteTime": {
     "end_time": "2019-09-27T08:39:33.659815Z",
     "start_time": "2019-09-27T08:39:31.613217Z"
    }
   },
   "outputs": [
    {
     "data": {
      "text/html": [
       "        <script type=\"text/javascript\">\n",
       "        window.PlotlyConfig = {MathJaxConfig: 'local'};\n",
       "        if (window.MathJax) {MathJax.Hub.Config({SVG: {font: \"STIX-Web\"}});}\n",
       "        if (typeof require !== 'undefined') {\n",
       "        require.undef(\"plotly\");\n",
       "        requirejs.config({\n",
       "            paths: {\n",
       "                'plotly': ['https://cdn.plot.ly/plotly-latest.min']\n",
       "            }\n",
       "        });\n",
       "        require(['plotly'], function(Plotly) {\n",
       "            window._Plotly = Plotly;\n",
       "        });\n",
       "        }\n",
       "        </script>\n",
       "        "
      ]
     },
     "metadata": {},
     "output_type": "display_data"
    }
   ],
   "source": [
    "# Scientific libraries\n",
    "              \n",
    "import numpy as np              \n",
    "import scipy as sp              \n",
    "import pandas as pd              \n",
    "import json              \n",
    "import missingno as msno              \n",
    "\n",
    "# Loading Plotting Modules\n",
    "              \n",
    "import matplotlib              \n",
    "import matplotlib.pyplot as plt              \n",
    "import seaborn as sns              \n",
    "%matplotlib inline              \n",
    "import chart_studio.plotly as py              \n",
    "import plotly.figure_factory as ff              \n",
    "import plotly.graph_objects as go              \n",
    "import plotly.express as px              \n",
    "from plotly.offline import download_plotlyjs, init_notebook_mode, plot, iplot              \n",
    "init_notebook_mode(connected=True)              \n",
    "\n",
    "# Setting Data Frame Options\n",
    "              \n",
    "pd.set_option('display.max_rows', 40)              \n",
    "pd.set_option('display.max_columns', 50)              \n",
    "pd.set_option('display.width', 100)              \n",
    "pd.set_option('display.max_colwidth', 100)              \n",
    "\n",
    "# Setting Plot Configuration\n",
    "              \n",
    "sns.set(rc={'figure.figsize':(19,11)}, style = 'white')              \n",
    "\n",
    "import katana.nbutil as ktn\n",
    "              \n",
    "import os"
   ]
  },
  {
   "cell_type": "code",
   "execution_count": 2,
   "metadata": {
    "ExecuteTime": {
     "end_time": "2019-09-27T08:39:47.814785Z",
     "start_time": "2019-09-27T08:39:33.663536Z"
    }
   },
   "outputs": [
    {
     "name": "stdout",
     "output_type": "stream",
     "text": [
      "Data Frame (num): 1097231 x 382\n",
      "Data Frame (num): 1097231 x 418\n"
     ]
    }
   ],
   "source": [
    "num_data = pd.read_parquet('./output/pre-modeling/all_num_processed.pqt.gz')\n",
    "cat_data = pd.read_parquet('./output/pre-modeling/r_reduced_all_cat.pqt.gz')\n",
    "print('Data Frame (num): %d x %d' % num_data.shape)\n",
    "print('Data Frame (cat): %d x %d' % cat_data.shape)"
   ]
  },
  {
   "cell_type": "code",
   "execution_count": 3,
   "metadata": {
    "ExecuteTime": {
     "end_time": "2019-09-27T08:39:48.061943Z",
     "start_time": "2019-09-27T08:39:47.820026Z"
    }
   },
   "outputs": [],
   "source": [
    "indexes = pd.read_csv('./output/transaction_ids.csv.gz')"
   ]
  },
  {
   "cell_type": "code",
   "execution_count": 5,
   "metadata": {
    "ExecuteTime": {
     "end_time": "2019-09-27T08:40:34.988659Z",
     "start_time": "2019-09-27T08:40:22.282802Z"
    }
   },
   "outputs": [
    {
     "data": {
      "text/plain": [
       "7642"
      ]
     },
     "execution_count": 5,
     "metadata": {},
     "output_type": "execute_result"
    }
   ],
   "source": [
    "merged_data = num_data.join(cat_data, how='left')\n",
    "del num_data, cat_data\n",
    "gc.collect()"
   ]
  },
  {
   "cell_type": "code",
   "execution_count": 6,
   "metadata": {
    "ExecuteTime": {
     "end_time": "2019-09-27T08:40:36.215134Z",
     "start_time": "2019-09-27T08:40:36.148350Z"
    },
    "scrolled": true
   },
   "outputs": [
    {
     "data": {
      "text/html": [
       "<div>\n",
       "<style scoped>\n",
       "    .dataframe tbody tr th:only-of-type {\n",
       "        vertical-align: middle;\n",
       "    }\n",
       "\n",
       "    .dataframe tbody tr th {\n",
       "        vertical-align: top;\n",
       "    }\n",
       "\n",
       "    .dataframe thead th {\n",
       "        text-align: right;\n",
       "    }\n",
       "</style>\n",
       "<table border=\"1\" class=\"dataframe\">\n",
       "  <thead>\n",
       "    <tr style=\"text-align: right;\">\n",
       "      <th></th>\n",
       "      <th>C1</th>\n",
       "      <th>C10</th>\n",
       "      <th>C11</th>\n",
       "      <th>C12</th>\n",
       "      <th>C13</th>\n",
       "      <th>C14</th>\n",
       "      <th>C2</th>\n",
       "      <th>C3</th>\n",
       "      <th>C4</th>\n",
       "      <th>C5</th>\n",
       "      <th>C6</th>\n",
       "      <th>C7</th>\n",
       "      <th>C8</th>\n",
       "      <th>C9</th>\n",
       "      <th>TransactionAmt</th>\n",
       "      <th>dist1</th>\n",
       "      <th>dist2</th>\n",
       "      <th>V263</th>\n",
       "      <th>V217</th>\n",
       "      <th>V110</th>\n",
       "      <th>V188</th>\n",
       "      <th>V154</th>\n",
       "      <th>V220</th>\n",
       "      <th>V332</th>\n",
       "      <th>V174</th>\n",
       "      <th>...</th>\n",
       "      <th>id_33_nan</th>\n",
       "      <th>id_34_match_status:1</th>\n",
       "      <th>id_34_match_status:2</th>\n",
       "      <th>id_34_nan</th>\n",
       "      <th>id_35_F</th>\n",
       "      <th>id_35_T</th>\n",
       "      <th>id_35_nan</th>\n",
       "      <th>id_36_F</th>\n",
       "      <th>id_36_T</th>\n",
       "      <th>id_36_nan</th>\n",
       "      <th>id_37_F</th>\n",
       "      <th>id_37_T</th>\n",
       "      <th>id_37_nan</th>\n",
       "      <th>id_38_F</th>\n",
       "      <th>id_38_T</th>\n",
       "      <th>id_38_nan</th>\n",
       "      <th>DeviceType_desktop</th>\n",
       "      <th>DeviceType_mobile</th>\n",
       "      <th>DeviceType_nan</th>\n",
       "      <th>DeviceInfo_MacOS</th>\n",
       "      <th>DeviceInfo_Trident/7.0</th>\n",
       "      <th>DeviceInfo_Windows</th>\n",
       "      <th>DeviceInfo_iOS Device</th>\n",
       "      <th>DeviceInfo_rv:11.0</th>\n",
       "      <th>DeviceInfo_nan</th>\n",
       "    </tr>\n",
       "    <tr>\n",
       "      <th>TransactionID</th>\n",
       "      <th></th>\n",
       "      <th></th>\n",
       "      <th></th>\n",
       "      <th></th>\n",
       "      <th></th>\n",
       "      <th></th>\n",
       "      <th></th>\n",
       "      <th></th>\n",
       "      <th></th>\n",
       "      <th></th>\n",
       "      <th></th>\n",
       "      <th></th>\n",
       "      <th></th>\n",
       "      <th></th>\n",
       "      <th></th>\n",
       "      <th></th>\n",
       "      <th></th>\n",
       "      <th></th>\n",
       "      <th></th>\n",
       "      <th></th>\n",
       "      <th></th>\n",
       "      <th></th>\n",
       "      <th></th>\n",
       "      <th></th>\n",
       "      <th></th>\n",
       "      <th></th>\n",
       "      <th></th>\n",
       "      <th></th>\n",
       "      <th></th>\n",
       "      <th></th>\n",
       "      <th></th>\n",
       "      <th></th>\n",
       "      <th></th>\n",
       "      <th></th>\n",
       "      <th></th>\n",
       "      <th></th>\n",
       "      <th></th>\n",
       "      <th></th>\n",
       "      <th></th>\n",
       "      <th></th>\n",
       "      <th></th>\n",
       "      <th></th>\n",
       "      <th></th>\n",
       "      <th></th>\n",
       "      <th></th>\n",
       "      <th></th>\n",
       "      <th></th>\n",
       "      <th></th>\n",
       "      <th></th>\n",
       "      <th></th>\n",
       "      <th></th>\n",
       "    </tr>\n",
       "  </thead>\n",
       "  <tbody>\n",
       "    <tr>\n",
       "      <td>2987000</td>\n",
       "      <td>0.000000</td>\n",
       "      <td>NaN</td>\n",
       "      <td>0.693147</td>\n",
       "      <td>NaN</td>\n",
       "      <td>0.000000</td>\n",
       "      <td>0.0</td>\n",
       "      <td>0.000000</td>\n",
       "      <td>NaN</td>\n",
       "      <td>NaN</td>\n",
       "      <td>NaN</td>\n",
       "      <td>0.000000</td>\n",
       "      <td>NaN</td>\n",
       "      <td>NaN</td>\n",
       "      <td>0.0</td>\n",
       "      <td>4.226834</td>\n",
       "      <td>2.944439</td>\n",
       "      <td>NaN</td>\n",
       "      <td>NaN</td>\n",
       "      <td>NaN</td>\n",
       "      <td>-0.087282</td>\n",
       "      <td>NaN</td>\n",
       "      <td>NaN</td>\n",
       "      <td>NaN</td>\n",
       "      <td>NaN</td>\n",
       "      <td>NaN</td>\n",
       "      <td>...</td>\n",
       "      <td>1</td>\n",
       "      <td>0</td>\n",
       "      <td>0</td>\n",
       "      <td>1</td>\n",
       "      <td>0</td>\n",
       "      <td>0</td>\n",
       "      <td>1</td>\n",
       "      <td>0</td>\n",
       "      <td>0</td>\n",
       "      <td>1</td>\n",
       "      <td>0</td>\n",
       "      <td>0</td>\n",
       "      <td>1</td>\n",
       "      <td>0</td>\n",
       "      <td>0</td>\n",
       "      <td>1</td>\n",
       "      <td>0</td>\n",
       "      <td>0</td>\n",
       "      <td>1</td>\n",
       "      <td>0</td>\n",
       "      <td>0</td>\n",
       "      <td>0</td>\n",
       "      <td>0</td>\n",
       "      <td>0</td>\n",
       "      <td>1</td>\n",
       "    </tr>\n",
       "    <tr>\n",
       "      <td>2987001</td>\n",
       "      <td>0.000000</td>\n",
       "      <td>NaN</td>\n",
       "      <td>0.000000</td>\n",
       "      <td>NaN</td>\n",
       "      <td>0.000000</td>\n",
       "      <td>0.0</td>\n",
       "      <td>0.000000</td>\n",
       "      <td>NaN</td>\n",
       "      <td>NaN</td>\n",
       "      <td>NaN</td>\n",
       "      <td>0.000000</td>\n",
       "      <td>NaN</td>\n",
       "      <td>NaN</td>\n",
       "      <td>NaN</td>\n",
       "      <td>3.367296</td>\n",
       "      <td>NaN</td>\n",
       "      <td>NaN</td>\n",
       "      <td>NaN</td>\n",
       "      <td>NaN</td>\n",
       "      <td>-0.087282</td>\n",
       "      <td>NaN</td>\n",
       "      <td>NaN</td>\n",
       "      <td>NaN</td>\n",
       "      <td>NaN</td>\n",
       "      <td>NaN</td>\n",
       "      <td>...</td>\n",
       "      <td>1</td>\n",
       "      <td>0</td>\n",
       "      <td>0</td>\n",
       "      <td>1</td>\n",
       "      <td>0</td>\n",
       "      <td>0</td>\n",
       "      <td>1</td>\n",
       "      <td>0</td>\n",
       "      <td>0</td>\n",
       "      <td>1</td>\n",
       "      <td>0</td>\n",
       "      <td>0</td>\n",
       "      <td>1</td>\n",
       "      <td>0</td>\n",
       "      <td>0</td>\n",
       "      <td>1</td>\n",
       "      <td>0</td>\n",
       "      <td>0</td>\n",
       "      <td>1</td>\n",
       "      <td>0</td>\n",
       "      <td>0</td>\n",
       "      <td>0</td>\n",
       "      <td>0</td>\n",
       "      <td>0</td>\n",
       "      <td>1</td>\n",
       "    </tr>\n",
       "    <tr>\n",
       "      <td>2987002</td>\n",
       "      <td>0.000000</td>\n",
       "      <td>NaN</td>\n",
       "      <td>0.000000</td>\n",
       "      <td>NaN</td>\n",
       "      <td>0.000000</td>\n",
       "      <td>0.0</td>\n",
       "      <td>0.000000</td>\n",
       "      <td>NaN</td>\n",
       "      <td>NaN</td>\n",
       "      <td>NaN</td>\n",
       "      <td>0.000000</td>\n",
       "      <td>NaN</td>\n",
       "      <td>NaN</td>\n",
       "      <td>0.0</td>\n",
       "      <td>4.077537</td>\n",
       "      <td>5.659482</td>\n",
       "      <td>NaN</td>\n",
       "      <td>NaN</td>\n",
       "      <td>NaN</td>\n",
       "      <td>-0.087282</td>\n",
       "      <td>NaN</td>\n",
       "      <td>NaN</td>\n",
       "      <td>NaN</td>\n",
       "      <td>NaN</td>\n",
       "      <td>NaN</td>\n",
       "      <td>...</td>\n",
       "      <td>1</td>\n",
       "      <td>0</td>\n",
       "      <td>0</td>\n",
       "      <td>1</td>\n",
       "      <td>0</td>\n",
       "      <td>0</td>\n",
       "      <td>1</td>\n",
       "      <td>0</td>\n",
       "      <td>0</td>\n",
       "      <td>1</td>\n",
       "      <td>0</td>\n",
       "      <td>0</td>\n",
       "      <td>1</td>\n",
       "      <td>0</td>\n",
       "      <td>0</td>\n",
       "      <td>1</td>\n",
       "      <td>0</td>\n",
       "      <td>0</td>\n",
       "      <td>1</td>\n",
       "      <td>0</td>\n",
       "      <td>0</td>\n",
       "      <td>0</td>\n",
       "      <td>0</td>\n",
       "      <td>0</td>\n",
       "      <td>1</td>\n",
       "    </tr>\n",
       "    <tr>\n",
       "      <td>2987003</td>\n",
       "      <td>0.693147</td>\n",
       "      <td>NaN</td>\n",
       "      <td>0.000000</td>\n",
       "      <td>NaN</td>\n",
       "      <td>3.218876</td>\n",
       "      <td>0.0</td>\n",
       "      <td>1.609438</td>\n",
       "      <td>NaN</td>\n",
       "      <td>NaN</td>\n",
       "      <td>NaN</td>\n",
       "      <td>1.386294</td>\n",
       "      <td>NaN</td>\n",
       "      <td>NaN</td>\n",
       "      <td>0.0</td>\n",
       "      <td>3.912023</td>\n",
       "      <td>NaN</td>\n",
       "      <td>NaN</td>\n",
       "      <td>NaN</td>\n",
       "      <td>NaN</td>\n",
       "      <td>-0.087282</td>\n",
       "      <td>NaN</td>\n",
       "      <td>NaN</td>\n",
       "      <td>NaN</td>\n",
       "      <td>NaN</td>\n",
       "      <td>NaN</td>\n",
       "      <td>...</td>\n",
       "      <td>1</td>\n",
       "      <td>0</td>\n",
       "      <td>0</td>\n",
       "      <td>1</td>\n",
       "      <td>0</td>\n",
       "      <td>0</td>\n",
       "      <td>1</td>\n",
       "      <td>0</td>\n",
       "      <td>0</td>\n",
       "      <td>1</td>\n",
       "      <td>0</td>\n",
       "      <td>0</td>\n",
       "      <td>1</td>\n",
       "      <td>0</td>\n",
       "      <td>0</td>\n",
       "      <td>1</td>\n",
       "      <td>0</td>\n",
       "      <td>0</td>\n",
       "      <td>1</td>\n",
       "      <td>0</td>\n",
       "      <td>0</td>\n",
       "      <td>0</td>\n",
       "      <td>0</td>\n",
       "      <td>0</td>\n",
       "      <td>1</td>\n",
       "    </tr>\n",
       "    <tr>\n",
       "      <td>2987004</td>\n",
       "      <td>0.000000</td>\n",
       "      <td>0.0</td>\n",
       "      <td>0.000000</td>\n",
       "      <td>NaN</td>\n",
       "      <td>0.000000</td>\n",
       "      <td>0.0</td>\n",
       "      <td>0.000000</td>\n",
       "      <td>NaN</td>\n",
       "      <td>NaN</td>\n",
       "      <td>NaN</td>\n",
       "      <td>0.000000</td>\n",
       "      <td>NaN</td>\n",
       "      <td>0.0</td>\n",
       "      <td>NaN</td>\n",
       "      <td>3.912023</td>\n",
       "      <td>NaN</td>\n",
       "      <td>NaN</td>\n",
       "      <td>-0.032664</td>\n",
       "      <td>-0.124815</td>\n",
       "      <td>-0.087282</td>\n",
       "      <td>-0.007128</td>\n",
       "      <td>-1.458688</td>\n",
       "      <td>-0.137183</td>\n",
       "      <td>-0.084668</td>\n",
       "      <td>-0.33739</td>\n",
       "      <td>...</td>\n",
       "      <td>0</td>\n",
       "      <td>0</td>\n",
       "      <td>1</td>\n",
       "      <td>0</td>\n",
       "      <td>0</td>\n",
       "      <td>1</td>\n",
       "      <td>0</td>\n",
       "      <td>1</td>\n",
       "      <td>0</td>\n",
       "      <td>0</td>\n",
       "      <td>0</td>\n",
       "      <td>1</td>\n",
       "      <td>0</td>\n",
       "      <td>0</td>\n",
       "      <td>1</td>\n",
       "      <td>0</td>\n",
       "      <td>0</td>\n",
       "      <td>1</td>\n",
       "      <td>0</td>\n",
       "      <td>0</td>\n",
       "      <td>0</td>\n",
       "      <td>0</td>\n",
       "      <td>0</td>\n",
       "      <td>0</td>\n",
       "      <td>0</td>\n",
       "    </tr>\n",
       "  </tbody>\n",
       "</table>\n",
       "<p>5 rows × 800 columns</p>\n",
       "</div>"
      ],
      "text/plain": [
       "                     C1  C10       C11  C12       C13  C14        C2  C3  C4  C5        C6  C7  \\\n",
       "TransactionID                                                                                    \n",
       "2987000        0.000000  NaN  0.693147  NaN  0.000000  0.0  0.000000 NaN NaN NaN  0.000000 NaN   \n",
       "2987001        0.000000  NaN  0.000000  NaN  0.000000  0.0  0.000000 NaN NaN NaN  0.000000 NaN   \n",
       "2987002        0.000000  NaN  0.000000  NaN  0.000000  0.0  0.000000 NaN NaN NaN  0.000000 NaN   \n",
       "2987003        0.693147  NaN  0.000000  NaN  3.218876  0.0  1.609438 NaN NaN NaN  1.386294 NaN   \n",
       "2987004        0.000000  0.0  0.000000  NaN  0.000000  0.0  0.000000 NaN NaN NaN  0.000000 NaN   \n",
       "\n",
       "                C8   C9  TransactionAmt     dist1  dist2      V263      V217      V110      V188  \\\n",
       "TransactionID                                                                                      \n",
       "2987000        NaN  0.0        4.226834  2.944439    NaN       NaN       NaN -0.087282       NaN   \n",
       "2987001        NaN  NaN        3.367296       NaN    NaN       NaN       NaN -0.087282       NaN   \n",
       "2987002        NaN  0.0        4.077537  5.659482    NaN       NaN       NaN -0.087282       NaN   \n",
       "2987003        NaN  0.0        3.912023       NaN    NaN       NaN       NaN -0.087282       NaN   \n",
       "2987004        0.0  NaN        3.912023       NaN    NaN -0.032664 -0.124815 -0.087282 -0.007128   \n",
       "\n",
       "                   V154      V220      V332     V174  ...  id_33_nan  id_34_match_status:1  \\\n",
       "TransactionID                                         ...                                    \n",
       "2987000             NaN       NaN       NaN      NaN  ...          1                     0   \n",
       "2987001             NaN       NaN       NaN      NaN  ...          1                     0   \n",
       "2987002             NaN       NaN       NaN      NaN  ...          1                     0   \n",
       "2987003             NaN       NaN       NaN      NaN  ...          1                     0   \n",
       "2987004       -1.458688 -0.137183 -0.084668 -0.33739  ...          0                     0   \n",
       "\n",
       "               id_34_match_status:2  id_34_nan  id_35_F  id_35_T  id_35_nan  id_36_F  id_36_T  \\\n",
       "TransactionID                                                                                   \n",
       "2987000                           0          1        0        0          1        0        0   \n",
       "2987001                           0          1        0        0          1        0        0   \n",
       "2987002                           0          1        0        0          1        0        0   \n",
       "2987003                           0          1        0        0          1        0        0   \n",
       "2987004                           1          0        0        1          0        1        0   \n",
       "\n",
       "               id_36_nan  id_37_F  id_37_T  id_37_nan  id_38_F  id_38_T  id_38_nan  \\\n",
       "TransactionID                                                                        \n",
       "2987000                1        0        0          1        0        0          1   \n",
       "2987001                1        0        0          1        0        0          1   \n",
       "2987002                1        0        0          1        0        0          1   \n",
       "2987003                1        0        0          1        0        0          1   \n",
       "2987004                0        0        1          0        0        1          0   \n",
       "\n",
       "               DeviceType_desktop  DeviceType_mobile  DeviceType_nan  DeviceInfo_MacOS  \\\n",
       "TransactionID                                                                            \n",
       "2987000                         0                  0               1                 0   \n",
       "2987001                         0                  0               1                 0   \n",
       "2987002                         0                  0               1                 0   \n",
       "2987003                         0                  0               1                 0   \n",
       "2987004                         0                  1               0                 0   \n",
       "\n",
       "               DeviceInfo_Trident/7.0  DeviceInfo_Windows  DeviceInfo_iOS Device  \\\n",
       "TransactionID                                                                      \n",
       "2987000                             0                   0                      0   \n",
       "2987001                             0                   0                      0   \n",
       "2987002                             0                   0                      0   \n",
       "2987003                             0                   0                      0   \n",
       "2987004                             0                   0                      0   \n",
       "\n",
       "               DeviceInfo_rv:11.0  DeviceInfo_nan  \n",
       "TransactionID                                      \n",
       "2987000                         0               1  \n",
       "2987001                         0               1  \n",
       "2987002                         0               1  \n",
       "2987003                         0               1  \n",
       "2987004                         0               0  \n",
       "\n",
       "[5 rows x 800 columns]"
      ]
     },
     "execution_count": 6,
     "metadata": {},
     "output_type": "execute_result"
    }
   ],
   "source": [
    "merged_data.head()"
   ]
  },
  {
   "cell_type": "code",
   "execution_count": 7,
   "metadata": {
    "ExecuteTime": {
     "end_time": "2019-09-27T08:41:06.486609Z",
     "start_time": "2019-09-27T08:40:56.397633Z"
    }
   },
   "outputs": [],
   "source": [
    "nums = pd.read_parquet('./output/pre-modeling/all_num_data.pqt.gz')"
   ]
  },
  {
   "cell_type": "code",
   "execution_count": 8,
   "metadata": {
    "ExecuteTime": {
     "end_time": "2019-09-27T08:41:06.827150Z",
     "start_time": "2019-09-27T08:41:06.489001Z"
    }
   },
   "outputs": [],
   "source": [
    "nums = nums[['isFraud']]"
   ]
  },
  {
   "cell_type": "code",
   "execution_count": 9,
   "metadata": {
    "ExecuteTime": {
     "end_time": "2019-09-27T08:41:17.732461Z",
     "start_time": "2019-09-27T08:41:06.831461Z"
    }
   },
   "outputs": [],
   "source": [
    "merged_data = merged_data.join(nums, how='left')"
   ]
  },
  {
   "cell_type": "code",
   "execution_count": 10,
   "metadata": {
    "ExecuteTime": {
     "end_time": "2019-09-27T08:41:18.286609Z",
     "start_time": "2019-09-27T08:41:17.740762Z"
    }
   },
   "outputs": [
    {
     "data": {
      "text/plain": [
       "1182"
      ]
     },
     "execution_count": 10,
     "metadata": {},
     "output_type": "execute_result"
    }
   ],
   "source": [
    "del nums\n",
    "gc.collect()"
   ]
  },
  {
   "cell_type": "code",
   "execution_count": null,
   "metadata": {},
   "outputs": [],
   "source": [
    "merged_data.to_parquet('./output/pre-modeling/merged_data_processed.pqt.gz')"
   ]
  },
  {
   "cell_type": "code",
   "execution_count": 20,
   "metadata": {
    "ExecuteTime": {
     "end_time": "2019-09-27T08:45:13.715380Z",
     "start_time": "2019-09-27T08:45:13.409368Z"
    }
   },
   "outputs": [],
   "source": [
    "train_idx = pd.Series(idx[idx.train_set_id.notna()].train_set_id.tolist() \\\n",
    "                      + idx[idx.dev_set_id.notna()].dev_set_id.tolist(), dtype=np.int32).tolist()\n",
    "test_idx = pd.Series(idx.test_set_id, dtype=np.int32).tolist()"
   ]
  },
  {
   "cell_type": "code",
   "execution_count": 23,
   "metadata": {
    "ExecuteTime": {
     "end_time": "2019-09-27T08:46:03.072852Z",
     "start_time": "2019-09-27T08:45:48.170660Z"
    }
   },
   "outputs": [
    {
     "data": {
      "text/plain": [
       "13774"
      ]
     },
     "execution_count": 23,
     "metadata": {},
     "output_type": "execute_result"
    }
   ],
   "source": [
    "train_md = merged_data.loc[train_idx]\n",
    "test_md = merged_data.loc[test_idx]\n",
    "del merged_data\n",
    "gc.collect()"
   ]
  },
  {
   "cell_type": "code",
   "execution_count": 25,
   "metadata": {
    "ExecuteTime": {
     "end_time": "2019-09-27T08:47:27.629415Z",
     "start_time": "2019-09-27T08:47:00.902169Z"
    }
   },
   "outputs": [],
   "source": [
    "train_md.to_parquet('../modeling/model_data/reduced_processed/train_set.pqt.gz')\n",
    "test_md.to_parquet('../modeling/model_data/reduced_processed/test_set.pqt.gz')"
   ]
  }
 ],
 "metadata": {
  "hide_input": false,
  "kernelspec": {
   "display_name": "Python 3",
   "language": "python",
   "name": "python3"
  },
  "language_info": {
   "codemirror_mode": {
    "name": "ipython",
    "version": 3
   },
   "file_extension": ".py",
   "mimetype": "text/x-python",
   "name": "python",
   "nbconvert_exporter": "python",
   "pygments_lexer": "ipython3",
   "version": "3.7.1"
  },
  "notify_time": "5",
  "toc": {
   "base_numbering": 1,
   "nav_menu": {},
   "number_sections": true,
   "sideBar": true,
   "skip_h1_title": false,
   "title_cell": "Table of Contents",
   "title_sidebar": "Contents",
   "toc_cell": false,
   "toc_position": {},
   "toc_section_display": true,
   "toc_window_display": false
  }
 },
 "nbformat": 4,
 "nbformat_minor": 2
}
