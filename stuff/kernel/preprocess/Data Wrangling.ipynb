{
 "cells": [
  {
   "cell_type": "code",
   "execution_count": 2,
   "metadata": {
    "ExecuteTime": {
     "end_time": "2019-08-14T13:18:06.296593Z",
     "start_time": "2019-08-14T13:18:06.274808Z"
    }
   },
   "outputs": [
    {
     "data": {
      "text/html": [
       "        <script type=\"text/javascript\">\n",
       "        window.PlotlyConfig = {MathJaxConfig: 'local'};\n",
       "        if (window.MathJax) {MathJax.Hub.Config({SVG: {font: \"STIX-Web\"}});}\n",
       "        if (typeof require !== 'undefined') {\n",
       "        require.undef(\"plotly\");\n",
       "        requirejs.config({\n",
       "            paths: {\n",
       "                'plotly': ['https://cdn.plot.ly/plotly-latest.min']\n",
       "            }\n",
       "        });\n",
       "        require(['plotly'], function(Plotly) {\n",
       "            window._Plotly = Plotly;\n",
       "        });\n",
       "        }\n",
       "        </script>\n",
       "        "
      ]
     },
     "metadata": {},
     "output_type": "display_data"
    }
   ],
   "source": [
    "# Scientific libraries\n",
    "              \n",
    "import numpy as np              \n",
    "import scipy as sp              \n",
    "import pandas as pd              \n",
    "import json              \n",
    "import missingno as msno              \n",
    "\n",
    "# Loading Plotting Modules\n",
    "              \n",
    "import matplotlib              \n",
    "import matplotlib.pyplot as plt              \n",
    "import seaborn as sns              \n",
    "%matplotlib inline              \n",
    "import chart_studio.plotly as py              \n",
    "import plotly.figure_factory as ff              \n",
    "import plotly.graph_objects as go              \n",
    "import plotly.express as px              \n",
    "from plotly.offline import download_plotlyjs, init_notebook_mode, plot, iplot              \n",
    "init_notebook_mode(connected=True)              \n",
    "\n",
    "# Setting Data Frame Options\n",
    "              \n",
    "pd.set_option('display.max_rows', 40)              \n",
    "pd.set_option('display.max_columns', 50)              \n",
    "pd.set_option('display.width', 100)              \n",
    "pd.set_option('display.max_colwidth', 100)              \n",
    "\n",
    "# Setting Plot Configuration\n",
    "              \n",
    "sns.set(rc={'figure.figsize':(19,11)}, style = 'white')              \n",
    "\n",
    "import katana.nbutil as ktn\n",
    "              \n",
    "import os"
   ]
  },
  {
   "cell_type": "code",
   "execution_count": 4,
   "metadata": {
    "ExecuteTime": {
     "end_time": "2019-08-14T13:18:48.988581Z",
     "start_time": "2019-08-14T13:18:48.978751Z"
    }
   },
   "outputs": [],
   "source": [
    "import configparser\n",
    "\n",
    "wd = os.getcwd()\n",
    "pardir = os.path.join(wd, os.pardir, )\n",
    "\n",
    "_CFG_FILE = os.path.join(pardir, os.pardir, 'default.cfg')\n",
    "\n",
    "cfg = configparser.ConfigParser()\n",
    "cfg.read(_CFG_FILE)\n",
    "categoric_trs = json.loads(cfg['default']['categoric_transaction'])\n",
    "categoric_id = json.loads(cfg['default']['categoric_id'])"
   ]
  },
  {
   "cell_type": "markdown",
   "metadata": {},
   "source": [
    "## Data set\n",
    "\n",
    "We will only use transaction dataset and we will not be using identity data set for the first part as identity data would yield huge amount of missing values. Instead we would go for optimizing missing rows/columns for transaction data set only."
   ]
  },
  {
   "cell_type": "code",
   "execution_count": 119,
   "metadata": {
    "ExecuteTime": {
     "end_time": "2019-08-14T15:59:07.061574Z",
     "start_time": "2019-08-14T15:58:32.823958Z"
    }
   },
   "outputs": [
    {
     "name": "stdout",
     "output_type": "stream",
     "text": [
      "Data Frame: 590540 x 394\n"
     ]
    },
    {
     "data": {
      "text/html": [
       "<div>\n",
       "<style scoped>\n",
       "    .dataframe tbody tr th:only-of-type {\n",
       "        vertical-align: middle;\n",
       "    }\n",
       "\n",
       "    .dataframe tbody tr th {\n",
       "        vertical-align: top;\n",
       "    }\n",
       "\n",
       "    .dataframe thead th {\n",
       "        text-align: right;\n",
       "    }\n",
       "</style>\n",
       "<table border=\"1\" class=\"dataframe\">\n",
       "  <thead>\n",
       "    <tr style=\"text-align: right;\">\n",
       "      <th></th>\n",
       "      <th>TransactionID</th>\n",
       "      <th>isFraud</th>\n",
       "      <th>TransactionDT</th>\n",
       "      <th>TransactionAmt</th>\n",
       "      <th>ProductCD</th>\n",
       "      <th>card1</th>\n",
       "      <th>card2</th>\n",
       "      <th>card3</th>\n",
       "      <th>card4</th>\n",
       "      <th>card5</th>\n",
       "      <th>card6</th>\n",
       "      <th>addr1</th>\n",
       "      <th>addr2</th>\n",
       "      <th>dist1</th>\n",
       "      <th>dist2</th>\n",
       "      <th>P_emaildomain</th>\n",
       "      <th>R_emaildomain</th>\n",
       "      <th>C1</th>\n",
       "      <th>C2</th>\n",
       "      <th>C3</th>\n",
       "      <th>C4</th>\n",
       "      <th>C5</th>\n",
       "      <th>C6</th>\n",
       "      <th>C7</th>\n",
       "      <th>C8</th>\n",
       "      <th>...</th>\n",
       "      <th>V315</th>\n",
       "      <th>V316</th>\n",
       "      <th>V317</th>\n",
       "      <th>V318</th>\n",
       "      <th>V319</th>\n",
       "      <th>V320</th>\n",
       "      <th>V321</th>\n",
       "      <th>V322</th>\n",
       "      <th>V323</th>\n",
       "      <th>V324</th>\n",
       "      <th>V325</th>\n",
       "      <th>V326</th>\n",
       "      <th>V327</th>\n",
       "      <th>V328</th>\n",
       "      <th>V329</th>\n",
       "      <th>V330</th>\n",
       "      <th>V331</th>\n",
       "      <th>V332</th>\n",
       "      <th>V333</th>\n",
       "      <th>V334</th>\n",
       "      <th>V335</th>\n",
       "      <th>V336</th>\n",
       "      <th>V337</th>\n",
       "      <th>V338</th>\n",
       "      <th>V339</th>\n",
       "    </tr>\n",
       "  </thead>\n",
       "  <tbody>\n",
       "    <tr>\n",
       "      <th>0</th>\n",
       "      <td>2987000</td>\n",
       "      <td>0</td>\n",
       "      <td>86400</td>\n",
       "      <td>68.5</td>\n",
       "      <td>W</td>\n",
       "      <td>13926</td>\n",
       "      <td>NaN</td>\n",
       "      <td>150.0</td>\n",
       "      <td>discover</td>\n",
       "      <td>142.0</td>\n",
       "      <td>credit</td>\n",
       "      <td>315.0</td>\n",
       "      <td>87.0</td>\n",
       "      <td>19.0</td>\n",
       "      <td>NaN</td>\n",
       "      <td>NaN</td>\n",
       "      <td>NaN</td>\n",
       "      <td>1.0</td>\n",
       "      <td>1.0</td>\n",
       "      <td>0.0</td>\n",
       "      <td>0.0</td>\n",
       "      <td>0.0</td>\n",
       "      <td>1.0</td>\n",
       "      <td>0.0</td>\n",
       "      <td>0.0</td>\n",
       "      <td>...</td>\n",
       "      <td>0.0</td>\n",
       "      <td>0.0</td>\n",
       "      <td>117.0</td>\n",
       "      <td>0.0</td>\n",
       "      <td>0.0</td>\n",
       "      <td>0.0</td>\n",
       "      <td>0.0</td>\n",
       "      <td>NaN</td>\n",
       "      <td>NaN</td>\n",
       "      <td>NaN</td>\n",
       "      <td>NaN</td>\n",
       "      <td>NaN</td>\n",
       "      <td>NaN</td>\n",
       "      <td>NaN</td>\n",
       "      <td>NaN</td>\n",
       "      <td>NaN</td>\n",
       "      <td>NaN</td>\n",
       "      <td>NaN</td>\n",
       "      <td>NaN</td>\n",
       "      <td>NaN</td>\n",
       "      <td>NaN</td>\n",
       "      <td>NaN</td>\n",
       "      <td>NaN</td>\n",
       "      <td>NaN</td>\n",
       "      <td>NaN</td>\n",
       "    </tr>\n",
       "    <tr>\n",
       "      <th>1</th>\n",
       "      <td>2987001</td>\n",
       "      <td>0</td>\n",
       "      <td>86401</td>\n",
       "      <td>29.0</td>\n",
       "      <td>W</td>\n",
       "      <td>2755</td>\n",
       "      <td>404.0</td>\n",
       "      <td>150.0</td>\n",
       "      <td>mastercard</td>\n",
       "      <td>102.0</td>\n",
       "      <td>credit</td>\n",
       "      <td>325.0</td>\n",
       "      <td>87.0</td>\n",
       "      <td>NaN</td>\n",
       "      <td>NaN</td>\n",
       "      <td>gmail.com</td>\n",
       "      <td>NaN</td>\n",
       "      <td>1.0</td>\n",
       "      <td>1.0</td>\n",
       "      <td>0.0</td>\n",
       "      <td>0.0</td>\n",
       "      <td>0.0</td>\n",
       "      <td>1.0</td>\n",
       "      <td>0.0</td>\n",
       "      <td>0.0</td>\n",
       "      <td>...</td>\n",
       "      <td>0.0</td>\n",
       "      <td>0.0</td>\n",
       "      <td>0.0</td>\n",
       "      <td>0.0</td>\n",
       "      <td>0.0</td>\n",
       "      <td>0.0</td>\n",
       "      <td>0.0</td>\n",
       "      <td>NaN</td>\n",
       "      <td>NaN</td>\n",
       "      <td>NaN</td>\n",
       "      <td>NaN</td>\n",
       "      <td>NaN</td>\n",
       "      <td>NaN</td>\n",
       "      <td>NaN</td>\n",
       "      <td>NaN</td>\n",
       "      <td>NaN</td>\n",
       "      <td>NaN</td>\n",
       "      <td>NaN</td>\n",
       "      <td>NaN</td>\n",
       "      <td>NaN</td>\n",
       "      <td>NaN</td>\n",
       "      <td>NaN</td>\n",
       "      <td>NaN</td>\n",
       "      <td>NaN</td>\n",
       "      <td>NaN</td>\n",
       "    </tr>\n",
       "    <tr>\n",
       "      <th>2</th>\n",
       "      <td>2987002</td>\n",
       "      <td>0</td>\n",
       "      <td>86469</td>\n",
       "      <td>59.0</td>\n",
       "      <td>W</td>\n",
       "      <td>4663</td>\n",
       "      <td>490.0</td>\n",
       "      <td>150.0</td>\n",
       "      <td>visa</td>\n",
       "      <td>166.0</td>\n",
       "      <td>debit</td>\n",
       "      <td>330.0</td>\n",
       "      <td>87.0</td>\n",
       "      <td>287.0</td>\n",
       "      <td>NaN</td>\n",
       "      <td>outlook.com</td>\n",
       "      <td>NaN</td>\n",
       "      <td>1.0</td>\n",
       "      <td>1.0</td>\n",
       "      <td>0.0</td>\n",
       "      <td>0.0</td>\n",
       "      <td>0.0</td>\n",
       "      <td>1.0</td>\n",
       "      <td>0.0</td>\n",
       "      <td>0.0</td>\n",
       "      <td>...</td>\n",
       "      <td>0.0</td>\n",
       "      <td>0.0</td>\n",
       "      <td>0.0</td>\n",
       "      <td>0.0</td>\n",
       "      <td>0.0</td>\n",
       "      <td>0.0</td>\n",
       "      <td>0.0</td>\n",
       "      <td>NaN</td>\n",
       "      <td>NaN</td>\n",
       "      <td>NaN</td>\n",
       "      <td>NaN</td>\n",
       "      <td>NaN</td>\n",
       "      <td>NaN</td>\n",
       "      <td>NaN</td>\n",
       "      <td>NaN</td>\n",
       "      <td>NaN</td>\n",
       "      <td>NaN</td>\n",
       "      <td>NaN</td>\n",
       "      <td>NaN</td>\n",
       "      <td>NaN</td>\n",
       "      <td>NaN</td>\n",
       "      <td>NaN</td>\n",
       "      <td>NaN</td>\n",
       "      <td>NaN</td>\n",
       "      <td>NaN</td>\n",
       "    </tr>\n",
       "    <tr>\n",
       "      <th>3</th>\n",
       "      <td>2987003</td>\n",
       "      <td>0</td>\n",
       "      <td>86499</td>\n",
       "      <td>50.0</td>\n",
       "      <td>W</td>\n",
       "      <td>18132</td>\n",
       "      <td>567.0</td>\n",
       "      <td>150.0</td>\n",
       "      <td>mastercard</td>\n",
       "      <td>117.0</td>\n",
       "      <td>debit</td>\n",
       "      <td>476.0</td>\n",
       "      <td>87.0</td>\n",
       "      <td>NaN</td>\n",
       "      <td>NaN</td>\n",
       "      <td>yahoo.com</td>\n",
       "      <td>NaN</td>\n",
       "      <td>2.0</td>\n",
       "      <td>5.0</td>\n",
       "      <td>0.0</td>\n",
       "      <td>0.0</td>\n",
       "      <td>0.0</td>\n",
       "      <td>4.0</td>\n",
       "      <td>0.0</td>\n",
       "      <td>0.0</td>\n",
       "      <td>...</td>\n",
       "      <td>0.0</td>\n",
       "      <td>50.0</td>\n",
       "      <td>1404.0</td>\n",
       "      <td>790.0</td>\n",
       "      <td>0.0</td>\n",
       "      <td>0.0</td>\n",
       "      <td>0.0</td>\n",
       "      <td>NaN</td>\n",
       "      <td>NaN</td>\n",
       "      <td>NaN</td>\n",
       "      <td>NaN</td>\n",
       "      <td>NaN</td>\n",
       "      <td>NaN</td>\n",
       "      <td>NaN</td>\n",
       "      <td>NaN</td>\n",
       "      <td>NaN</td>\n",
       "      <td>NaN</td>\n",
       "      <td>NaN</td>\n",
       "      <td>NaN</td>\n",
       "      <td>NaN</td>\n",
       "      <td>NaN</td>\n",
       "      <td>NaN</td>\n",
       "      <td>NaN</td>\n",
       "      <td>NaN</td>\n",
       "      <td>NaN</td>\n",
       "    </tr>\n",
       "    <tr>\n",
       "      <th>4</th>\n",
       "      <td>2987004</td>\n",
       "      <td>0</td>\n",
       "      <td>86506</td>\n",
       "      <td>50.0</td>\n",
       "      <td>H</td>\n",
       "      <td>4497</td>\n",
       "      <td>514.0</td>\n",
       "      <td>150.0</td>\n",
       "      <td>mastercard</td>\n",
       "      <td>102.0</td>\n",
       "      <td>credit</td>\n",
       "      <td>420.0</td>\n",
       "      <td>87.0</td>\n",
       "      <td>NaN</td>\n",
       "      <td>NaN</td>\n",
       "      <td>gmail.com</td>\n",
       "      <td>NaN</td>\n",
       "      <td>1.0</td>\n",
       "      <td>1.0</td>\n",
       "      <td>0.0</td>\n",
       "      <td>0.0</td>\n",
       "      <td>0.0</td>\n",
       "      <td>1.0</td>\n",
       "      <td>0.0</td>\n",
       "      <td>1.0</td>\n",
       "      <td>...</td>\n",
       "      <td>0.0</td>\n",
       "      <td>0.0</td>\n",
       "      <td>0.0</td>\n",
       "      <td>0.0</td>\n",
       "      <td>0.0</td>\n",
       "      <td>0.0</td>\n",
       "      <td>0.0</td>\n",
       "      <td>0.0</td>\n",
       "      <td>0.0</td>\n",
       "      <td>0.0</td>\n",
       "      <td>0.0</td>\n",
       "      <td>0.0</td>\n",
       "      <td>0.0</td>\n",
       "      <td>0.0</td>\n",
       "      <td>0.0</td>\n",
       "      <td>0.0</td>\n",
       "      <td>0.0</td>\n",
       "      <td>0.0</td>\n",
       "      <td>0.0</td>\n",
       "      <td>0.0</td>\n",
       "      <td>0.0</td>\n",
       "      <td>0.0</td>\n",
       "      <td>0.0</td>\n",
       "      <td>0.0</td>\n",
       "      <td>0.0</td>\n",
       "    </tr>\n",
       "  </tbody>\n",
       "</table>\n",
       "<p>5 rows × 394 columns</p>\n",
       "</div>"
      ],
      "text/plain": [
       "   TransactionID  isFraud  TransactionDT  TransactionAmt ProductCD  card1  card2  card3  \\\n",
       "0        2987000        0          86400            68.5         W  13926    NaN  150.0   \n",
       "1        2987001        0          86401            29.0         W   2755  404.0  150.0   \n",
       "2        2987002        0          86469            59.0         W   4663  490.0  150.0   \n",
       "3        2987003        0          86499            50.0         W  18132  567.0  150.0   \n",
       "4        2987004        0          86506            50.0         H   4497  514.0  150.0   \n",
       "\n",
       "        card4  card5   card6  addr1  addr2  dist1  dist2 P_emaildomain R_emaildomain   C1   C2  \\\n",
       "0    discover  142.0  credit  315.0   87.0   19.0    NaN           NaN           NaN  1.0  1.0   \n",
       "1  mastercard  102.0  credit  325.0   87.0    NaN    NaN     gmail.com           NaN  1.0  1.0   \n",
       "2        visa  166.0   debit  330.0   87.0  287.0    NaN   outlook.com           NaN  1.0  1.0   \n",
       "3  mastercard  117.0   debit  476.0   87.0    NaN    NaN     yahoo.com           NaN  2.0  5.0   \n",
       "4  mastercard  102.0  credit  420.0   87.0    NaN    NaN     gmail.com           NaN  1.0  1.0   \n",
       "\n",
       "    C3   C4   C5   C6   C7   C8  ...  V315  V316    V317   V318  V319  V320  V321  V322  V323  \\\n",
       "0  0.0  0.0  0.0  1.0  0.0  0.0  ...   0.0   0.0   117.0    0.0   0.0   0.0   0.0   NaN   NaN   \n",
       "1  0.0  0.0  0.0  1.0  0.0  0.0  ...   0.0   0.0     0.0    0.0   0.0   0.0   0.0   NaN   NaN   \n",
       "2  0.0  0.0  0.0  1.0  0.0  0.0  ...   0.0   0.0     0.0    0.0   0.0   0.0   0.0   NaN   NaN   \n",
       "3  0.0  0.0  0.0  4.0  0.0  0.0  ...   0.0  50.0  1404.0  790.0   0.0   0.0   0.0   NaN   NaN   \n",
       "4  0.0  0.0  0.0  1.0  0.0  1.0  ...   0.0   0.0     0.0    0.0   0.0   0.0   0.0   0.0   0.0   \n",
       "\n",
       "   V324  V325  V326  V327  V328  V329  V330  V331  V332  V333  V334  V335 V336 V337 V338 V339  \n",
       "0   NaN   NaN   NaN   NaN   NaN   NaN   NaN   NaN   NaN   NaN   NaN   NaN  NaN  NaN  NaN  NaN  \n",
       "1   NaN   NaN   NaN   NaN   NaN   NaN   NaN   NaN   NaN   NaN   NaN   NaN  NaN  NaN  NaN  NaN  \n",
       "2   NaN   NaN   NaN   NaN   NaN   NaN   NaN   NaN   NaN   NaN   NaN   NaN  NaN  NaN  NaN  NaN  \n",
       "3   NaN   NaN   NaN   NaN   NaN   NaN   NaN   NaN   NaN   NaN   NaN   NaN  NaN  NaN  NaN  NaN  \n",
       "4   0.0   0.0   0.0   0.0   0.0   0.0   0.0   0.0   0.0   0.0   0.0   0.0  0.0  0.0  0.0  0.0  \n",
       "\n",
       "[5 rows x 394 columns]"
      ]
     },
     "execution_count": 119,
     "metadata": {},
     "output_type": "execute_result"
    }
   ],
   "source": [
    "df_train = pd.read_csv('../../data/train_transaction.csv.zip')               \n",
    "m_train, n_train = df_train.shape\n",
    "print('Data Frame: {} x {}'.format(m_train,n_train))                \n",
    "df_train.head()"
   ]
  },
  {
   "cell_type": "code",
   "execution_count": 8,
   "metadata": {
    "ExecuteTime": {
     "end_time": "2019-08-14T13:21:29.605027Z",
     "start_time": "2019-08-14T13:21:29.600385Z"
    },
    "hide_input": true,
    "scrolled": false
   },
   "outputs": [],
   "source": [
    "# Will not be using this part.\n",
    "# df_train_idx = pd.read_csv('../data/train_identity.csv.zip')\n",
    "# print('DataFrame: %d x %d' % df_train_idx.shape)\n",
    "# df_train_idx.head()"
   ]
  },
  {
   "cell_type": "code",
   "execution_count": 120,
   "metadata": {
    "ExecuteTime": {
     "end_time": "2019-08-14T15:59:19.046914Z",
     "start_time": "2019-08-14T15:59:07.064466Z"
    },
    "scrolled": false
   },
   "outputs": [
    {
     "data": {
      "image/png": "[encoded data removed]",
      "text/plain": [
       "<Figure size 1368x792 with 1 Axes>"
      ]
     },
     "metadata": {},
     "output_type": "display_data"
    }
   ],
   "source": [
    "train_na_counts = df_train.isna().sum().sort_values()\n",
    "train_na_counts = 100*(train_na_counts / df_train.shape[0])\n",
    "sns.barplot(y=train_na_counts.index, x= train_na_counts,\n",
    "           palette='rocket')\n",
    "None"
   ]
  },
  {
   "cell_type": "code",
   "execution_count": 121,
   "metadata": {
    "ExecuteTime": {
     "end_time": "2019-08-14T15:59:19.074470Z",
     "start_time": "2019-08-14T15:59:19.059650Z"
    },
    "code_folding": []
   },
   "outputs": [],
   "source": [
    "def highlight_bg(val):\n",
    "    \"\"\"\n",
    "    Takes a scalar and returns a string with\n",
    "    the css property `'color: red'` for negative\n",
    "    strings, black otherwise.\n",
    "    \"\"\"\n",
    "    color = 'yellow' if isinstance(val, str) else ''\n",
    "    return 'background-color: %s' % color\n",
    "\n",
    "def missing_percentage(cols:list, df):\n",
    "    result = pd.DataFrame()\n",
    "    col_names = []\n",
    "    for col in cols:\n",
    "        dict_table = {}\n",
    "        series = 100*(df[col].value_counts(dropna=False)/df.shape[0])\n",
    "        cats = pd.Series(series.index.ravel())\n",
    "        cats = cats.apply(str)\n",
    "        vals = series.values.ravel()\n",
    "        dict_table[col+'_cats'] = cats\n",
    "        dict_table[col] = vals\n",
    "        col_names.extend(dict_table.keys())\n",
    "        result = pd.concat([result,pd.DataFrame(dict_table)], ignore_index=True, axis=1)\n",
    "    result.columns = col_names\n",
    "    result.to_csv('missing_categorical.csv.gz', compression='gzip')\n",
    "    result = result.style.applymap(highlight_bg)\n",
    "    return result"
   ]
  },
  {
   "cell_type": "code",
   "execution_count": 122,
   "metadata": {
    "ExecuteTime": {
     "end_time": "2019-08-14T15:59:24.487307Z",
     "start_time": "2019-08-14T15:59:19.077561Z"
    }
   },
   "outputs": [],
   "source": [
    "threshold = int(m_train*.95)\n",
    "df_train.dropna(thresh=threshold, axis=1, inplace=True)"
   ]
  },
  {
   "cell_type": "code",
   "execution_count": 123,
   "metadata": {
    "ExecuteTime": {
     "end_time": "2019-08-14T15:59:24.495514Z",
     "start_time": "2019-08-14T15:59:24.489640Z"
    }
   },
   "outputs": [
    {
     "name": "stdout",
     "output_type": "stream",
     "text": [
      "Train shape: (590540, 112)\n"
     ]
    }
   ],
   "source": [
    "print('Train shape:', df_train.shape)"
   ]
  },
  {
   "cell_type": "code",
   "execution_count": 124,
   "metadata": {
    "ExecuteTime": {
     "end_time": "2019-08-14T15:59:25.701330Z",
     "start_time": "2019-08-14T15:59:24.501629Z"
    },
    "scrolled": true
   },
   "outputs": [
    {
     "data": {
      "text/plain": [
       "card2             1.512683\n",
       "card5             0.721204\n",
       "card4             0.267044\n",
       "card6             0.266028\n",
       "card3             0.265012\n",
       "V283              0.214888\n",
       "V282              0.214888\n",
       "V300              0.214888\n",
       "V301              0.214888\n",
       "V289              0.214888\n",
       "V288              0.214888\n",
       "V281              0.214888\n",
       "D1                0.214888\n",
       "V313              0.214888\n",
       "V314              0.214888\n",
       "V315              0.214888\n",
       "V296              0.214888\n",
       "V133              0.053172\n",
       "V117              0.053172\n",
       "V118              0.053172\n",
       "                    ...   \n",
       "TransactionDT     0.000000\n",
       "card1             0.000000\n",
       "ProductCD         0.000000\n",
       "TransactionAmt    0.000000\n",
       "C2                0.000000\n",
       "isFraud           0.000000\n",
       "C1                0.000000\n",
       "C6                0.000000\n",
       "C3                0.000000\n",
       "C4                0.000000\n",
       "C5                0.000000\n",
       "C7                0.000000\n",
       "C8                0.000000\n",
       "C9                0.000000\n",
       "C10               0.000000\n",
       "C11               0.000000\n",
       "C12               0.000000\n",
       "C13               0.000000\n",
       "C14               0.000000\n",
       "TransactionID     0.000000\n",
       "Length: 112, dtype: float64"
      ]
     },
     "execution_count": 124,
     "metadata": {},
     "output_type": "execute_result"
    }
   ],
   "source": [
    "(100*(df_train.isna().sum()/df_train.shape[0])).sort_values(ascending=False)"
   ]
  },
  {
   "cell_type": "code",
   "execution_count": 125,
   "metadata": {
    "ExecuteTime": {
     "end_time": "2019-08-14T15:59:35.704979Z",
     "start_time": "2019-08-14T15:59:35.700451Z"
    },
    "scrolled": true
   },
   "outputs": [],
   "source": [
    "categoric_feature_set = set(categoric_trs)\n",
    "train_feature_set = set(df_train.columns.tolist())\n",
    "new_categorical_features = list(categoric_feature_set.intersection(train_feature_set))\n",
    "new_numeric_features = list(train_feature_set - categoric_feature_set)"
   ]
  },
  {
   "cell_type": "code",
   "execution_count": 126,
   "metadata": {
    "ExecuteTime": {
     "end_time": "2019-08-14T15:59:36.666443Z",
     "start_time": "2019-08-14T15:59:36.662400Z"
    }
   },
   "outputs": [],
   "source": [
    "fillna_dict = {}\n",
    "for f in categoric_feature_set:\n",
    "    fillna_dict[f] = 'Other'"
   ]
  },
  {
   "cell_type": "code",
   "execution_count": 129,
   "metadata": {
    "ExecuteTime": {
     "end_time": "2019-08-14T16:00:13.882819Z",
     "start_time": "2019-08-14T16:00:12.271155Z"
    }
   },
   "outputs": [],
   "source": [
    "df_train.fillna(value=fillna_dict, inplace=True)"
   ]
  },
  {
   "cell_type": "code",
   "execution_count": 132,
   "metadata": {
    "ExecuteTime": {
     "end_time": "2019-08-14T16:00:52.481255Z",
     "start_time": "2019-08-14T16:00:52.190888Z"
    }
   },
   "outputs": [
    {
     "data": {
      "text/plain": [
       "ProductCD    0\n",
       "card3        0\n",
       "card6        0\n",
       "card1        0\n",
       "card2        0\n",
       "card5        0\n",
       "card4        0\n",
       "dtype: int64"
      ]
     },
     "execution_count": 132,
     "metadata": {},
     "output_type": "execute_result"
    }
   ],
   "source": [
    "df_train[new_categorical_features].isna().sum()"
   ]
  },
  {
   "cell_type": "code",
   "execution_count": 134,
   "metadata": {
    "ExecuteTime": {
     "end_time": "2019-08-14T16:02:13.889064Z",
     "start_time": "2019-08-14T16:02:12.246756Z"
    }
   },
   "outputs": [],
   "source": [
    "X = df_train.dropna()"
   ]
  },
  {
   "cell_type": "code",
   "execution_count": 135,
   "metadata": {
    "ExecuteTime": {
     "end_time": "2019-08-14T16:02:16.949571Z",
     "start_time": "2019-08-14T16:02:16.941319Z"
    }
   },
   "outputs": [
    {
     "data": {
      "text/plain": [
       "(589099, 112)"
      ]
     },
     "execution_count": 135,
     "metadata": {},
     "output_type": "execute_result"
    }
   ],
   "source": [
    "X.shape"
   ]
  },
  {
   "cell_type": "code",
   "execution_count": 136,
   "metadata": {
    "ExecuteTime": {
     "end_time": "2019-08-14T16:04:45.205603Z",
     "start_time": "2019-08-14T16:04:44.988008Z"
    }
   },
   "outputs": [
    {
     "name": "stdout",
     "output_type": "stream",
     "text": [
      "5 classes for column ProductCD\n",
      "115 classes for column card3\n",
      "5 classes for column card6\n",
      "13537 classes for column card1\n",
      "501 classes for column card2\n",
      "120 classes for column card5\n",
      "5 classes for column card4\n"
     ]
    }
   ],
   "source": [
    "for col in new_categorical_features:\n",
    "    cls_size = X[col].nunique()\n",
    "    print(f'{cls_size} classes for column {col}')"
   ]
  },
  {
   "cell_type": "code",
   "execution_count": null,
   "metadata": {},
   "outputs": [],
   "source": []
  },
  {
   "cell_type": "code",
   "execution_count": 103,
   "metadata": {
    "ExecuteTime": {
     "end_time": "2019-08-11T09:14:05.573632Z",
     "start_time": "2019-08-11T09:14:05.570191Z"
    }
   },
   "outputs": [],
   "source": [
    "categoric_trs.extend(categoric_id)"
   ]
  },
  {
   "cell_type": "code",
   "execution_count": 109,
   "metadata": {
    "ExecuteTime": {
     "end_time": "2019-08-11T09:15:23.737993Z",
     "start_time": "2019-08-11T09:15:23.734085Z"
    }
   },
   "outputs": [],
   "source": [
    "categoric_features = categoric_trs"
   ]
  },
  {
   "cell_type": "code",
   "execution_count": 111,
   "metadata": {
    "ExecuteTime": {
     "end_time": "2019-08-11T09:15:31.742201Z",
     "start_time": "2019-08-11T09:15:31.736231Z"
    }
   },
   "outputs": [],
   "source": [
    "train_cols = train.columns\n",
    "numeric_features = train_cols[~train_cols.isin(categoric_features)]"
   ]
  },
  {
   "cell_type": "markdown",
   "metadata": {
    "hide_input": false
   },
   "source": [
    "### Missing Cases\n",
    "Train Identity data frame contains roughly 1/5 rows of the Transaction DataFrame, so many of the transaction data frame would be missing.\n",
    "#### 1. Merging\n",
    "Joining two tables would not be appropriate if missing cases would outnumber the whole data. Thus, want to eliminate columns that has many missing. Otherwise, we eliminate missing values row-wise."
   ]
  },
  {
   "cell_type": "code",
   "execution_count": 115,
   "metadata": {
    "ExecuteTime": {
     "end_time": "2019-08-11T09:17:48.799670Z",
     "start_time": "2019-08-11T09:17:46.277048Z"
    }
   },
   "outputs": [
    {
     "data": {
      "text/plain": [
       "isFraud           False\n",
       "TransactionDT     False\n",
       "TransactionAmt    False\n",
       "dist1              True\n",
       "C1                False\n",
       "C2                False\n",
       "C3                False\n",
       "C4                False\n",
       "C5                False\n",
       "C6                False\n",
       "C7                False\n",
       "C8                False\n",
       "C9                False\n",
       "C10               False\n",
       "C11               False\n",
       "C12               False\n",
       "C13               False\n",
       "C14               False\n",
       "D1                False\n",
       "D2                 True\n",
       "                  ...  \n",
       "V311              False\n",
       "V312              False\n",
       "V313              False\n",
       "V314              False\n",
       "V315              False\n",
       "V316              False\n",
       "V317              False\n",
       "V318              False\n",
       "V319              False\n",
       "V320              False\n",
       "V321              False\n",
       "id_01              True\n",
       "id_02              True\n",
       "id_03              True\n",
       "id_04              True\n",
       "id_05              True\n",
       "id_06              True\n",
       "id_09              True\n",
       "id_10              True\n",
       "id_11              True\n",
       "Length: 215, dtype: bool"
      ]
     },
     "execution_count": 115,
     "metadata": {},
     "output_type": "execute_result"
    }
   ],
   "source": [
    "(train[numeric_features].isna().sum()>280000)"
   ]
  },
  {
   "cell_type": "code",
   "execution_count": null,
   "metadata": {},
   "outputs": [],
   "source": []
  }
 ],
 "metadata": {
  "hide_input": false,
  "kernelspec": {
   "display_name": "Python 3",
   "language": "python",
   "name": "python3"
  },
  "language_info": {
   "codemirror_mode": {
    "name": "ipython",
    "version": 3
   },
   "file_extension": ".py",
   "mimetype": "text/x-python",
   "name": "python",
   "nbconvert_exporter": "python",
   "pygments_lexer": "ipython3",
   "version": "3.7.1"
  },
  "toc": {
   "base_numbering": 1,
   "nav_menu": {},
   "number_sections": true,
   "sideBar": true,
   "skip_h1_title": false,
   "title_cell": "Table of Contents",
   "title_sidebar": "Contents",
   "toc_cell": false,
   "toc_position": {},
   "toc_section_display": true,
   "toc_window_display": false
  }
 },
 "nbformat": 4,
 "nbformat_minor": 2
}
