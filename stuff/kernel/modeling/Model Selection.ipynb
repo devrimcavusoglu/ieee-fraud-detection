{
 "cells": [
  {
   "cell_type": "code",
   "execution_count": 2,
   "metadata": {
    "ExecuteTime": {
     "end_time": "2019-09-27T17:23:02.156216Z",
     "start_time": "2019-09-27T17:23:02.138622Z"
    }
   },
   "outputs": [
    {
     "data": {
      "text/html": [
       "        <script type=\"text/javascript\">\n",
       "        window.PlotlyConfig = {MathJaxConfig: 'local'};\n",
       "        if (window.MathJax) {MathJax.Hub.Config({SVG: {font: \"STIX-Web\"}});}\n",
       "        if (typeof require !== 'undefined') {\n",
       "        require.undef(\"plotly\");\n",
       "        requirejs.config({\n",
       "            paths: {\n",
       "                'plotly': ['https://cdn.plot.ly/plotly-latest.min']\n",
       "            }\n",
       "        });\n",
       "        require(['plotly'], function(Plotly) {\n",
       "            window._Plotly = Plotly;\n",
       "        });\n",
       "        }\n",
       "        </script>\n",
       "        "
      ]
     },
     "metadata": {},
     "output_type": "display_data"
    }
   ],
   "source": [
    "# Scientific libraries\n",
    "              \n",
    "import numpy as np              \n",
    "import scipy as sp              \n",
    "import pandas as pd              \n",
    "import json              \n",
    "import missingno as msno              \n",
    "\n",
    "# Loading Plotting Modules\n",
    "              \n",
    "import matplotlib              \n",
    "import matplotlib.pyplot as plt              \n",
    "import seaborn as sns              \n",
    "%matplotlib inline              \n",
    "import chart_studio.plotly as py              \n",
    "import plotly.figure_factory as ff              \n",
    "import plotly.graph_objects as go              \n",
    "import plotly.express as px              \n",
    "from plotly.offline import download_plotlyjs, init_notebook_mode, plot, iplot              \n",
    "init_notebook_mode(connected=True)              \n",
    "\n",
    "# Setting Data Frame Options\n",
    "              \n",
    "pd.set_option('display.max_rows', 40)              \n",
    "pd.set_option('display.max_columns', 50)              \n",
    "pd.set_option('display.width', 100)              \n",
    "pd.set_option('display.max_colwidth', 100)              \n",
    "\n",
    "# Setting Plot Configuration\n",
    "              \n",
    "sns.set(rc={'figure.figsize':(19,11)}, style = 'white')              \n",
    "\n",
    "# import katana.nbutil as ktn\n",
    "              \n",
    "import os"
   ]
  },
  {
   "cell_type": "code",
   "execution_count": 7,
   "metadata": {
    "ExecuteTime": {
     "end_time": "2019-09-27T17:23:02.254573Z",
     "start_time": "2019-09-27T17:23:02.160792Z"
    }
   },
   "outputs": [],
   "source": [
    "import os\n",
    "import gc\n",
    "import time\n",
    " \n",
    "from sklearn.model_selection import train_test_split\n",
    "from sklearn.model_selection import StratifiedShuffleSplit\n",
    "from sklearn.metrics import confusion_matrix, roc_auc_score\n",
    "from sklearn.metrics import auc, roc_curve"
   ]
  },
  {
   "cell_type": "code",
   "execution_count": 4,
   "metadata": {
    "ExecuteTime": {
     "end_time": "2019-09-27T17:23:02.608955Z",
     "start_time": "2019-09-27T17:23:02.588129Z"
    }
   },
   "outputs": [],
   "source": [
    "def auc_plot_score(model_pred_fn, X_train, X_test, y_train, y_test, dim=2): # Function to take a shortcut of printing plots and \n",
    "                                                                            # scores of auc for both train and test sets\n",
    "    import matplotlib.pyplot as plt\n",
    "    from sklearn.metrics import auc, roc_curve\n",
    "    %matplotlib inline\n",
    "    \n",
    "    fig, axs = plt.subplots(nrows=1, ncols=2, figsize=(12,5))\n",
    "    fig.suptitle('AUC Plots', fontsize=20)\n",
    "    \n",
    "    if dim == 1:\n",
    "        proba_train = model_pred_fn(X_train)\n",
    "        proba_test  = model_pred_fn(X_test)\n",
    "    elif dim == 2:\n",
    "        proba_train = model_pred_fn(X_train)[:,1]\n",
    "        proba_test  = model_pred_fn(X_test)[:,1]\n",
    "        \n",
    "    fpr_train, tpr_train, _ = roc_curve(y_train, proba_train, pos_label=1, drop_intermediate=False)\n",
    "    auc_train = round(auc(fpr_train, tpr_train),5)\n",
    "    \n",
    "    fpr_test,  tpr_test , _ = roc_curve(y_test , proba_test,  pos_label=1, drop_intermediate=False)\n",
    "    auc_test = round(auc(fpr_test, tpr_test), 5)\n",
    "    \n",
    "    axs[0].plot([0, 1], [0, 1], linestyle='--')\n",
    "    axs[0].plot(fpr_train, tpr_train, marker='.')\n",
    "    axs[0].set_title('Train')\n",
    "    axs[0].set_xlabel(auc_train, fontsize=15)\n",
    "    \n",
    "    axs[1].plot([0, 1], [0, 1], linestyle='--')\n",
    "    axs[1].plot(fpr_test, tpr_test, marker='.')\n",
    "    axs[1].set_title('Test')\n",
    "    axs[1].set_xlabel(auc_test, fontsize=15)\n",
    "    \n",
    "    plt.tight_layout()\n",
    "    fig.subplots_adjust(top=0.85)\n",
    "    plt.show()\n",
    "    \n",
    "    print(f'Train-set AUC Score = {auc_train}\\nTest-set AUC Score = {auc_test}')"
   ]
  },
  {
   "cell_type": "code",
   "execution_count": 5,
   "metadata": {
    "ExecuteTime": {
     "end_time": "2019-09-27T17:23:07.454914Z",
     "start_time": "2019-09-27T17:23:04.250801Z"
    }
   },
   "outputs": [
    {
     "data": {
      "text/plain": [
       "2448"
      ]
     },
     "execution_count": 5,
     "metadata": {},
     "output_type": "execute_result"
    }
   ],
   "source": [
    "train = pd.read_parquet('./model_data/reduced_processed/train_set.pqt.gz')\n",
    "y = train.isFraud\n",
    "X = train.drop('isFraud', axis=1)\n",
    "\n",
    "del train\n",
    "gc.collect()"
   ]
  },
  {
   "cell_type": "code",
   "execution_count": 8,
   "metadata": {
    "ExecuteTime": {
     "end_time": "2019-09-27T17:23:11.911547Z",
     "start_time": "2019-09-27T17:23:11.755780Z"
    }
   },
   "outputs": [],
   "source": [
    "import lightgbm as lgb\n",
    "\n",
    "lgb_train = lgb.Dataset(data=X, label=y)"
   ]
  },
  {
   "cell_type": "code",
   "execution_count": 9,
   "metadata": {},
   "outputs": [],
   "source": [
    "def lgbm_cv(boosting_types: list = ['gbdt']):\n",
    "    \n",
    "    res = {}\n",
    "    start_time = time.time()\n",
    "    \n",
    "    for bt in boosting_types:\n",
    "    \n",
    "        cv_model_params = dict(\n",
    "            task='train',\n",
    "            boosting_type=bt,\n",
    "            num_leaves=31,\n",
    "            max_depth=-1,\n",
    "            learning_rate=0.05,\n",
    "            n_estimators=X.shape[1],\n",
    "            subsample_for_bin=200000,\n",
    "            objective='binary',\n",
    "            class_weight=None,\n",
    "            min_split_gain=0.0,\n",
    "            min_child_weight=0.001,\n",
    "            min_child_samples=20,\n",
    "            subsample=1.0,\n",
    "            subsample_freq=0,\n",
    "            colsample_bytree=1.0,\n",
    "            reg_alpha=0.1,\n",
    "            reg_lambda=0.1,\n",
    "            random_state=None,\n",
    "            n_jobs=-1,\n",
    "            silent=True,\n",
    "            importance_type='split',\n",
    "            verbose=-1\n",
    "    )\n",
    "\n",
    "        cv_params = dict(\n",
    "            params=cv_model_params,\n",
    "            train_set=lgb_train,\n",
    "            num_boost_round=750,\n",
    "            folds=None,\n",
    "            nfold=5,\n",
    "            stratified=True,\n",
    "            shuffle=True,\n",
    "            metrics='auc',\n",
    "            fobj=None,\n",
    "            feval=None,\n",
    "            init_model=None,\n",
    "            feature_name='auto',\n",
    "            categorical_feature='auto',\n",
    "            early_stopping_rounds=None,\n",
    "            fpreproc=None,\n",
    "            verbose_eval=None,\n",
    "            show_stdv=True,\n",
    "            seed=0,\n",
    "            callbacks=None\n",
    "    )\n",
    "\n",
    "        res[bt] = lgb.cv(**cv_params)\n",
    "        \n",
    "        time_elapsed = time.time() - start_time\n",
    "        print(f'Time Elapsed for \"{bt}\": {time_elapsed} seconds')\n",
    "        start_time = time.time()\n",
    "        \n",
    "    return res"
   ]
  },
  {
   "cell_type": "code",
   "execution_count": null,
   "metadata": {
    "ExecuteTime": {
     "end_time": "2019-09-27T18:29:26.385227Z",
     "start_time": "2019-09-27T18:18:51.961312Z"
    },
    "code_folding": []
   },
   "outputs": [
    {
     "name": "stderr",
     "output_type": "stream",
     "text": [
      "c:\\python37\\lib\\site-packages\\lightgbm\\engine.py:430: UserWarning:\n",
      "\n",
      "Found `n_estimators` in params. Will use it instead of argument\n",
      "\n",
      "c:\\python37\\lib\\site-packages\\lightgbm\\basic.py:741: UserWarning:\n",
      "\n",
      "silent keyword has been found in `params` and will be ignored.\n",
      "Please use silent argument of the Dataset constructor to pass this parameter.\n",
      "\n"
     ]
    }
   ],
   "source": [
    "%%time\n",
    "\n",
    "boosting_types = [t.strip() for t in \"gbdt, rf, dart, goss\".split(',')]\n",
    "\n",
    "eval_hist = lgbm_cv(boosting_types=boosting_types)"
   ]
  },
  {
   "cell_type": "code",
   "execution_count": 8,
   "metadata": {
    "ExecuteTime": {
     "end_time": "2019-09-27T18:32:35.039624Z",
     "start_time": "2019-09-27T18:32:34.631032Z"
    }
   },
   "outputs": [
    {
     "data": {
      "application/vnd.plotly.v1+json": {
       "config": {
        "plotlyServerURL": "https://plot.ly"
       },
       "data": [
        {
         "hoverlabel": {
          "namelength": 0
         },
         "hovertemplate": "auc-mean=%{y}",
         "legendgroup": "",
         "line": {
          "color": "#636efa",
          "dash": "solid"
         },
         "mode": "lines",
         "name": "",
         "showlegend": false,
         "type": "scatter",
         "xaxis": "x",
         "y": [
          0.8001961429957726,
          0.8160095674353695,
          0.831155480769975,
          0.8523108455609499,
          0.8547457680949521,
          0.8573202850909789,
          0.8597167630296738,
          0.8622092190644057,
          0.863960166782445,
          0.866004256188288,
          0.8683688659407389,
          0.869929966291863,
          0.8713911461537265,
          0.8725877706689534,
          0.873878617293626,
          0.8751602304341102,
          0.8763507012759824,
          0.8773338819100822,
          0.8780700695917382,
          0.8791899363660901,
          0.8800528624029884,
          0.8809388146322412,
          0.8818045371603533,
          0.8824562613026148,
          0.8830901030718487,
          0.8837397436853166,
          0.8842866061414668,
          0.8849828799154906,
          0.8857128450624714,
          0.8864549900114769,
          0.8871208898208474,
          0.8876694415296547,
          0.8884049189583475,
          0.8895074414195653,
          0.8904296483575234,
          0.891026033692123,
          0.8918677058623402,
          0.8925767743392594,
          0.8930849430504161,
          0.8934892206079926,
          0.8942374201242863,
          0.8950786275272554,
          0.89572090516752,
          0.896409970300911,
          0.8970401400164608,
          0.8978543557799291,
          0.8984104058537772,
          0.8989590317785708,
          0.8994248539891171,
          0.8999846392966825,
          0.9004985287813296,
          0.9009524999507994,
          0.9013236582904944,
          0.9019025216743193,
          0.9026354133009915,
          0.9031934022138002,
          0.9039409426652567,
          0.904528894053174,
          0.9049612218664749,
          0.9052835602523999,
          0.9056657110414339,
          0.9060579120074548,
          0.9063127952059201,
          0.9068741012256197,
          0.907201509959602,
          0.9077937234696065,
          0.9081798259799537,
          0.908538572470903,
          0.9088797415149266,
          0.9092130158594728,
          0.909761444840537,
          0.9100871063195106,
          0.9103554981093975,
          0.9107605718151122,
          0.9110366797167526,
          0.9114242360485513,
          0.9118892125826527,
          0.9121490326157289,
          0.9124382746923649,
          0.9127333437333458,
          0.9132025673191757,
          0.9135151255594998,
          0.913908069736711,
          0.9143780777934912,
          0.9148611005363311,
          0.9150728460970174,
          0.915445140056711,
          0.9156541430771101,
          0.9159087528785866,
          0.9160977332688202,
          0.91631774112234,
          0.9165789658017486,
          0.9169499802262168,
          0.9172129641671901,
          0.917448045798643,
          0.917718138440182,
          0.9181284866792468,
          0.9184185008552388,
          0.9186693158830952,
          0.9189512148273706
         ],
         "yaxis": "y"
        }
       ],
       "layout": {
        "height": 600,
        "legend": {
         "tracegroupgap": 0
        },
        "template": {
         "data": {
          "bar": [
           {
            "error_x": {
             "color": "#2a3f5f"
            },
            "error_y": {
             "color": "#2a3f5f"
            },
            "marker": {
             "line": {
              "color": "#E5ECF6",
              "width": 0.5
             }
            },
            "type": "bar"
           }
          ],
          "barpolar": [
           {
            "marker": {
             "line": {
              "color": "#E5ECF6",
              "width": 0.5
             }
            },
            "type": "barpolar"
           }
          ],
          "carpet": [
           {
            "aaxis": {
             "endlinecolor": "#2a3f5f",
             "gridcolor": "white",
             "linecolor": "white",
             "minorgridcolor": "white",
             "startlinecolor": "#2a3f5f"
            },
            "baxis": {
             "endlinecolor": "#2a3f5f",
             "gridcolor": "white",
             "linecolor": "white",
             "minorgridcolor": "white",
             "startlinecolor": "#2a3f5f"
            },
            "type": "carpet"
           }
          ],
          "choropleth": [
           {
            "colorbar": {
             "outlinewidth": 0,
             "ticks": ""
            },
            "type": "choropleth"
           }
          ],
          "contour": [
           {
            "colorbar": {
             "outlinewidth": 0,
             "ticks": ""
            },
            "colorscale": [
             [
              0,
              "#0d0887"
             ],
             [
              0.1111111111111111,
              "#46039f"
             ],
             [
              0.2222222222222222,
              "#7201a8"
             ],
             [
              0.3333333333333333,
              "#9c179e"
             ],
             [
              0.4444444444444444,
              "#bd3786"
             ],
             [
              0.5555555555555556,
              "#d8576b"
             ],
             [
              0.6666666666666666,
              "#ed7953"
             ],
             [
              0.7777777777777778,
              "#fb9f3a"
             ],
             [
              0.8888888888888888,
              "#fdca26"
             ],
             [
              1,
              "#f0f921"
             ]
            ],
            "type": "contour"
           }
          ],
          "contourcarpet": [
           {
            "colorbar": {
             "outlinewidth": 0,
             "ticks": ""
            },
            "type": "contourcarpet"
           }
          ],
          "heatmap": [
           {
            "colorbar": {
             "outlinewidth": 0,
             "ticks": ""
            },
            "colorscale": [
             [
              0,
              "#0d0887"
             ],
             [
              0.1111111111111111,
              "#46039f"
             ],
             [
              0.2222222222222222,
              "#7201a8"
             ],
             [
              0.3333333333333333,
              "#9c179e"
             ],
             [
              0.4444444444444444,
              "#bd3786"
             ],
             [
              0.5555555555555556,
              "#d8576b"
             ],
             [
              0.6666666666666666,
              "#ed7953"
             ],
             [
              0.7777777777777778,
              "#fb9f3a"
             ],
             [
              0.8888888888888888,
              "#fdca26"
             ],
             [
              1,
              "#f0f921"
             ]
            ],
            "type": "heatmap"
           }
          ],
          "heatmapgl": [
           {
            "colorbar": {
             "outlinewidth": 0,
             "ticks": ""
            },
            "colorscale": [
             [
              0,
              "#0d0887"
             ],
             [
              0.1111111111111111,
              "#46039f"
             ],
             [
              0.2222222222222222,
              "#7201a8"
             ],
             [
              0.3333333333333333,
              "#9c179e"
             ],
             [
              0.4444444444444444,
              "#bd3786"
             ],
             [
              0.5555555555555556,
              "#d8576b"
             ],
             [
              0.6666666666666666,
              "#ed7953"
             ],
             [
              0.7777777777777778,
              "#fb9f3a"
             ],
             [
              0.8888888888888888,
              "#fdca26"
             ],
             [
              1,
              "#f0f921"
             ]
            ],
            "type": "heatmapgl"
           }
          ],
          "histogram": [
           {
            "marker": {
             "colorbar": {
              "outlinewidth": 0,
              "ticks": ""
             }
            },
            "type": "histogram"
           }
          ],
          "histogram2d": [
           {
            "colorbar": {
             "outlinewidth": 0,
             "ticks": ""
            },
            "colorscale": [
             [
              0,
              "#0d0887"
             ],
             [
              0.1111111111111111,
              "#46039f"
             ],
             [
              0.2222222222222222,
              "#7201a8"
             ],
             [
              0.3333333333333333,
              "#9c179e"
             ],
             [
              0.4444444444444444,
              "#bd3786"
             ],
             [
              0.5555555555555556,
              "#d8576b"
             ],
             [
              0.6666666666666666,
              "#ed7953"
             ],
             [
              0.7777777777777778,
              "#fb9f3a"
             ],
             [
              0.8888888888888888,
              "#fdca26"
             ],
             [
              1,
              "#f0f921"
             ]
            ],
            "type": "histogram2d"
           }
          ],
          "histogram2dcontour": [
           {
            "colorbar": {
             "outlinewidth": 0,
             "ticks": ""
            },
            "colorscale": [
             [
              0,
              "#0d0887"
             ],
             [
              0.1111111111111111,
              "#46039f"
             ],
             [
              0.2222222222222222,
              "#7201a8"
             ],
             [
              0.3333333333333333,
              "#9c179e"
             ],
             [
              0.4444444444444444,
              "#bd3786"
             ],
             [
              0.5555555555555556,
              "#d8576b"
             ],
             [
              0.6666666666666666,
              "#ed7953"
             ],
             [
              0.7777777777777778,
              "#fb9f3a"
             ],
             [
              0.8888888888888888,
              "#fdca26"
             ],
             [
              1,
              "#f0f921"
             ]
            ],
            "type": "histogram2dcontour"
           }
          ],
          "mesh3d": [
           {
            "colorbar": {
             "outlinewidth": 0,
             "ticks": ""
            },
            "type": "mesh3d"
           }
          ],
          "parcoords": [
           {
            "line": {
             "colorbar": {
              "outlinewidth": 0,
              "ticks": ""
             }
            },
            "type": "parcoords"
           }
          ],
          "scatter": [
           {
            "marker": {
             "colorbar": {
              "outlinewidth": 0,
              "ticks": ""
             }
            },
            "type": "scatter"
           }
          ],
          "scatter3d": [
           {
            "line": {
             "colorbar": {
              "outlinewidth": 0,
              "ticks": ""
             }
            },
            "marker": {
             "colorbar": {
              "outlinewidth": 0,
              "ticks": ""
             }
            },
            "type": "scatter3d"
           }
          ],
          "scattercarpet": [
           {
            "marker": {
             "colorbar": {
              "outlinewidth": 0,
              "ticks": ""
             }
            },
            "type": "scattercarpet"
           }
          ],
          "scattergeo": [
           {
            "marker": {
             "colorbar": {
              "outlinewidth": 0,
              "ticks": ""
             }
            },
            "type": "scattergeo"
           }
          ],
          "scattergl": [
           {
            "marker": {
             "colorbar": {
              "outlinewidth": 0,
              "ticks": ""
             }
            },
            "type": "scattergl"
           }
          ],
          "scattermapbox": [
           {
            "marker": {
             "colorbar": {
              "outlinewidth": 0,
              "ticks": ""
             }
            },
            "type": "scattermapbox"
           }
          ],
          "scatterpolar": [
           {
            "marker": {
             "colorbar": {
              "outlinewidth": 0,
              "ticks": ""
             }
            },
            "type": "scatterpolar"
           }
          ],
          "scatterpolargl": [
           {
            "marker": {
             "colorbar": {
              "outlinewidth": 0,
              "ticks": ""
             }
            },
            "type": "scatterpolargl"
           }
          ],
          "scatterternary": [
           {
            "marker": {
             "colorbar": {
              "outlinewidth": 0,
              "ticks": ""
             }
            },
            "type": "scatterternary"
           }
          ],
          "surface": [
           {
            "colorbar": {
             "outlinewidth": 0,
             "ticks": ""
            },
            "colorscale": [
             [
              0,
              "#0d0887"
             ],
             [
              0.1111111111111111,
              "#46039f"
             ],
             [
              0.2222222222222222,
              "#7201a8"
             ],
             [
              0.3333333333333333,
              "#9c179e"
             ],
             [
              0.4444444444444444,
              "#bd3786"
             ],
             [
              0.5555555555555556,
              "#d8576b"
             ],
             [
              0.6666666666666666,
              "#ed7953"
             ],
             [
              0.7777777777777778,
              "#fb9f3a"
             ],
             [
              0.8888888888888888,
              "#fdca26"
             ],
             [
              1,
              "#f0f921"
             ]
            ],
            "type": "surface"
           }
          ],
          "table": [
           {
            "cells": {
             "fill": {
              "color": "#EBF0F8"
             },
             "line": {
              "color": "white"
             }
            },
            "header": {
             "fill": {
              "color": "#C8D4E3"
             },
             "line": {
              "color": "white"
             }
            },
            "type": "table"
           }
          ]
         },
         "layout": {
          "annotationdefaults": {
           "arrowcolor": "#2a3f5f",
           "arrowhead": 0,
           "arrowwidth": 1
          },
          "colorscale": {
           "diverging": [
            [
             0,
             "#8e0152"
            ],
            [
             0.1,
             "#c51b7d"
            ],
            [
             0.2,
             "#de77ae"
            ],
            [
             0.3,
             "#f1b6da"
            ],
            [
             0.4,
             "#fde0ef"
            ],
            [
             0.5,
             "#f7f7f7"
            ],
            [
             0.6,
             "#e6f5d0"
            ],
            [
             0.7,
             "#b8e186"
            ],
            [
             0.8,
             "#7fbc41"
            ],
            [
             0.9,
             "#4d9221"
            ],
            [
             1,
             "#276419"
            ]
           ],
           "sequential": [
            [
             0,
             "#0d0887"
            ],
            [
             0.1111111111111111,
             "#46039f"
            ],
            [
             0.2222222222222222,
             "#7201a8"
            ],
            [
             0.3333333333333333,
             "#9c179e"
            ],
            [
             0.4444444444444444,
             "#bd3786"
            ],
            [
             0.5555555555555556,
             "#d8576b"
            ],
            [
             0.6666666666666666,
             "#ed7953"
            ],
            [
             0.7777777777777778,
             "#fb9f3a"
            ],
            [
             0.8888888888888888,
             "#fdca26"
            ],
            [
             1,
             "#f0f921"
            ]
           ],
           "sequentialminus": [
            [
             0,
             "#0d0887"
            ],
            [
             0.1111111111111111,
             "#46039f"
            ],
            [
             0.2222222222222222,
             "#7201a8"
            ],
            [
             0.3333333333333333,
             "#9c179e"
            ],
            [
             0.4444444444444444,
             "#bd3786"
            ],
            [
             0.5555555555555556,
             "#d8576b"
            ],
            [
             0.6666666666666666,
             "#ed7953"
            ],
            [
             0.7777777777777778,
             "#fb9f3a"
            ],
            [
             0.8888888888888888,
             "#fdca26"
            ],
            [
             1,
             "#f0f921"
            ]
           ]
          },
          "colorway": [
           "#636efa",
           "#EF553B",
           "#00cc96",
           "#ab63fa",
           "#FFA15A",
           "#19d3f3",
           "#FF6692",
           "#B6E880",
           "#FF97FF",
           "#FECB52"
          ],
          "font": {
           "color": "#2a3f5f"
          },
          "geo": {
           "bgcolor": "white",
           "lakecolor": "white",
           "landcolor": "#E5ECF6",
           "showlakes": true,
           "showland": true,
           "subunitcolor": "white"
          },
          "hoverlabel": {
           "align": "left"
          },
          "hovermode": "closest",
          "mapbox": {
           "style": "light"
          },
          "paper_bgcolor": "white",
          "plot_bgcolor": "#E5ECF6",
          "polar": {
           "angularaxis": {
            "gridcolor": "white",
            "linecolor": "white",
            "ticks": ""
           },
           "bgcolor": "#E5ECF6",
           "radialaxis": {
            "gridcolor": "white",
            "linecolor": "white",
            "ticks": ""
           }
          },
          "scene": {
           "xaxis": {
            "backgroundcolor": "#E5ECF6",
            "gridcolor": "white",
            "gridwidth": 2,
            "linecolor": "white",
            "showbackground": true,
            "ticks": "",
            "zerolinecolor": "white"
           },
           "yaxis": {
            "backgroundcolor": "#E5ECF6",
            "gridcolor": "white",
            "gridwidth": 2,
            "linecolor": "white",
            "showbackground": true,
            "ticks": "",
            "zerolinecolor": "white"
           },
           "zaxis": {
            "backgroundcolor": "#E5ECF6",
            "gridcolor": "white",
            "gridwidth": 2,
            "linecolor": "white",
            "showbackground": true,
            "ticks": "",
            "zerolinecolor": "white"
           }
          },
          "shapedefaults": {
           "line": {
            "color": "#2a3f5f"
           }
          },
          "ternary": {
           "aaxis": {
            "gridcolor": "white",
            "linecolor": "white",
            "ticks": ""
           },
           "baxis": {
            "gridcolor": "white",
            "linecolor": "white",
            "ticks": ""
           },
           "bgcolor": "#E5ECF6",
           "caxis": {
            "gridcolor": "white",
            "linecolor": "white",
            "ticks": ""
           }
          },
          "title": {
           "x": 0.05
          },
          "xaxis": {
           "automargin": true,
           "gridcolor": "white",
           "linecolor": "white",
           "ticks": "",
           "zerolinecolor": "white",
           "zerolinewidth": 2
          },
          "yaxis": {
           "automargin": true,
           "gridcolor": "white",
           "linecolor": "white",
           "ticks": "",
           "zerolinecolor": "white",
           "zerolinewidth": 2
          }
         }
        },
        "title": {
         "text": "Model Performance (Mean AUC for 5-folds) [GOSS]"
        },
        "xaxis": {
         "anchor": "y",
         "domain": [
          0,
          0.98
         ]
        },
        "yaxis": {
         "anchor": "x",
         "domain": [
          0,
          1
         ],
         "title": {
          "text": "auc-mean"
         }
        }
       }
      },
      "text/html": [
       "<div>\n",
       "        \n",
       "        \n",
       "            <div id=\"e80f3bfd-3f44-4019-9bd2-60e4da63d4d5\" class=\"plotly-graph-div\" style=\"height:600px; width:100%;\"></div>\n",
       "            <script type=\"text/javascript\">\n",
       "                require([\"plotly\"], function(Plotly) {\n",
       "                    window.PLOTLYENV=window.PLOTLYENV || {};\n",
       "                    \n",
       "                if (document.getElementById(\"e80f3bfd-3f44-4019-9bd2-60e4da63d4d5\")) {\n",
       "                    Plotly.newPlot(\n",
       "                        'e80f3bfd-3f44-4019-9bd2-60e4da63d4d5',\n",
       "                        [{\"hoverlabel\": {\"namelength\": 0}, \"hovertemplate\": \"auc-mean=%{y}\", \"legendgroup\": \"\", \"line\": {\"color\": \"#636efa\", \"dash\": \"solid\"}, \"mode\": \"lines\", \"name\": \"\", \"showlegend\": false, \"type\": \"scatter\", \"xaxis\": \"x\", \"y\": [0.8001961429957726, 0.8160095674353695, 0.831155480769975, 0.8523108455609499, 0.8547457680949521, 0.8573202850909789, 0.8597167630296738, 0.8622092190644057, 0.863960166782445, 0.866004256188288, 0.8683688659407389, 0.869929966291863, 0.8713911461537265, 0.8725877706689534, 0.873878617293626, 0.8751602304341102, 0.8763507012759824, 0.8773338819100822, 0.8780700695917382, 0.8791899363660901, 0.8800528624029884, 0.8809388146322412, 0.8818045371603533, 0.8824562613026148, 0.8830901030718487, 0.8837397436853166, 0.8842866061414668, 0.8849828799154906, 0.8857128450624714, 0.8864549900114769, 0.8871208898208474, 0.8876694415296547, 0.8884049189583475, 0.8895074414195653, 0.8904296483575234, 0.891026033692123, 0.8918677058623402, 0.8925767743392594, 0.8930849430504161, 0.8934892206079926, 0.8942374201242863, 0.8950786275272554, 0.89572090516752, 0.896409970300911, 0.8970401400164608, 0.8978543557799291, 0.8984104058537772, 0.8989590317785708, 0.8994248539891171, 0.8999846392966825, 0.9004985287813296, 0.9009524999507994, 0.9013236582904944, 0.9019025216743193, 0.9026354133009915, 0.9031934022138002, 0.9039409426652567, 0.904528894053174, 0.9049612218664749, 0.9052835602523999, 0.9056657110414339, 0.9060579120074548, 0.9063127952059201, 0.9068741012256197, 0.907201509959602, 0.9077937234696065, 0.9081798259799537, 0.908538572470903, 0.9088797415149266, 0.9092130158594728, 0.909761444840537, 0.9100871063195106, 0.9103554981093975, 0.9107605718151122, 0.9110366797167526, 0.9114242360485513, 0.9118892125826527, 0.9121490326157289, 0.9124382746923649, 0.9127333437333458, 0.9132025673191757, 0.9135151255594998, 0.913908069736711, 0.9143780777934912, 0.9148611005363311, 0.9150728460970174, 0.915445140056711, 0.9156541430771101, 0.9159087528785866, 0.9160977332688202, 0.91631774112234, 0.9165789658017486, 0.9169499802262168, 0.9172129641671901, 0.917448045798643, 0.917718138440182, 0.9181284866792468, 0.9184185008552388, 0.9186693158830952, 0.9189512148273706], \"yaxis\": \"y\"}],\n",
       "                        {\"height\": 600, \"legend\": {\"tracegroupgap\": 0}, \"template\": {\"data\": {\"bar\": [{\"error_x\": {\"color\": \"#2a3f5f\"}, \"error_y\": {\"color\": \"#2a3f5f\"}, \"marker\": {\"line\": {\"color\": \"#E5ECF6\", \"width\": 0.5}}, \"type\": \"bar\"}], \"barpolar\": [{\"marker\": {\"line\": {\"color\": \"#E5ECF6\", \"width\": 0.5}}, \"type\": \"barpolar\"}], \"carpet\": [{\"aaxis\": {\"endlinecolor\": \"#2a3f5f\", \"gridcolor\": \"white\", \"linecolor\": \"white\", \"minorgridcolor\": \"white\", \"startlinecolor\": \"#2a3f5f\"}, \"baxis\": {\"endlinecolor\": \"#2a3f5f\", \"gridcolor\": \"white\", \"linecolor\": \"white\", \"minorgridcolor\": \"white\", \"startlinecolor\": \"#2a3f5f\"}, \"type\": \"carpet\"}], \"choropleth\": [{\"colorbar\": {\"outlinewidth\": 0, \"ticks\": \"\"}, \"type\": \"choropleth\"}], \"contour\": [{\"colorbar\": {\"outlinewidth\": 0, \"ticks\": \"\"}, \"colorscale\": [[0.0, \"#0d0887\"], [0.1111111111111111, \"#46039f\"], [0.2222222222222222, \"#7201a8\"], [0.3333333333333333, \"#9c179e\"], [0.4444444444444444, \"#bd3786\"], [0.5555555555555556, \"#d8576b\"], [0.6666666666666666, \"#ed7953\"], [0.7777777777777778, \"#fb9f3a\"], [0.8888888888888888, \"#fdca26\"], [1.0, \"#f0f921\"]], \"type\": \"contour\"}], \"contourcarpet\": [{\"colorbar\": {\"outlinewidth\": 0, \"ticks\": \"\"}, \"type\": \"contourcarpet\"}], \"heatmap\": [{\"colorbar\": {\"outlinewidth\": 0, \"ticks\": \"\"}, \"colorscale\": [[0.0, \"#0d0887\"], [0.1111111111111111, \"#46039f\"], [0.2222222222222222, \"#7201a8\"], [0.3333333333333333, \"#9c179e\"], [0.4444444444444444, \"#bd3786\"], [0.5555555555555556, \"#d8576b\"], [0.6666666666666666, \"#ed7953\"], [0.7777777777777778, \"#fb9f3a\"], [0.8888888888888888, \"#fdca26\"], [1.0, \"#f0f921\"]], \"type\": \"heatmap\"}], \"heatmapgl\": [{\"colorbar\": {\"outlinewidth\": 0, \"ticks\": \"\"}, \"colorscale\": [[0.0, \"#0d0887\"], [0.1111111111111111, \"#46039f\"], [0.2222222222222222, \"#7201a8\"], [0.3333333333333333, \"#9c179e\"], [0.4444444444444444, \"#bd3786\"], [0.5555555555555556, \"#d8576b\"], [0.6666666666666666, \"#ed7953\"], [0.7777777777777778, \"#fb9f3a\"], [0.8888888888888888, \"#fdca26\"], [1.0, \"#f0f921\"]], \"type\": \"heatmapgl\"}], \"histogram\": [{\"marker\": {\"colorbar\": {\"outlinewidth\": 0, \"ticks\": \"\"}}, \"type\": \"histogram\"}], \"histogram2d\": [{\"colorbar\": {\"outlinewidth\": 0, \"ticks\": \"\"}, \"colorscale\": [[0.0, \"#0d0887\"], [0.1111111111111111, \"#46039f\"], [0.2222222222222222, \"#7201a8\"], [0.3333333333333333, \"#9c179e\"], [0.4444444444444444, \"#bd3786\"], [0.5555555555555556, \"#d8576b\"], [0.6666666666666666, \"#ed7953\"], [0.7777777777777778, \"#fb9f3a\"], [0.8888888888888888, \"#fdca26\"], [1.0, \"#f0f921\"]], \"type\": \"histogram2d\"}], \"histogram2dcontour\": [{\"colorbar\": {\"outlinewidth\": 0, \"ticks\": \"\"}, \"colorscale\": [[0.0, \"#0d0887\"], [0.1111111111111111, \"#46039f\"], [0.2222222222222222, \"#7201a8\"], [0.3333333333333333, \"#9c179e\"], [0.4444444444444444, \"#bd3786\"], [0.5555555555555556, \"#d8576b\"], [0.6666666666666666, \"#ed7953\"], [0.7777777777777778, \"#fb9f3a\"], [0.8888888888888888, \"#fdca26\"], [1.0, \"#f0f921\"]], \"type\": \"histogram2dcontour\"}], \"mesh3d\": [{\"colorbar\": {\"outlinewidth\": 0, \"ticks\": \"\"}, \"type\": \"mesh3d\"}], \"parcoords\": [{\"line\": {\"colorbar\": {\"outlinewidth\": 0, \"ticks\": \"\"}}, \"type\": \"parcoords\"}], \"scatter\": [{\"marker\": {\"colorbar\": {\"outlinewidth\": 0, \"ticks\": \"\"}}, \"type\": \"scatter\"}], \"scatter3d\": [{\"line\": {\"colorbar\": {\"outlinewidth\": 0, \"ticks\": \"\"}}, \"marker\": {\"colorbar\": {\"outlinewidth\": 0, \"ticks\": \"\"}}, \"type\": \"scatter3d\"}], \"scattercarpet\": [{\"marker\": {\"colorbar\": {\"outlinewidth\": 0, \"ticks\": \"\"}}, \"type\": \"scattercarpet\"}], \"scattergeo\": [{\"marker\": {\"colorbar\": {\"outlinewidth\": 0, \"ticks\": \"\"}}, \"type\": \"scattergeo\"}], \"scattergl\": [{\"marker\": {\"colorbar\": {\"outlinewidth\": 0, \"ticks\": \"\"}}, \"type\": \"scattergl\"}], \"scattermapbox\": [{\"marker\": {\"colorbar\": {\"outlinewidth\": 0, \"ticks\": \"\"}}, \"type\": \"scattermapbox\"}], \"scatterpolar\": [{\"marker\": {\"colorbar\": {\"outlinewidth\": 0, \"ticks\": \"\"}}, \"type\": \"scatterpolar\"}], \"scatterpolargl\": [{\"marker\": {\"colorbar\": {\"outlinewidth\": 0, \"ticks\": \"\"}}, \"type\": \"scatterpolargl\"}], \"scatterternary\": [{\"marker\": {\"colorbar\": {\"outlinewidth\": 0, \"ticks\": \"\"}}, \"type\": \"scatterternary\"}], \"surface\": [{\"colorbar\": {\"outlinewidth\": 0, \"ticks\": \"\"}, \"colorscale\": [[0.0, \"#0d0887\"], [0.1111111111111111, \"#46039f\"], [0.2222222222222222, \"#7201a8\"], [0.3333333333333333, \"#9c179e\"], [0.4444444444444444, \"#bd3786\"], [0.5555555555555556, \"#d8576b\"], [0.6666666666666666, \"#ed7953\"], [0.7777777777777778, \"#fb9f3a\"], [0.8888888888888888, \"#fdca26\"], [1.0, \"#f0f921\"]], \"type\": \"surface\"}], \"table\": [{\"cells\": {\"fill\": {\"color\": \"#EBF0F8\"}, \"line\": {\"color\": \"white\"}}, \"header\": {\"fill\": {\"color\": \"#C8D4E3\"}, \"line\": {\"color\": \"white\"}}, \"type\": \"table\"}]}, \"layout\": {\"annotationdefaults\": {\"arrowcolor\": \"#2a3f5f\", \"arrowhead\": 0, \"arrowwidth\": 1}, \"colorscale\": {\"diverging\": [[0, \"#8e0152\"], [0.1, \"#c51b7d\"], [0.2, \"#de77ae\"], [0.3, \"#f1b6da\"], [0.4, \"#fde0ef\"], [0.5, \"#f7f7f7\"], [0.6, \"#e6f5d0\"], [0.7, \"#b8e186\"], [0.8, \"#7fbc41\"], [0.9, \"#4d9221\"], [1, \"#276419\"]], \"sequential\": [[0.0, \"#0d0887\"], [0.1111111111111111, \"#46039f\"], [0.2222222222222222, \"#7201a8\"], [0.3333333333333333, \"#9c179e\"], [0.4444444444444444, \"#bd3786\"], [0.5555555555555556, \"#d8576b\"], [0.6666666666666666, \"#ed7953\"], [0.7777777777777778, \"#fb9f3a\"], [0.8888888888888888, \"#fdca26\"], [1.0, \"#f0f921\"]], \"sequentialminus\": [[0.0, \"#0d0887\"], [0.1111111111111111, \"#46039f\"], [0.2222222222222222, \"#7201a8\"], [0.3333333333333333, \"#9c179e\"], [0.4444444444444444, \"#bd3786\"], [0.5555555555555556, \"#d8576b\"], [0.6666666666666666, \"#ed7953\"], [0.7777777777777778, \"#fb9f3a\"], [0.8888888888888888, \"#fdca26\"], [1.0, \"#f0f921\"]]}, \"colorway\": [\"#636efa\", \"#EF553B\", \"#00cc96\", \"#ab63fa\", \"#FFA15A\", \"#19d3f3\", \"#FF6692\", \"#B6E880\", \"#FF97FF\", \"#FECB52\"], \"font\": {\"color\": \"#2a3f5f\"}, \"geo\": {\"bgcolor\": \"white\", \"lakecolor\": \"white\", \"landcolor\": \"#E5ECF6\", \"showlakes\": true, \"showland\": true, \"subunitcolor\": \"white\"}, \"hoverlabel\": {\"align\": \"left\"}, \"hovermode\": \"closest\", \"mapbox\": {\"style\": \"light\"}, \"paper_bgcolor\": \"white\", \"plot_bgcolor\": \"#E5ECF6\", \"polar\": {\"angularaxis\": {\"gridcolor\": \"white\", \"linecolor\": \"white\", \"ticks\": \"\"}, \"bgcolor\": \"#E5ECF6\", \"radialaxis\": {\"gridcolor\": \"white\", \"linecolor\": \"white\", \"ticks\": \"\"}}, \"scene\": {\"xaxis\": {\"backgroundcolor\": \"#E5ECF6\", \"gridcolor\": \"white\", \"gridwidth\": 2, \"linecolor\": \"white\", \"showbackground\": true, \"ticks\": \"\", \"zerolinecolor\": \"white\"}, \"yaxis\": {\"backgroundcolor\": \"#E5ECF6\", \"gridcolor\": \"white\", \"gridwidth\": 2, \"linecolor\": \"white\", \"showbackground\": true, \"ticks\": \"\", \"zerolinecolor\": \"white\"}, \"zaxis\": {\"backgroundcolor\": \"#E5ECF6\", \"gridcolor\": \"white\", \"gridwidth\": 2, \"linecolor\": \"white\", \"showbackground\": true, \"ticks\": \"\", \"zerolinecolor\": \"white\"}}, \"shapedefaults\": {\"line\": {\"color\": \"#2a3f5f\"}}, \"ternary\": {\"aaxis\": {\"gridcolor\": \"white\", \"linecolor\": \"white\", \"ticks\": \"\"}, \"baxis\": {\"gridcolor\": \"white\", \"linecolor\": \"white\", \"ticks\": \"\"}, \"bgcolor\": \"#E5ECF6\", \"caxis\": {\"gridcolor\": \"white\", \"linecolor\": \"white\", \"ticks\": \"\"}}, \"title\": {\"x\": 0.05}, \"xaxis\": {\"automargin\": true, \"gridcolor\": \"white\", \"linecolor\": \"white\", \"ticks\": \"\", \"zerolinecolor\": \"white\", \"zerolinewidth\": 2}, \"yaxis\": {\"automargin\": true, \"gridcolor\": \"white\", \"linecolor\": \"white\", \"ticks\": \"\", \"zerolinecolor\": \"white\", \"zerolinewidth\": 2}}}, \"title\": {\"text\": \"Model Performance (Mean AUC for 5-folds) [GOSS]\"}, \"xaxis\": {\"anchor\": \"y\", \"domain\": [0.0, 0.98]}, \"yaxis\": {\"anchor\": \"x\", \"domain\": [0.0, 1.0], \"title\": {\"text\": \"auc-mean\"}}},\n",
       "                        {\"responsive\": true}\n",
       "                    ).then(function(){\n",
       "                            \n",
       "var gd = document.getElementById('e80f3bfd-3f44-4019-9bd2-60e4da63d4d5');\n",
       "var x = new MutationObserver(function (mutations, observer) {{\n",
       "        var display = window.getComputedStyle(gd).display;\n",
       "        if (!display || display === 'none') {{\n",
       "            console.log([gd, 'removed!']);\n",
       "            Plotly.purge(gd);\n",
       "            observer.disconnect();\n",
       "        }}\n",
       "}});\n",
       "\n",
       "// Listen for the removal of the full notebook cells\n",
       "var notebookContainer = gd.closest('#notebook-container');\n",
       "if (notebookContainer) {{\n",
       "    x.observe(notebookContainer, {childList: true});\n",
       "}}\n",
       "\n",
       "// Listen for the clearing of the current output cell\n",
       "var outputEl = gd.closest('.output');\n",
       "if (outputEl) {{\n",
       "    x.observe(outputEl, {childList: true});\n",
       "}}\n",
       "\n",
       "                        })\n",
       "                };\n",
       "                });\n",
       "            </script>\n",
       "        </div>"
      ]
     },
     "metadata": {},
     "output_type": "display_data"
    }
   ],
   "source": [
    "px.line(eval_hist, y='auc-mean', title=f\"Model Performance (Mean AUC for 5-folds)\")"
   ]
  },
  {
   "cell_type": "code",
   "execution_count": 10,
   "metadata": {
    "ExecuteTime": {
     "end_time": "2019-09-27T18:15:24.852026Z",
     "start_time": "2019-09-27T18:15:23.402676Z"
    }
   },
   "outputs": [
    {
     "data": {
      "application/vnd.plotly.v1+json": {
       "config": {
        "plotlyServerURL": "https://plot.ly"
       },
       "data": [
        {
         "hoverlabel": {
          "namelength": 0
         },
         "hovertemplate": "auc-mean=%{y}",
         "legendgroup": "",
         "line": {
          "color": "#636efa",
          "dash": "solid"
         },
         "mode": "lines",
         "name": "",
         "showlegend": false,
         "type": "scatter",
         "xaxis": "x",
         "y": [
          0.8001961429957726,
          0.8160095674353695,
          0.831155480769975,
          0.8523108455609499,
          0.8547457680949521,
          0.8573202850909789,
          0.8597167630296738,
          0.8597760079024017,
          0.8623283796670076,
          0.8635035031119649,
          0.8654976096674195,
          0.8656730197163796,
          0.8670082510324914,
          0.8696038928408747,
          0.8701441907900526,
          0.8714256186665743,
          0.8723880285140544,
          0.8737761153687046,
          0.8749589420455095,
          0.87623587331795,
          0.8763481954984821,
          0.8772008395302233,
          0.8781765750764261,
          0.878924528618858,
          0.8797682587275879,
          0.8803767003492042,
          0.8812697848130824,
          0.881334150698504,
          0.8820697963329845,
          0.8827941833592036,
          0.8831854238563477,
          0.8837227122153599,
          0.8846495161815309,
          0.8855254170234724,
          0.8854435134109429,
          0.885413737501435,
          0.8858891506597087,
          0.8866738349095682,
          0.8871739544623607,
          0.88760120291804,
          0.8876419511127004,
          0.8879572914376725,
          0.8878941556083462,
          0.8883560103206716,
          0.8889178945607122,
          0.8890396105825797,
          0.8893702490798148,
          0.8895014672960706,
          0.8894695208361065,
          0.8894450251774082,
          0.8895814887540627,
          0.8898129604316924,
          0.8898731463647985,
          0.890101810826845,
          0.8902577804028162,
          0.8902146542251357,
          0.8903440951984081,
          0.8904414959431071,
          0.8905113488730558,
          0.890646019967751,
          0.8907357077373312,
          0.8908745426141212,
          0.891008615134603,
          0.8910207287486311,
          0.8909057010541812,
          0.8910034284282787,
          0.8910580053879485,
          0.8911371464191996,
          0.8910336543140367,
          0.8909861050277167,
          0.8910689471115347,
          0.8911166723998682,
          0.8911743918739766,
          0.891072529842073,
          0.8911287001256806,
          0.8911235515919431,
          0.8910448024519939,
          0.8911157952369347,
          0.8911228649072109,
          0.8911536212550942,
          0.8911474809420354,
          0.8911804792151937,
          0.8911787708354033,
          0.8910873805270425,
          0.8910581323873064,
          0.8910466367456884,
          0.8910484452304418,
          0.8910000240958456,
          0.8910127126107297,
          0.8909429485777677,
          0.8909412613860885,
          0.8909648164536981,
          0.8910381865979403,
          0.8909918749032908,
          0.8909789842106338,
          0.890955496765652,
          0.8909849342690059,
          0.8909559723903735,
          0.8909801056139504,
          0.8909515098370153,
          0.8910359071791845,
          0.8910057414031982,
          0.8909657962333549,
          0.8910690829690251,
          0.8911231309114467,
          0.8911097481838153,
          0.8911312667457236,
          0.8911168411800123,
          0.8910849851583856,
          0.8910761394111422,
          0.891043134153837,
          0.8910839130766679,
          0.8910462028866203,
          0.8910421944375286,
          0.891002802349423,
          0.8909850639661775,
          0.8910064316894761,
          0.891064323492694,
          0.891041874627988,
          0.8910127708704805,
          0.8909744812441834,
          0.8909504176457181,
          0.8908831224743528,
          0.8908565999306528,
          0.8908844938133422,
          0.8908147915134531,
          0.8907161673708209,
          0.8907180727454709,
          0.8906857426921284,
          0.8906649056484784,
          0.8906621263109307,
          0.890655451935614,
          0.8907425262173655,
          0.8907551795894293,
          0.8908476980150063,
          0.8909416628706961,
          0.8909767121659952,
          0.8910502388612904,
          0.891081299400537,
          0.8910891189138322,
          0.8910527023160306,
          0.8910438523913152,
          0.8910688585048764,
          0.8910300658612134,
          0.8910868812186876,
          0.8910812604023727,
          0.8910763805256785,
          0.891095661175066,
          0.8911399782064569,
          0.8911149730735369,
          0.8911507502559207,
          0.8911671901097886,
          0.8912498309416979,
          0.8912162669833794,
          0.8912207097928245,
          0.8912071604678488,
          0.8911850693974334,
          0.8911771842483096,
          0.8911477966034328,
          0.8911239707211907,
          0.891156330952475,
          0.8911685813938117,
          0.8911345570376341,
          0.8911238460450942,
          0.8911057988834834,
          0.8911187651021374,
          0.8912136589526984,
          0.8912734743422854,
          0.891416241492136,
          0.8914391845135178,
          0.8916280502785465,
          0.8916402115789509,
          0.8916877279942585,
          0.8918108740036554,
          0.8920180950466202,
          0.8919918856610958,
          0.8919837946098783,
          0.8919953448182953,
          0.8921108058689183,
          0.8920789640746589,
          0.8922323425482197,
          0.8924014458176102,
          0.89251748996972,
          0.8925636485673797,
          0.8925274641591004,
          0.8926495478389684,
          0.8929935125746418,
          0.8930321899389968,
          0.8930367304226229,
          0.8930401823742414,
          0.8933016933767266,
          0.8934628256870063,
          0.89365309996685,
          0.893654028239524,
          0.8936337348074694,
          0.8937778934086046,
          0.8937451193184993,
          0.8937272359657925,
          0.8938503284556081,
          0.8938478918961439,
          0.893828720150179,
          0.8938155608049343,
          0.8939931530462989,
          0.8939564251681589,
          0.893960709574755,
          0.8940733536662553,
          0.8940657569815436,
          0.8941948802569455,
          0.894181996014383,
          0.8941658063882603,
          0.8941507930562947,
          0.8942234070745968,
          0.8943141296381463,
          0.8944132988143654,
          0.8945026171013961,
          0.8944784035479364,
          0.8946262801729038,
          0.8948030278576672,
          0.8948111545886672,
          0.8949928057481816,
          0.8949613809431856,
          0.8952674055219788,
          0.8956415719718842,
          0.895619190652743,
          0.8955919848653305,
          0.8955711949595523,
          0.895552663864579,
          0.8956465194577363,
          0.8956432283263114,
          0.8958409544420769,
          0.8960315077341716,
          0.896166970269196,
          0.8961528340999255,
          0.8962862150723332,
          0.8962906710501969,
          0.896525128822191,
          0.8967565457834275,
          0.8969165319079411,
          0.8971603841171503,
          0.8974510544712008,
          0.8974368832224849,
          0.8977422037035859,
          0.8977089870224815,
          0.8976897155176182,
          0.8979129954303415,
          0.8981934855429593,
          0.898402830092839,
          0.8983651087087668,
          0.8983605729724639,
          0.8987910401707013,
          0.8987579623857996,
          0.8987297682137999,
          0.898914710203023,
          0.8990462299921405,
          0.8993664476321627,
          0.8995626239923655,
          0.899957025921581,
          0.9002692123463639,
          0.9002608501798444,
          0.9002363699031305,
          0.9002192754072258,
          0.900566161081495,
          0.9007217848957876,
          0.9010094973386433,
          0.9012729737219558,
          0.9015435778484238,
          0.9015109566325921,
          0.9017708033338254,
          0.9017671947362679,
          0.9022803655884685,
          0.9022511805031946,
          0.9024883815332897,
          0.9026807576813571,
          0.9026484011307563,
          0.9030685204381367,
          0.9030219403033835,
          0.903396522370939,
          0.9033870740650765,
          0.9037558932359365,
          0.9037274252179468,
          0.9037197564036946,
          0.904055489055159,
          0.904011584443871,
          0.904194631889602,
          0.9045746377667271,
          0.904796673038591,
          0.9050769217171105,
          0.9050597646696902,
          0.9053397841360397,
          0.9054637705687704,
          0.9057405821991764,
          0.9056929061430576,
          0.9056338441797633,
          0.9059327481392738,
          0.9058852590491439,
          0.905839957137388,
          0.9060742513407692,
          0.9060379092893202,
          0.9062231874078774,
          0.9061958279864175,
          0.9061779811514965,
          0.9063746450773593,
          0.9063225282780737,
          0.9062943708978652,
          0.9062478412345765,
          0.9062200047264024,
          0.9062237742875194,
          0.9063806021183909,
          0.906366336659452,
          0.906531225496993,
          0.9066026684813219,
          0.906705016547263,
          0.9068517046984479,
          0.9068393361772555,
          0.906806000402659,
          0.9069889776263859,
          0.907119811692047,
          0.9073032024156401,
          0.9072739298723784,
          0.9074153586537566,
          0.9073902630427801,
          0.9075400385971516,
          0.9076926324873975,
          0.9076517217862168,
          0.9078410409354574,
          0.9077958852864431,
          0.9079516841294499,
          0.9079368190055153,
          0.9081018134982702,
          0.908074863648902,
          0.9080490186702488,
          0.9080560537672653,
          0.9080166903858933,
          0.9079731063394391,
          0.9080518687663887,
          0.908020813198093,
          0.9083541616608963,
          0.9085032988274996,
          0.908479155492907,
          0.9084501615214767,
          0.908572487067725,
          0.9087306609264042,
          0.9088372413123071,
          0.9088132958420534,
          0.9089549988230503,
          0.9091593033688392,
          0.909149286997527,
          0.9092682673423939,
          0.9094397898025827,
          0.9093985956859777,
          0.9095437573342331,
          0.9097094930293149,
          0.9098521052176831,
          0.9098364704477568,
          0.9098075780521869,
          0.9099745923110394,
          0.9099601804516908,
          0.9101879965115763,
          0.910169053694722,
          0.9103790994370389,
          0.9105846827443711,
          0.9109436732807848,
          0.9109111043304587,
          0.9108697312895309,
          0.9111641747338307,
          0.9111287016800242,
          0.9110879846510187,
          0.9112756125123788,
          0.9112676489736454,
          0.9113910439980311,
          0.911370084362044,
          0.9114870966875813,
          0.9117859467034022,
          0.9119222224479367,
          0.9120845105590135,
          0.9120624817005542,
          0.9122735666924537,
          0.9122306493454355,
          0.9122054363098883,
          0.9126570698993,
          0.9126172335575145,
          0.912580633620062,
          0.9127356795613014,
          0.9129410447797289,
          0.9128950179164981,
          0.9130672901858923,
          0.9133316951712149,
          0.9135392124136841,
          0.913710621651161,
          0.9140505287365709,
          0.9140124001423835,
          0.9142597344643164,
          0.9144883082527986,
          0.9146426720517289,
          0.9148661196121599,
          0.9148418798582352,
          0.9150204634062458,
          0.9153275366022923,
          0.9156535784342232,
          0.9158210934740769,
          0.9157940475388002,
          0.9160497750745249,
          0.9160249692341418,
          0.9162323354030233,
          0.916402925841506,
          0.9163800263075041,
          0.9164991842758567,
          0.9164618622798182,
          0.9166770111896347,
          0.9169256591686908,
          0.9172155802453694,
          0.9171846953764353,
          0.9171468221298685,
          0.9173088786431549,
          0.9174575787183292,
          0.9176503824752746,
          0.9176022231434036,
          0.9175631154665188,
          0.9180552467919272,
          0.9180177664889712,
          0.9183808283994219,
          0.9185846060924441,
          0.9188160558289624,
          0.9191844086134073,
          0.9191566827784847,
          0.9193521213735101,
          0.9195406377153557,
          0.9194990113224856,
          0.9196945353486997,
          0.9196815930382101,
          0.9197926216449585,
          0.9199666127372426,
          0.9201272254201374,
          0.9200914999547146,
          0.9200595189077155,
          0.920264735407048,
          0.9204397969476392,
          0.9204167665997106,
          0.920396431210379,
          0.9204849210682683,
          0.9206461317502648,
          0.9208237551408557,
          0.9207875088505428,
          0.9209638762772874,
          0.9211431430459305,
          0.9211193394647372,
          0.9212636021441529,
          0.9213941771362476,
          0.9215589376427298,
          0.9216484359271048,
          0.9218484278548903,
          0.9218287793293172,
          0.9218068017537011,
          0.9217956659300978,
          0.9220381634354377,
          0.9220135167043418,
          0.921960743499618,
          0.9221057701487652,
          0.9222365759749135,
          0.9222220721412524,
          0.922353889041136,
          0.922314993699654,
          0.9222868588232009,
          0.9224088157126185,
          0.9225301736039672,
          0.9225020170111142,
          0.9225965244394739,
          0.9225887332194199,
          0.9228875224272686,
          0.9228599598149569,
          0.922985999138113,
          0.9229576825287358,
          0.9230858554542678,
          0.9232149723913716,
          0.9234995253423305,
          0.9234970387456114,
          0.9235928015350611,
          0.923551990014159,
          0.9235195104548538,
          0.9236207747284041,
          0.9237013680237341,
          0.9237881004993064,
          0.9239028814646213,
          0.9240242796124989,
          0.9240049145509934,
          0.9241157946362971,
          0.9243307025332983,
          0.9245039815572982,
          0.9246269530769421,
          0.9246057644509023,
          0.924586732456363,
          0.9245669209935773,
          0.9245438883089647,
          0.9246069280833952,
          0.9247285930648734,
          0.9249622494536659,
          0.9251447107626081,
          0.925299886174634,
          0.9252869866025643,
          0.9253897182240147,
          0.9253687417245956,
          0.9254892218653371,
          0.9256233745549025,
          0.9255998990566466,
          0.9255839050570224,
          0.9256528313593124,
          0.9258343840714909,
          0.9259766741643795,
          0.9262187245214765,
          0.9263747447084482,
          0.9263379988191971,
          0.9264351632731621,
          0.9265254928254631,
          0.9266401993083709,
          0.9267759892126728,
          0.9267552609475184,
          0.9267423305156992,
          0.9267462386663501,
          0.9267296933410272,
          0.9269430097554683,
          0.9270356293935651,
          0.9269998104742324,
          0.9269763713235479,
          0.9269487051767987,
          0.9269380004737695,
          0.9270250713166813,
          0.9270150892609508,
          0.9271391413067509,
          0.9272120744731789,
          0.9274164753630962,
          0.9273997469308985,
          0.9275567731031991,
          0.9275369987335165,
          0.9276604394290151,
          0.9277310321794117,
          0.9277174603670453,
          0.9277914486548164,
          0.9279117253099184,
          0.9278817190037902,
          0.9278526781688807,
          0.9278405019269684,
          0.9279099433885968,
          0.9278734130096824,
          0.9278501225337792,
          0.9279789400612739,
          0.9280458762204994,
          0.9282039287848699,
          0.928368950422439,
          0.9283527462898921,
          0.9284514357600413,
          0.9285861813264787,
          0.92869925471355,
          0.9286555756309591,
          0.9286569926705759,
          0.9287669325889458,
          0.9287514418256118,
          0.9287285806922554,
          0.928811410046,
          0.9289128692056383,
          0.9290153451080968,
          0.9289952219018429,
          0.9289879970536793,
          0.9289756915588129,
          0.92894208788054,
          0.9290004040128661,
          0.9290513351653822,
          0.929107887906133,
          0.9291099621091312,
          0.9290896363774144,
          0.9290778923607201,
          0.9291378458380258,
          0.9292131943975779,
          0.9292076788218624,
          0.9291893749150468,
          0.9292210312380528,
          0.9291949967121476,
          0.9291918005549276,
          0.9291576796675061,
          0.9291506704718252,
          0.9291327231048514,
          0.9292010229235229,
          0.9291811446299467,
          0.9291957983161195,
          0.9291780968268875,
          0.9293081261085563,
          0.9293040847449013,
          0.9293772257095393,
          0.9293590223294041,
          0.92932460268049,
          0.9293240280203869,
          0.9292914363866067,
          0.9292755544589457,
          0.9293178933888513,
          0.9293076257346273,
          0.929302929964075,
          0.9292956701182344,
          0.9292843593255482,
          0.9292675516235989,
          0.9292942546117258,
          0.9293432172734375,
          0.9293783191531102,
          0.9293650092412673,
          0.9293918380950391,
          0.9293796262408982,
          0.9293626272418514,
          0.9293505041219697,
          0.929344441942989,
          0.9293375295723687,
          0.9293774000958781,
          0.9294470679717876,
          0.9295139351713815,
          0.9295563033430522,
          0.9295340960254499,
          0.9295743797095893,
          0.9296533925776096,
          0.929755816204751,
          0.9297493477710166,
          0.9298675724068209,
          0.9299227362100687,
          0.9299777109077985,
          0.9299679862774312,
          0.9299530139470293,
          0.930025653414209,
          0.9300087122884703,
          0.930073070063586,
          0.930120829894394,
          0.9301903070625637,
          0.9303511175647772,
          0.9303359078489681,
          0.9303224836965228,
          0.9303926602103385,
          0.9304666924781673,
          0.9304532412793483,
          0.9304348162485331,
          0.9305145701424348,
          0.9305656408463723,
          0.9306510329984515,
          0.9306293715160562,
          0.930617152565493,
          0.9307001655590366,
          0.9306872296930905,
          0.9306905804844388,
          0.9308258258819982,
          0.9308006144649544,
          0.9309541199435909,
          0.9310232558683358,
          0.9310893376001171,
          0.9311533971906314,
          0.9311433569644769,
          0.9311296093660539,
          0.9311768869487252,
          0.9311765244108521,
          0.9311658568844463,
          0.9311598075348119,
          0.9312951141565009,
          0.9313369433909358,
          0.9313190981902093,
          0.93136965064585,
          0.9313588044595029,
          0.9314159615765485,
          0.9313988914065101,
          0.9314914577112121,
          0.9314801236260515,
          0.9314728966631224,
          0.9314733515128246,
          0.9314653216419989,
          0.9314313374377653,
          0.9314185400529038,
          0.9314582042697122,
          0.9314958356678706,
          0.9314934223825897,
          0.9315183665691118,
          0.9315141522455839,
          0.9315569069541354,
          0.931603031457142,
          0.9316699755441785,
          0.9317352379000189,
          0.9317406052966206,
          0.9318095087111373,
          0.9318641399699106,
          0.9318638838438694,
          0.9318549509384294,
          0.9319192057488204,
          0.9319927767188183,
          0.931962918078032,
          0.9320110637412247,
          0.9320026630417448,
          0.9319843591058758,
          0.932049177485774,
          0.9321203848703183,
          0.9321036030283352,
          0.9320876226412282,
          0.9321237551829606,
          0.9322396009950514,
          0.9322303577030262,
          0.9322904145210782,
          0.9323462703020761,
          0.9325902280626839,
          0.9325736925039123,
          0.9326144756435422,
          0.932677805809002,
          0.9327561002575202,
          0.9327526178008659,
          0.9327420928697723,
          0.9327278905717321,
          0.9327199249733956,
          0.932716542108988,
          0.9328009369218064,
          0.9328163239402409,
          0.9329510489441699,
          0.9329496760666782,
          0.9329459739457985,
          0.9330764815284767,
          0.933182022485164,
          0.9331683856000016,
          0.9332206961261408,
          0.9332141411702677,
          0.9332051231117621,
          0.9331914513621775,
          0.9331748345904611,
          0.9332016390819629,
          0.9331920008263017,
          0.9332683074503008,
          0.9333218044304734,
          0.9333181535568571,
          0.9334474993535995,
          0.9334999821901185,
          0.9335505009237608,
          0.9335402496464236,
          0.9335945146033253,
          0.9335872842155106,
          0.9335722553534808,
          0.9336060311876665,
          0.9335989668285448,
          0.9336709824018762,
          0.9336592927543149,
          0.9336629326253201,
          0.9337115192085459,
          0.9337709719178007,
          0.9338088607221046,
          0.9338045964284853,
          0.9338960452110807,
          0.933957074461236,
          0.9339968686900099,
          0.9339863841319793,
          0.9339734590050679,
          0.9341457036858488,
          0.9341645387336704,
          0.93415533076732,
          0.9342075407390549
         ],
         "yaxis": "y"
        }
       ],
       "layout": {
        "height": 600,
        "legend": {
         "tracegroupgap": 0
        },
        "template": {
         "data": {
          "bar": [
           {
            "error_x": {
             "color": "#2a3f5f"
            },
            "error_y": {
             "color": "#2a3f5f"
            },
            "marker": {
             "line": {
              "color": "#E5ECF6",
              "width": 0.5
             }
            },
            "type": "bar"
           }
          ],
          "barpolar": [
           {
            "marker": {
             "line": {
              "color": "#E5ECF6",
              "width": 0.5
             }
            },
            "type": "barpolar"
           }
          ],
          "carpet": [
           {
            "aaxis": {
             "endlinecolor": "#2a3f5f",
             "gridcolor": "white",
             "linecolor": "white",
             "minorgridcolor": "white",
             "startlinecolor": "#2a3f5f"
            },
            "baxis": {
             "endlinecolor": "#2a3f5f",
             "gridcolor": "white",
             "linecolor": "white",
             "minorgridcolor": "white",
             "startlinecolor": "#2a3f5f"
            },
            "type": "carpet"
           }
          ],
          "choropleth": [
           {
            "colorbar": {
             "outlinewidth": 0,
             "ticks": ""
            },
            "type": "choropleth"
           }
          ],
          "contour": [
           {
            "colorbar": {
             "outlinewidth": 0,
             "ticks": ""
            },
            "colorscale": [
             [
              0,
              "#0d0887"
             ],
             [
              0.1111111111111111,
              "#46039f"
             ],
             [
              0.2222222222222222,
              "#7201a8"
             ],
             [
              0.3333333333333333,
              "#9c179e"
             ],
             [
              0.4444444444444444,
              "#bd3786"
             ],
             [
              0.5555555555555556,
              "#d8576b"
             ],
             [
              0.6666666666666666,
              "#ed7953"
             ],
             [
              0.7777777777777778,
              "#fb9f3a"
             ],
             [
              0.8888888888888888,
              "#fdca26"
             ],
             [
              1,
              "#f0f921"
             ]
            ],
            "type": "contour"
           }
          ],
          "contourcarpet": [
           {
            "colorbar": {
             "outlinewidth": 0,
             "ticks": ""
            },
            "type": "contourcarpet"
           }
          ],
          "heatmap": [
           {
            "colorbar": {
             "outlinewidth": 0,
             "ticks": ""
            },
            "colorscale": [
             [
              0,
              "#0d0887"
             ],
             [
              0.1111111111111111,
              "#46039f"
             ],
             [
              0.2222222222222222,
              "#7201a8"
             ],
             [
              0.3333333333333333,
              "#9c179e"
             ],
             [
              0.4444444444444444,
              "#bd3786"
             ],
             [
              0.5555555555555556,
              "#d8576b"
             ],
             [
              0.6666666666666666,
              "#ed7953"
             ],
             [
              0.7777777777777778,
              "#fb9f3a"
             ],
             [
              0.8888888888888888,
              "#fdca26"
             ],
             [
              1,
              "#f0f921"
             ]
            ],
            "type": "heatmap"
           }
          ],
          "heatmapgl": [
           {
            "colorbar": {
             "outlinewidth": 0,
             "ticks": ""
            },
            "colorscale": [
             [
              0,
              "#0d0887"
             ],
             [
              0.1111111111111111,
              "#46039f"
             ],
             [
              0.2222222222222222,
              "#7201a8"
             ],
             [
              0.3333333333333333,
              "#9c179e"
             ],
             [
              0.4444444444444444,
              "#bd3786"
             ],
             [
              0.5555555555555556,
              "#d8576b"
             ],
             [
              0.6666666666666666,
              "#ed7953"
             ],
             [
              0.7777777777777778,
              "#fb9f3a"
             ],
             [
              0.8888888888888888,
              "#fdca26"
             ],
             [
              1,
              "#f0f921"
             ]
            ],
            "type": "heatmapgl"
           }
          ],
          "histogram": [
           {
            "marker": {
             "colorbar": {
              "outlinewidth": 0,
              "ticks": ""
             }
            },
            "type": "histogram"
           }
          ],
          "histogram2d": [
           {
            "colorbar": {
             "outlinewidth": 0,
             "ticks": ""
            },
            "colorscale": [
             [
              0,
              "#0d0887"
             ],
             [
              0.1111111111111111,
              "#46039f"
             ],
             [
              0.2222222222222222,
              "#7201a8"
             ],
             [
              0.3333333333333333,
              "#9c179e"
             ],
             [
              0.4444444444444444,
              "#bd3786"
             ],
             [
              0.5555555555555556,
              "#d8576b"
             ],
             [
              0.6666666666666666,
              "#ed7953"
             ],
             [
              0.7777777777777778,
              "#fb9f3a"
             ],
             [
              0.8888888888888888,
              "#fdca26"
             ],
             [
              1,
              "#f0f921"
             ]
            ],
            "type": "histogram2d"
           }
          ],
          "histogram2dcontour": [
           {
            "colorbar": {
             "outlinewidth": 0,
             "ticks": ""
            },
            "colorscale": [
             [
              0,
              "#0d0887"
             ],
             [
              0.1111111111111111,
              "#46039f"
             ],
             [
              0.2222222222222222,
              "#7201a8"
             ],
             [
              0.3333333333333333,
              "#9c179e"
             ],
             [
              0.4444444444444444,
              "#bd3786"
             ],
             [
              0.5555555555555556,
              "#d8576b"
             ],
             [
              0.6666666666666666,
              "#ed7953"
             ],
             [
              0.7777777777777778,
              "#fb9f3a"
             ],
             [
              0.8888888888888888,
              "#fdca26"
             ],
             [
              1,
              "#f0f921"
             ]
            ],
            "type": "histogram2dcontour"
           }
          ],
          "mesh3d": [
           {
            "colorbar": {
             "outlinewidth": 0,
             "ticks": ""
            },
            "type": "mesh3d"
           }
          ],
          "parcoords": [
           {
            "line": {
             "colorbar": {
              "outlinewidth": 0,
              "ticks": ""
             }
            },
            "type": "parcoords"
           }
          ],
          "scatter": [
           {
            "marker": {
             "colorbar": {
              "outlinewidth": 0,
              "ticks": ""
             }
            },
            "type": "scatter"
           }
          ],
          "scatter3d": [
           {
            "line": {
             "colorbar": {
              "outlinewidth": 0,
              "ticks": ""
             }
            },
            "marker": {
             "colorbar": {
              "outlinewidth": 0,
              "ticks": ""
             }
            },
            "type": "scatter3d"
           }
          ],
          "scattercarpet": [
           {
            "marker": {
             "colorbar": {
              "outlinewidth": 0,
              "ticks": ""
             }
            },
            "type": "scattercarpet"
           }
          ],
          "scattergeo": [
           {
            "marker": {
             "colorbar": {
              "outlinewidth": 0,
              "ticks": ""
             }
            },
            "type": "scattergeo"
           }
          ],
          "scattergl": [
           {
            "marker": {
             "colorbar": {
              "outlinewidth": 0,
              "ticks": ""
             }
            },
            "type": "scattergl"
           }
          ],
          "scattermapbox": [
           {
            "marker": {
             "colorbar": {
              "outlinewidth": 0,
              "ticks": ""
             }
            },
            "type": "scattermapbox"
           }
          ],
          "scatterpolar": [
           {
            "marker": {
             "colorbar": {
              "outlinewidth": 0,
              "ticks": ""
             }
            },
            "type": "scatterpolar"
           }
          ],
          "scatterpolargl": [
           {
            "marker": {
             "colorbar": {
              "outlinewidth": 0,
              "ticks": ""
             }
            },
            "type": "scatterpolargl"
           }
          ],
          "scatterternary": [
           {
            "marker": {
             "colorbar": {
              "outlinewidth": 0,
              "ticks": ""
             }
            },
            "type": "scatterternary"
           }
          ],
          "surface": [
           {
            "colorbar": {
             "outlinewidth": 0,
             "ticks": ""
            },
            "colorscale": [
             [
              0,
              "#0d0887"
             ],
             [
              0.1111111111111111,
              "#46039f"
             ],
             [
              0.2222222222222222,
              "#7201a8"
             ],
             [
              0.3333333333333333,
              "#9c179e"
             ],
             [
              0.4444444444444444,
              "#bd3786"
             ],
             [
              0.5555555555555556,
              "#d8576b"
             ],
             [
              0.6666666666666666,
              "#ed7953"
             ],
             [
              0.7777777777777778,
              "#fb9f3a"
             ],
             [
              0.8888888888888888,
              "#fdca26"
             ],
             [
              1,
              "#f0f921"
             ]
            ],
            "type": "surface"
           }
          ],
          "table": [
           {
            "cells": {
             "fill": {
              "color": "#EBF0F8"
             },
             "line": {
              "color": "white"
             }
            },
            "header": {
             "fill": {
              "color": "#C8D4E3"
             },
             "line": {
              "color": "white"
             }
            },
            "type": "table"
           }
          ]
         },
         "layout": {
          "annotationdefaults": {
           "arrowcolor": "#2a3f5f",
           "arrowhead": 0,
           "arrowwidth": 1
          },
          "colorscale": {
           "diverging": [
            [
             0,
             "#8e0152"
            ],
            [
             0.1,
             "#c51b7d"
            ],
            [
             0.2,
             "#de77ae"
            ],
            [
             0.3,
             "#f1b6da"
            ],
            [
             0.4,
             "#fde0ef"
            ],
            [
             0.5,
             "#f7f7f7"
            ],
            [
             0.6,
             "#e6f5d0"
            ],
            [
             0.7,
             "#b8e186"
            ],
            [
             0.8,
             "#7fbc41"
            ],
            [
             0.9,
             "#4d9221"
            ],
            [
             1,
             "#276419"
            ]
           ],
           "sequential": [
            [
             0,
             "#0d0887"
            ],
            [
             0.1111111111111111,
             "#46039f"
            ],
            [
             0.2222222222222222,
             "#7201a8"
            ],
            [
             0.3333333333333333,
             "#9c179e"
            ],
            [
             0.4444444444444444,
             "#bd3786"
            ],
            [
             0.5555555555555556,
             "#d8576b"
            ],
            [
             0.6666666666666666,
             "#ed7953"
            ],
            [
             0.7777777777777778,
             "#fb9f3a"
            ],
            [
             0.8888888888888888,
             "#fdca26"
            ],
            [
             1,
             "#f0f921"
            ]
           ],
           "sequentialminus": [
            [
             0,
             "#0d0887"
            ],
            [
             0.1111111111111111,
             "#46039f"
            ],
            [
             0.2222222222222222,
             "#7201a8"
            ],
            [
             0.3333333333333333,
             "#9c179e"
            ],
            [
             0.4444444444444444,
             "#bd3786"
            ],
            [
             0.5555555555555556,
             "#d8576b"
            ],
            [
             0.6666666666666666,
             "#ed7953"
            ],
            [
             0.7777777777777778,
             "#fb9f3a"
            ],
            [
             0.8888888888888888,
             "#fdca26"
            ],
            [
             1,
             "#f0f921"
            ]
           ]
          },
          "colorway": [
           "#636efa",
           "#EF553B",
           "#00cc96",
           "#ab63fa",
           "#FFA15A",
           "#19d3f3",
           "#FF6692",
           "#B6E880",
           "#FF97FF",
           "#FECB52"
          ],
          "font": {
           "color": "#2a3f5f"
          },
          "geo": {
           "bgcolor": "white",
           "lakecolor": "white",
           "landcolor": "#E5ECF6",
           "showlakes": true,
           "showland": true,
           "subunitcolor": "white"
          },
          "hoverlabel": {
           "align": "left"
          },
          "hovermode": "closest",
          "mapbox": {
           "style": "light"
          },
          "paper_bgcolor": "white",
          "plot_bgcolor": "#E5ECF6",
          "polar": {
           "angularaxis": {
            "gridcolor": "white",
            "linecolor": "white",
            "ticks": ""
           },
           "bgcolor": "#E5ECF6",
           "radialaxis": {
            "gridcolor": "white",
            "linecolor": "white",
            "ticks": ""
           }
          },
          "scene": {
           "xaxis": {
            "backgroundcolor": "#E5ECF6",
            "gridcolor": "white",
            "gridwidth": 2,
            "linecolor": "white",
            "showbackground": true,
            "ticks": "",
            "zerolinecolor": "white"
           },
           "yaxis": {
            "backgroundcolor": "#E5ECF6",
            "gridcolor": "white",
            "gridwidth": 2,
            "linecolor": "white",
            "showbackground": true,
            "ticks": "",
            "zerolinecolor": "white"
           },
           "zaxis": {
            "backgroundcolor": "#E5ECF6",
            "gridcolor": "white",
            "gridwidth": 2,
            "linecolor": "white",
            "showbackground": true,
            "ticks": "",
            "zerolinecolor": "white"
           }
          },
          "shapedefaults": {
           "line": {
            "color": "#2a3f5f"
           }
          },
          "ternary": {
           "aaxis": {
            "gridcolor": "white",
            "linecolor": "white",
            "ticks": ""
           },
           "baxis": {
            "gridcolor": "white",
            "linecolor": "white",
            "ticks": ""
           },
           "bgcolor": "#E5ECF6",
           "caxis": {
            "gridcolor": "white",
            "linecolor": "white",
            "ticks": ""
           }
          },
          "title": {
           "x": 0.05
          },
          "xaxis": {
           "automargin": true,
           "gridcolor": "white",
           "linecolor": "white",
           "ticks": "",
           "zerolinecolor": "white",
           "zerolinewidth": 2
          },
          "yaxis": {
           "automargin": true,
           "gridcolor": "white",
           "linecolor": "white",
           "ticks": "",
           "zerolinecolor": "white",
           "zerolinewidth": 2
          }
         }
        },
        "title": {
         "text": "Model Performance (Mean AUC for 5-folds)"
        },
        "xaxis": {
         "anchor": "y",
         "domain": [
          0,
          0.98
         ]
        },
        "yaxis": {
         "anchor": "x",
         "domain": [
          0,
          1
         ],
         "title": {
          "text": "auc-mean"
         }
        }
       }
      },
      "text/html": [
       "<div>\n",
       "        \n",
       "        \n",
       "            <div id=\"79afc975-588a-4125-9766-6848ccacaed9\" class=\"plotly-graph-div\" style=\"height:600px; width:100%;\"></div>\n",
       "            <script type=\"text/javascript\">\n",
       "                require([\"plotly\"], function(Plotly) {\n",
       "                    window.PLOTLYENV=window.PLOTLYENV || {};\n",
       "                    \n",
       "                if (document.getElementById(\"79afc975-588a-4125-9766-6848ccacaed9\")) {\n",
       "                    Plotly.newPlot(\n",
       "                        '79afc975-588a-4125-9766-6848ccacaed9',\n",
       "                        [{\"hoverlabel\": {\"namelength\": 0}, \"hovertemplate\": \"auc-mean=%{y}\", \"legendgroup\": \"\", \"line\": {\"color\": \"#636efa\", \"dash\": \"solid\"}, \"mode\": \"lines\", \"name\": \"\", \"showlegend\": false, \"type\": \"scatter\", \"xaxis\": \"x\", \"y\": [0.8001961429957726, 0.8160095674353695, 0.831155480769975, 0.8523108455609499, 0.8547457680949521, 0.8573202850909789, 0.8597167630296738, 0.8597760079024017, 0.8623283796670076, 0.8635035031119649, 0.8654976096674195, 0.8656730197163796, 0.8670082510324914, 0.8696038928408747, 0.8701441907900526, 0.8714256186665743, 0.8723880285140544, 0.8737761153687046, 0.8749589420455095, 0.87623587331795, 0.8763481954984821, 0.8772008395302233, 0.8781765750764261, 0.878924528618858, 0.8797682587275879, 0.8803767003492042, 0.8812697848130824, 0.881334150698504, 0.8820697963329845, 0.8827941833592036, 0.8831854238563477, 0.8837227122153599, 0.8846495161815309, 0.8855254170234724, 0.8854435134109429, 0.885413737501435, 0.8858891506597087, 0.8866738349095682, 0.8871739544623607, 0.88760120291804, 0.8876419511127004, 0.8879572914376725, 0.8878941556083462, 0.8883560103206716, 0.8889178945607122, 0.8890396105825797, 0.8893702490798148, 0.8895014672960706, 0.8894695208361065, 0.8894450251774082, 0.8895814887540627, 0.8898129604316924, 0.8898731463647985, 0.890101810826845, 0.8902577804028162, 0.8902146542251357, 0.8903440951984081, 0.8904414959431071, 0.8905113488730558, 0.890646019967751, 0.8907357077373312, 0.8908745426141212, 0.891008615134603, 0.8910207287486311, 0.8909057010541812, 0.8910034284282787, 0.8910580053879485, 0.8911371464191996, 0.8910336543140367, 0.8909861050277167, 0.8910689471115347, 0.8911166723998682, 0.8911743918739766, 0.891072529842073, 0.8911287001256806, 0.8911235515919431, 0.8910448024519939, 0.8911157952369347, 0.8911228649072109, 0.8911536212550942, 0.8911474809420354, 0.8911804792151937, 0.8911787708354033, 0.8910873805270425, 0.8910581323873064, 0.8910466367456884, 0.8910484452304418, 0.8910000240958456, 0.8910127126107297, 0.8909429485777677, 0.8909412613860885, 0.8909648164536981, 0.8910381865979403, 0.8909918749032908, 0.8909789842106338, 0.890955496765652, 0.8909849342690059, 0.8909559723903735, 0.8909801056139504, 0.8909515098370153, 0.8910359071791845, 0.8910057414031982, 0.8909657962333549, 0.8910690829690251, 0.8911231309114467, 0.8911097481838153, 0.8911312667457236, 0.8911168411800123, 0.8910849851583856, 0.8910761394111422, 0.891043134153837, 0.8910839130766679, 0.8910462028866203, 0.8910421944375286, 0.891002802349423, 0.8909850639661775, 0.8910064316894761, 0.891064323492694, 0.891041874627988, 0.8910127708704805, 0.8909744812441834, 0.8909504176457181, 0.8908831224743528, 0.8908565999306528, 0.8908844938133422, 0.8908147915134531, 0.8907161673708209, 0.8907180727454709, 0.8906857426921284, 0.8906649056484784, 0.8906621263109307, 0.890655451935614, 0.8907425262173655, 0.8907551795894293, 0.8908476980150063, 0.8909416628706961, 0.8909767121659952, 0.8910502388612904, 0.891081299400537, 0.8910891189138322, 0.8910527023160306, 0.8910438523913152, 0.8910688585048764, 0.8910300658612134, 0.8910868812186876, 0.8910812604023727, 0.8910763805256785, 0.891095661175066, 0.8911399782064569, 0.8911149730735369, 0.8911507502559207, 0.8911671901097886, 0.8912498309416979, 0.8912162669833794, 0.8912207097928245, 0.8912071604678488, 0.8911850693974334, 0.8911771842483096, 0.8911477966034328, 0.8911239707211907, 0.891156330952475, 0.8911685813938117, 0.8911345570376341, 0.8911238460450942, 0.8911057988834834, 0.8911187651021374, 0.8912136589526984, 0.8912734743422854, 0.891416241492136, 0.8914391845135178, 0.8916280502785465, 0.8916402115789509, 0.8916877279942585, 0.8918108740036554, 0.8920180950466202, 0.8919918856610958, 0.8919837946098783, 0.8919953448182953, 0.8921108058689183, 0.8920789640746589, 0.8922323425482197, 0.8924014458176102, 0.89251748996972, 0.8925636485673797, 0.8925274641591004, 0.8926495478389684, 0.8929935125746418, 0.8930321899389968, 0.8930367304226229, 0.8930401823742414, 0.8933016933767266, 0.8934628256870063, 0.89365309996685, 0.893654028239524, 0.8936337348074694, 0.8937778934086046, 0.8937451193184993, 0.8937272359657925, 0.8938503284556081, 0.8938478918961439, 0.893828720150179, 0.8938155608049343, 0.8939931530462989, 0.8939564251681589, 0.893960709574755, 0.8940733536662553, 0.8940657569815436, 0.8941948802569455, 0.894181996014383, 0.8941658063882603, 0.8941507930562947, 0.8942234070745968, 0.8943141296381463, 0.8944132988143654, 0.8945026171013961, 0.8944784035479364, 0.8946262801729038, 0.8948030278576672, 0.8948111545886672, 0.8949928057481816, 0.8949613809431856, 0.8952674055219788, 0.8956415719718842, 0.895619190652743, 0.8955919848653305, 0.8955711949595523, 0.895552663864579, 0.8956465194577363, 0.8956432283263114, 0.8958409544420769, 0.8960315077341716, 0.896166970269196, 0.8961528340999255, 0.8962862150723332, 0.8962906710501969, 0.896525128822191, 0.8967565457834275, 0.8969165319079411, 0.8971603841171503, 0.8974510544712008, 0.8974368832224849, 0.8977422037035859, 0.8977089870224815, 0.8976897155176182, 0.8979129954303415, 0.8981934855429593, 0.898402830092839, 0.8983651087087668, 0.8983605729724639, 0.8987910401707013, 0.8987579623857996, 0.8987297682137999, 0.898914710203023, 0.8990462299921405, 0.8993664476321627, 0.8995626239923655, 0.899957025921581, 0.9002692123463639, 0.9002608501798444, 0.9002363699031305, 0.9002192754072258, 0.900566161081495, 0.9007217848957876, 0.9010094973386433, 0.9012729737219558, 0.9015435778484238, 0.9015109566325921, 0.9017708033338254, 0.9017671947362679, 0.9022803655884685, 0.9022511805031946, 0.9024883815332897, 0.9026807576813571, 0.9026484011307563, 0.9030685204381367, 0.9030219403033835, 0.903396522370939, 0.9033870740650765, 0.9037558932359365, 0.9037274252179468, 0.9037197564036946, 0.904055489055159, 0.904011584443871, 0.904194631889602, 0.9045746377667271, 0.904796673038591, 0.9050769217171105, 0.9050597646696902, 0.9053397841360397, 0.9054637705687704, 0.9057405821991764, 0.9056929061430576, 0.9056338441797633, 0.9059327481392738, 0.9058852590491439, 0.905839957137388, 0.9060742513407692, 0.9060379092893202, 0.9062231874078774, 0.9061958279864175, 0.9061779811514965, 0.9063746450773593, 0.9063225282780737, 0.9062943708978652, 0.9062478412345765, 0.9062200047264024, 0.9062237742875194, 0.9063806021183909, 0.906366336659452, 0.906531225496993, 0.9066026684813219, 0.906705016547263, 0.9068517046984479, 0.9068393361772555, 0.906806000402659, 0.9069889776263859, 0.907119811692047, 0.9073032024156401, 0.9072739298723784, 0.9074153586537566, 0.9073902630427801, 0.9075400385971516, 0.9076926324873975, 0.9076517217862168, 0.9078410409354574, 0.9077958852864431, 0.9079516841294499, 0.9079368190055153, 0.9081018134982702, 0.908074863648902, 0.9080490186702488, 0.9080560537672653, 0.9080166903858933, 0.9079731063394391, 0.9080518687663887, 0.908020813198093, 0.9083541616608963, 0.9085032988274996, 0.908479155492907, 0.9084501615214767, 0.908572487067725, 0.9087306609264042, 0.9088372413123071, 0.9088132958420534, 0.9089549988230503, 0.9091593033688392, 0.909149286997527, 0.9092682673423939, 0.9094397898025827, 0.9093985956859777, 0.9095437573342331, 0.9097094930293149, 0.9098521052176831, 0.9098364704477568, 0.9098075780521869, 0.9099745923110394, 0.9099601804516908, 0.9101879965115763, 0.910169053694722, 0.9103790994370389, 0.9105846827443711, 0.9109436732807848, 0.9109111043304587, 0.9108697312895309, 0.9111641747338307, 0.9111287016800242, 0.9110879846510187, 0.9112756125123788, 0.9112676489736454, 0.9113910439980311, 0.911370084362044, 0.9114870966875813, 0.9117859467034022, 0.9119222224479367, 0.9120845105590135, 0.9120624817005542, 0.9122735666924537, 0.9122306493454355, 0.9122054363098883, 0.9126570698993, 0.9126172335575145, 0.912580633620062, 0.9127356795613014, 0.9129410447797289, 0.9128950179164981, 0.9130672901858923, 0.9133316951712149, 0.9135392124136841, 0.913710621651161, 0.9140505287365709, 0.9140124001423835, 0.9142597344643164, 0.9144883082527986, 0.9146426720517289, 0.9148661196121599, 0.9148418798582352, 0.9150204634062458, 0.9153275366022923, 0.9156535784342232, 0.9158210934740769, 0.9157940475388002, 0.9160497750745249, 0.9160249692341418, 0.9162323354030233, 0.916402925841506, 0.9163800263075041, 0.9164991842758567, 0.9164618622798182, 0.9166770111896347, 0.9169256591686908, 0.9172155802453694, 0.9171846953764353, 0.9171468221298685, 0.9173088786431549, 0.9174575787183292, 0.9176503824752746, 0.9176022231434036, 0.9175631154665188, 0.9180552467919272, 0.9180177664889712, 0.9183808283994219, 0.9185846060924441, 0.9188160558289624, 0.9191844086134073, 0.9191566827784847, 0.9193521213735101, 0.9195406377153557, 0.9194990113224856, 0.9196945353486997, 0.9196815930382101, 0.9197926216449585, 0.9199666127372426, 0.9201272254201374, 0.9200914999547146, 0.9200595189077155, 0.920264735407048, 0.9204397969476392, 0.9204167665997106, 0.920396431210379, 0.9204849210682683, 0.9206461317502648, 0.9208237551408557, 0.9207875088505428, 0.9209638762772874, 0.9211431430459305, 0.9211193394647372, 0.9212636021441529, 0.9213941771362476, 0.9215589376427298, 0.9216484359271048, 0.9218484278548903, 0.9218287793293172, 0.9218068017537011, 0.9217956659300978, 0.9220381634354377, 0.9220135167043418, 0.921960743499618, 0.9221057701487652, 0.9222365759749135, 0.9222220721412524, 0.922353889041136, 0.922314993699654, 0.9222868588232009, 0.9224088157126185, 0.9225301736039672, 0.9225020170111142, 0.9225965244394739, 0.9225887332194199, 0.9228875224272686, 0.9228599598149569, 0.922985999138113, 0.9229576825287358, 0.9230858554542678, 0.9232149723913716, 0.9234995253423305, 0.9234970387456114, 0.9235928015350611, 0.923551990014159, 0.9235195104548538, 0.9236207747284041, 0.9237013680237341, 0.9237881004993064, 0.9239028814646213, 0.9240242796124989, 0.9240049145509934, 0.9241157946362971, 0.9243307025332983, 0.9245039815572982, 0.9246269530769421, 0.9246057644509023, 0.924586732456363, 0.9245669209935773, 0.9245438883089647, 0.9246069280833952, 0.9247285930648734, 0.9249622494536659, 0.9251447107626081, 0.925299886174634, 0.9252869866025643, 0.9253897182240147, 0.9253687417245956, 0.9254892218653371, 0.9256233745549025, 0.9255998990566466, 0.9255839050570224, 0.9256528313593124, 0.9258343840714909, 0.9259766741643795, 0.9262187245214765, 0.9263747447084482, 0.9263379988191971, 0.9264351632731621, 0.9265254928254631, 0.9266401993083709, 0.9267759892126728, 0.9267552609475184, 0.9267423305156992, 0.9267462386663501, 0.9267296933410272, 0.9269430097554683, 0.9270356293935651, 0.9269998104742324, 0.9269763713235479, 0.9269487051767987, 0.9269380004737695, 0.9270250713166813, 0.9270150892609508, 0.9271391413067509, 0.9272120744731789, 0.9274164753630962, 0.9273997469308985, 0.9275567731031991, 0.9275369987335165, 0.9276604394290151, 0.9277310321794117, 0.9277174603670453, 0.9277914486548164, 0.9279117253099184, 0.9278817190037902, 0.9278526781688807, 0.9278405019269684, 0.9279099433885968, 0.9278734130096824, 0.9278501225337792, 0.9279789400612739, 0.9280458762204994, 0.9282039287848699, 0.928368950422439, 0.9283527462898921, 0.9284514357600413, 0.9285861813264787, 0.92869925471355, 0.9286555756309591, 0.9286569926705759, 0.9287669325889458, 0.9287514418256118, 0.9287285806922554, 0.928811410046, 0.9289128692056383, 0.9290153451080968, 0.9289952219018429, 0.9289879970536793, 0.9289756915588129, 0.92894208788054, 0.9290004040128661, 0.9290513351653822, 0.929107887906133, 0.9291099621091312, 0.9290896363774144, 0.9290778923607201, 0.9291378458380258, 0.9292131943975779, 0.9292076788218624, 0.9291893749150468, 0.9292210312380528, 0.9291949967121476, 0.9291918005549276, 0.9291576796675061, 0.9291506704718252, 0.9291327231048514, 0.9292010229235229, 0.9291811446299467, 0.9291957983161195, 0.9291780968268875, 0.9293081261085563, 0.9293040847449013, 0.9293772257095393, 0.9293590223294041, 0.92932460268049, 0.9293240280203869, 0.9292914363866067, 0.9292755544589457, 0.9293178933888513, 0.9293076257346273, 0.929302929964075, 0.9292956701182344, 0.9292843593255482, 0.9292675516235989, 0.9292942546117258, 0.9293432172734375, 0.9293783191531102, 0.9293650092412673, 0.9293918380950391, 0.9293796262408982, 0.9293626272418514, 0.9293505041219697, 0.929344441942989, 0.9293375295723687, 0.9293774000958781, 0.9294470679717876, 0.9295139351713815, 0.9295563033430522, 0.9295340960254499, 0.9295743797095893, 0.9296533925776096, 0.929755816204751, 0.9297493477710166, 0.9298675724068209, 0.9299227362100687, 0.9299777109077985, 0.9299679862774312, 0.9299530139470293, 0.930025653414209, 0.9300087122884703, 0.930073070063586, 0.930120829894394, 0.9301903070625637, 0.9303511175647772, 0.9303359078489681, 0.9303224836965228, 0.9303926602103385, 0.9304666924781673, 0.9304532412793483, 0.9304348162485331, 0.9305145701424348, 0.9305656408463723, 0.9306510329984515, 0.9306293715160562, 0.930617152565493, 0.9307001655590366, 0.9306872296930905, 0.9306905804844388, 0.9308258258819982, 0.9308006144649544, 0.9309541199435909, 0.9310232558683358, 0.9310893376001171, 0.9311533971906314, 0.9311433569644769, 0.9311296093660539, 0.9311768869487252, 0.9311765244108521, 0.9311658568844463, 0.9311598075348119, 0.9312951141565009, 0.9313369433909358, 0.9313190981902093, 0.93136965064585, 0.9313588044595029, 0.9314159615765485, 0.9313988914065101, 0.9314914577112121, 0.9314801236260515, 0.9314728966631224, 0.9314733515128246, 0.9314653216419989, 0.9314313374377653, 0.9314185400529038, 0.9314582042697122, 0.9314958356678706, 0.9314934223825897, 0.9315183665691118, 0.9315141522455839, 0.9315569069541354, 0.931603031457142, 0.9316699755441785, 0.9317352379000189, 0.9317406052966206, 0.9318095087111373, 0.9318641399699106, 0.9318638838438694, 0.9318549509384294, 0.9319192057488204, 0.9319927767188183, 0.931962918078032, 0.9320110637412247, 0.9320026630417448, 0.9319843591058758, 0.932049177485774, 0.9321203848703183, 0.9321036030283352, 0.9320876226412282, 0.9321237551829606, 0.9322396009950514, 0.9322303577030262, 0.9322904145210782, 0.9323462703020761, 0.9325902280626839, 0.9325736925039123, 0.9326144756435422, 0.932677805809002, 0.9327561002575202, 0.9327526178008659, 0.9327420928697723, 0.9327278905717321, 0.9327199249733956, 0.932716542108988, 0.9328009369218064, 0.9328163239402409, 0.9329510489441699, 0.9329496760666782, 0.9329459739457985, 0.9330764815284767, 0.933182022485164, 0.9331683856000016, 0.9332206961261408, 0.9332141411702677, 0.9332051231117621, 0.9331914513621775, 0.9331748345904611, 0.9332016390819629, 0.9331920008263017, 0.9332683074503008, 0.9333218044304734, 0.9333181535568571, 0.9334474993535995, 0.9334999821901185, 0.9335505009237608, 0.9335402496464236, 0.9335945146033253, 0.9335872842155106, 0.9335722553534808, 0.9336060311876665, 0.9335989668285448, 0.9336709824018762, 0.9336592927543149, 0.9336629326253201, 0.9337115192085459, 0.9337709719178007, 0.9338088607221046, 0.9338045964284853, 0.9338960452110807, 0.933957074461236, 0.9339968686900099, 0.9339863841319793, 0.9339734590050679, 0.9341457036858488, 0.9341645387336704, 0.93415533076732, 0.9342075407390549], \"yaxis\": \"y\"}],\n",
       "                        {\"height\": 600, \"legend\": {\"tracegroupgap\": 0}, \"template\": {\"data\": {\"bar\": [{\"error_x\": {\"color\": \"#2a3f5f\"}, \"error_y\": {\"color\": \"#2a3f5f\"}, \"marker\": {\"line\": {\"color\": \"#E5ECF6\", \"width\": 0.5}}, \"type\": \"bar\"}], \"barpolar\": [{\"marker\": {\"line\": {\"color\": \"#E5ECF6\", \"width\": 0.5}}, \"type\": \"barpolar\"}], \"carpet\": [{\"aaxis\": {\"endlinecolor\": \"#2a3f5f\", \"gridcolor\": \"white\", \"linecolor\": \"white\", \"minorgridcolor\": \"white\", \"startlinecolor\": \"#2a3f5f\"}, \"baxis\": {\"endlinecolor\": \"#2a3f5f\", \"gridcolor\": \"white\", \"linecolor\": \"white\", \"minorgridcolor\": \"white\", \"startlinecolor\": \"#2a3f5f\"}, \"type\": \"carpet\"}], \"choropleth\": [{\"colorbar\": {\"outlinewidth\": 0, \"ticks\": \"\"}, \"type\": \"choropleth\"}], \"contour\": [{\"colorbar\": {\"outlinewidth\": 0, \"ticks\": \"\"}, \"colorscale\": [[0.0, \"#0d0887\"], [0.1111111111111111, \"#46039f\"], [0.2222222222222222, \"#7201a8\"], [0.3333333333333333, \"#9c179e\"], [0.4444444444444444, \"#bd3786\"], [0.5555555555555556, \"#d8576b\"], [0.6666666666666666, \"#ed7953\"], [0.7777777777777778, \"#fb9f3a\"], [0.8888888888888888, \"#fdca26\"], [1.0, \"#f0f921\"]], \"type\": \"contour\"}], \"contourcarpet\": [{\"colorbar\": {\"outlinewidth\": 0, \"ticks\": \"\"}, \"type\": \"contourcarpet\"}], \"heatmap\": [{\"colorbar\": {\"outlinewidth\": 0, \"ticks\": \"\"}, \"colorscale\": [[0.0, \"#0d0887\"], [0.1111111111111111, \"#46039f\"], [0.2222222222222222, \"#7201a8\"], [0.3333333333333333, \"#9c179e\"], [0.4444444444444444, \"#bd3786\"], [0.5555555555555556, \"#d8576b\"], [0.6666666666666666, \"#ed7953\"], [0.7777777777777778, \"#fb9f3a\"], [0.8888888888888888, \"#fdca26\"], [1.0, \"#f0f921\"]], \"type\": \"heatmap\"}], \"heatmapgl\": [{\"colorbar\": {\"outlinewidth\": 0, \"ticks\": \"\"}, \"colorscale\": [[0.0, \"#0d0887\"], [0.1111111111111111, \"#46039f\"], [0.2222222222222222, \"#7201a8\"], [0.3333333333333333, \"#9c179e\"], [0.4444444444444444, \"#bd3786\"], [0.5555555555555556, \"#d8576b\"], [0.6666666666666666, \"#ed7953\"], [0.7777777777777778, \"#fb9f3a\"], [0.8888888888888888, \"#fdca26\"], [1.0, \"#f0f921\"]], \"type\": \"heatmapgl\"}], \"histogram\": [{\"marker\": {\"colorbar\": {\"outlinewidth\": 0, \"ticks\": \"\"}}, \"type\": \"histogram\"}], \"histogram2d\": [{\"colorbar\": {\"outlinewidth\": 0, \"ticks\": \"\"}, \"colorscale\": [[0.0, \"#0d0887\"], [0.1111111111111111, \"#46039f\"], [0.2222222222222222, \"#7201a8\"], [0.3333333333333333, \"#9c179e\"], [0.4444444444444444, \"#bd3786\"], [0.5555555555555556, \"#d8576b\"], [0.6666666666666666, \"#ed7953\"], [0.7777777777777778, \"#fb9f3a\"], [0.8888888888888888, \"#fdca26\"], [1.0, \"#f0f921\"]], \"type\": \"histogram2d\"}], \"histogram2dcontour\": [{\"colorbar\": {\"outlinewidth\": 0, \"ticks\": \"\"}, \"colorscale\": [[0.0, \"#0d0887\"], [0.1111111111111111, \"#46039f\"], [0.2222222222222222, \"#7201a8\"], [0.3333333333333333, \"#9c179e\"], [0.4444444444444444, \"#bd3786\"], [0.5555555555555556, \"#d8576b\"], [0.6666666666666666, \"#ed7953\"], [0.7777777777777778, \"#fb9f3a\"], [0.8888888888888888, \"#fdca26\"], [1.0, \"#f0f921\"]], \"type\": \"histogram2dcontour\"}], \"mesh3d\": [{\"colorbar\": {\"outlinewidth\": 0, \"ticks\": \"\"}, \"type\": \"mesh3d\"}], \"parcoords\": [{\"line\": {\"colorbar\": {\"outlinewidth\": 0, \"ticks\": \"\"}}, \"type\": \"parcoords\"}], \"scatter\": [{\"marker\": {\"colorbar\": {\"outlinewidth\": 0, \"ticks\": \"\"}}, \"type\": \"scatter\"}], \"scatter3d\": [{\"line\": {\"colorbar\": {\"outlinewidth\": 0, \"ticks\": \"\"}}, \"marker\": {\"colorbar\": {\"outlinewidth\": 0, \"ticks\": \"\"}}, \"type\": \"scatter3d\"}], \"scattercarpet\": [{\"marker\": {\"colorbar\": {\"outlinewidth\": 0, \"ticks\": \"\"}}, \"type\": \"scattercarpet\"}], \"scattergeo\": [{\"marker\": {\"colorbar\": {\"outlinewidth\": 0, \"ticks\": \"\"}}, \"type\": \"scattergeo\"}], \"scattergl\": [{\"marker\": {\"colorbar\": {\"outlinewidth\": 0, \"ticks\": \"\"}}, \"type\": \"scattergl\"}], \"scattermapbox\": [{\"marker\": {\"colorbar\": {\"outlinewidth\": 0, \"ticks\": \"\"}}, \"type\": \"scattermapbox\"}], \"scatterpolar\": [{\"marker\": {\"colorbar\": {\"outlinewidth\": 0, \"ticks\": \"\"}}, \"type\": \"scatterpolar\"}], \"scatterpolargl\": [{\"marker\": {\"colorbar\": {\"outlinewidth\": 0, \"ticks\": \"\"}}, \"type\": \"scatterpolargl\"}], \"scatterternary\": [{\"marker\": {\"colorbar\": {\"outlinewidth\": 0, \"ticks\": \"\"}}, \"type\": \"scatterternary\"}], \"surface\": [{\"colorbar\": {\"outlinewidth\": 0, \"ticks\": \"\"}, \"colorscale\": [[0.0, \"#0d0887\"], [0.1111111111111111, \"#46039f\"], [0.2222222222222222, \"#7201a8\"], [0.3333333333333333, \"#9c179e\"], [0.4444444444444444, \"#bd3786\"], [0.5555555555555556, \"#d8576b\"], [0.6666666666666666, \"#ed7953\"], [0.7777777777777778, \"#fb9f3a\"], [0.8888888888888888, \"#fdca26\"], [1.0, \"#f0f921\"]], \"type\": \"surface\"}], \"table\": [{\"cells\": {\"fill\": {\"color\": \"#EBF0F8\"}, \"line\": {\"color\": \"white\"}}, \"header\": {\"fill\": {\"color\": \"#C8D4E3\"}, \"line\": {\"color\": \"white\"}}, \"type\": \"table\"}]}, \"layout\": {\"annotationdefaults\": {\"arrowcolor\": \"#2a3f5f\", \"arrowhead\": 0, \"arrowwidth\": 1}, \"colorscale\": {\"diverging\": [[0, \"#8e0152\"], [0.1, \"#c51b7d\"], [0.2, \"#de77ae\"], [0.3, \"#f1b6da\"], [0.4, \"#fde0ef\"], [0.5, \"#f7f7f7\"], [0.6, \"#e6f5d0\"], [0.7, \"#b8e186\"], [0.8, \"#7fbc41\"], [0.9, \"#4d9221\"], [1, \"#276419\"]], \"sequential\": [[0.0, \"#0d0887\"], [0.1111111111111111, \"#46039f\"], [0.2222222222222222, \"#7201a8\"], [0.3333333333333333, \"#9c179e\"], [0.4444444444444444, \"#bd3786\"], [0.5555555555555556, \"#d8576b\"], [0.6666666666666666, \"#ed7953\"], [0.7777777777777778, \"#fb9f3a\"], [0.8888888888888888, \"#fdca26\"], [1.0, \"#f0f921\"]], \"sequentialminus\": [[0.0, \"#0d0887\"], [0.1111111111111111, \"#46039f\"], [0.2222222222222222, \"#7201a8\"], [0.3333333333333333, \"#9c179e\"], [0.4444444444444444, \"#bd3786\"], [0.5555555555555556, \"#d8576b\"], [0.6666666666666666, \"#ed7953\"], [0.7777777777777778, \"#fb9f3a\"], [0.8888888888888888, \"#fdca26\"], [1.0, \"#f0f921\"]]}, \"colorway\": [\"#636efa\", \"#EF553B\", \"#00cc96\", \"#ab63fa\", \"#FFA15A\", \"#19d3f3\", \"#FF6692\", \"#B6E880\", \"#FF97FF\", \"#FECB52\"], \"font\": {\"color\": \"#2a3f5f\"}, \"geo\": {\"bgcolor\": \"white\", \"lakecolor\": \"white\", \"landcolor\": \"#E5ECF6\", \"showlakes\": true, \"showland\": true, \"subunitcolor\": \"white\"}, \"hoverlabel\": {\"align\": \"left\"}, \"hovermode\": \"closest\", \"mapbox\": {\"style\": \"light\"}, \"paper_bgcolor\": \"white\", \"plot_bgcolor\": \"#E5ECF6\", \"polar\": {\"angularaxis\": {\"gridcolor\": \"white\", \"linecolor\": \"white\", \"ticks\": \"\"}, \"bgcolor\": \"#E5ECF6\", \"radialaxis\": {\"gridcolor\": \"white\", \"linecolor\": \"white\", \"ticks\": \"\"}}, \"scene\": {\"xaxis\": {\"backgroundcolor\": \"#E5ECF6\", \"gridcolor\": \"white\", \"gridwidth\": 2, \"linecolor\": \"white\", \"showbackground\": true, \"ticks\": \"\", \"zerolinecolor\": \"white\"}, \"yaxis\": {\"backgroundcolor\": \"#E5ECF6\", \"gridcolor\": \"white\", \"gridwidth\": 2, \"linecolor\": \"white\", \"showbackground\": true, \"ticks\": \"\", \"zerolinecolor\": \"white\"}, \"zaxis\": {\"backgroundcolor\": \"#E5ECF6\", \"gridcolor\": \"white\", \"gridwidth\": 2, \"linecolor\": \"white\", \"showbackground\": true, \"ticks\": \"\", \"zerolinecolor\": \"white\"}}, \"shapedefaults\": {\"line\": {\"color\": \"#2a3f5f\"}}, \"ternary\": {\"aaxis\": {\"gridcolor\": \"white\", \"linecolor\": \"white\", \"ticks\": \"\"}, \"baxis\": {\"gridcolor\": \"white\", \"linecolor\": \"white\", \"ticks\": \"\"}, \"bgcolor\": \"#E5ECF6\", \"caxis\": {\"gridcolor\": \"white\", \"linecolor\": \"white\", \"ticks\": \"\"}}, \"title\": {\"x\": 0.05}, \"xaxis\": {\"automargin\": true, \"gridcolor\": \"white\", \"linecolor\": \"white\", \"ticks\": \"\", \"zerolinecolor\": \"white\", \"zerolinewidth\": 2}, \"yaxis\": {\"automargin\": true, \"gridcolor\": \"white\", \"linecolor\": \"white\", \"ticks\": \"\", \"zerolinecolor\": \"white\", \"zerolinewidth\": 2}}}, \"title\": {\"text\": \"Model Performance (Mean AUC for 5-folds)\"}, \"xaxis\": {\"anchor\": \"y\", \"domain\": [0.0, 0.98]}, \"yaxis\": {\"anchor\": \"x\", \"domain\": [0.0, 1.0], \"title\": {\"text\": \"auc-mean\"}}},\n",
       "                        {\"responsive\": true}\n",
       "                    ).then(function(){\n",
       "                            \n",
       "var gd = document.getElementById('79afc975-588a-4125-9766-6848ccacaed9');\n",
       "var x = new MutationObserver(function (mutations, observer) {{\n",
       "        var display = window.getComputedStyle(gd).display;\n",
       "        if (!display || display === 'none') {{\n",
       "            console.log([gd, 'removed!']);\n",
       "            Plotly.purge(gd);\n",
       "            observer.disconnect();\n",
       "        }}\n",
       "}});\n",
       "\n",
       "// Listen for the removal of the full notebook cells\n",
       "var notebookContainer = gd.closest('#notebook-container');\n",
       "if (notebookContainer) {{\n",
       "    x.observe(notebookContainer, {childList: true});\n",
       "}}\n",
       "\n",
       "// Listen for the clearing of the current output cell\n",
       "var outputEl = gd.closest('.output');\n",
       "if (outputEl) {{\n",
       "    x.observe(outputEl, {childList: true});\n",
       "}}\n",
       "\n",
       "                        })\n",
       "                };\n",
       "                });\n",
       "            </script>\n",
       "        </div>"
      ]
     },
     "metadata": {},
     "output_type": "display_data"
    }
   ],
   "source": [
    "px.line(eval_hist, y='auc-mean', title='Model Performance (Mean AUC for 5-folds)')"
   ]
  },
  {
   "cell_type": "code",
   "execution_count": null,
   "metadata": {
    "ExecuteTime": {
     "end_time": "2019-09-27T16:31:31.679360Z",
     "start_time": "2019-09-27T16:31:31.000Z"
    }
   },
   "outputs": [],
   "source": [
    "def get_split(X, y, test_size=0.1, random_state=0):\n",
    "    sss = StratifiedShuffleSplit(n_splits=1,\n",
    "                                 test_size=test_size,\n",
    "                                 random_state=0)\n",
    "    \n",
    "    for train_index, test_index in sss.split(X,y):\n",
    "        X_train, X_test = X.iloc[train_index], X.iloc[test_index]\n",
    "        y_train, y_test = y.iloc[train_index], y.iloc[test_index]\n",
    "    return X_train, X_test, y_train, y_test"
   ]
  },
  {
   "cell_type": "code",
   "execution_count": 40,
   "metadata": {
    "ExecuteTime": {
     "end_time": "2019-09-27T09:26:30.646073Z",
     "start_time": "2019-09-27T09:26:24.744578Z"
    }
   },
   "outputs": [],
   "source": [
    "X_train, X_dev, y_train, y_dev = get_split(X,y)"
   ]
  },
  {
   "cell_type": "code",
   "execution_count": 89,
   "metadata": {
    "ExecuteTime": {
     "end_time": "2019-09-27T11:59:17.774272Z",
     "start_time": "2019-09-27T11:45:43.323520Z"
    }
   },
   "outputs": [],
   "source": [
    "lgb_train = lgb.Dataset(data=X_train, label=y_train)\n",
    "\n",
    "model_params = {\n",
    "    'task': 'train',\n",
    "    'boosting_type': 'gbdt',\n",
    "    'objective': 'binary',\n",
    "    'metric': 'auc',\n",
    "    'learning_rate': 0.01,\n",
    "    'verbose': -1\n",
    "     }\n",
    "\n",
    "training_params = dict(\n",
    "            params=model_params,\n",
    "            train_set=lgb_train,\n",
    "            num_boost_round=1300,\n",
    "            valid_sets=None,\n",
    "            valid_names=None,\n",
    "            fobj=None,\n",
    "            feval=None,\n",
    "            init_model=None,\n",
    "            feature_name='auto',\n",
    "            categorical_feature='auto',\n",
    "            early_stopping_rounds=None,\n",
    "            evals_result=None,\n",
    "            verbose_eval=True,\n",
    "            learning_rates=None,\n",
    "            keep_training_booster=False,\n",
    "            callbacks=None\n",
    ")\n",
    "\n",
    "lgb_model = lgb.train(**training_params)"
   ]
  },
  {
   "cell_type": "code",
   "execution_count": 90,
   "metadata": {
    "ExecuteTime": {
     "end_time": "2019-09-27T12:00:49.381557Z",
     "start_time": "2019-09-27T11:59:17.792189Z"
    }
   },
   "outputs": [
    {
     "data": {
      "image/png": "[encoded data removed]",
      "text/plain": [
       "<Figure size 864x360 with 2 Axes>"
      ]
     },
     "metadata": {
      "needs_background": "light"
     },
     "output_type": "display_data"
    },
    {
     "name": "stdout",
     "output_type": "stream",
     "text": [
      "Train-set AUC Score = 0.95171\n",
      "Test-set AUC Score = 0.94464\n"
     ]
    }
   ],
   "source": [
    "auc_plot_params = dict(\n",
    "        model_pred_fn=lgb_model.predict,\n",
    "        X_train=X_train,\n",
    "        X_test=X_dev,\n",
    "        y_train=y_train,\n",
    "        y_test=y_dev,\n",
    "        dim=1\n",
    ")\n",
    "auc_plot_score(**auc_plot_params)"
   ]
  },
  {
   "cell_type": "code",
   "execution_count": 91,
   "metadata": {
    "ExecuteTime": {
     "end_time": "2019-09-27T12:00:50.810655Z",
     "start_time": "2019-09-27T12:00:49.389530Z"
    }
   },
   "outputs": [
    {
     "data": {
      "text/plain": [
       "26075"
      ]
     },
     "execution_count": 91,
     "metadata": {},
     "output_type": "execute_result"
    }
   ],
   "source": [
    "gc.collect()"
   ]
  },
  {
   "cell_type": "markdown",
   "metadata": {},
   "source": [
    "Saving the model. LightGBM.Booster.save_model() \n",
    "\n",
    "To load the model from the saved model artifact, use: \n",
    "\n",
    "LightGBM.Booster(model_file='/path/to/model-artifact')"
   ]
  },
  {
   "cell_type": "code",
   "execution_count": 94,
   "metadata": {
    "ExecuteTime": {
     "end_time": "2019-09-27T12:02:12.527013Z",
     "start_time": "2019-09-27T12:02:12.386457Z"
    }
   },
   "outputs": [
    {
     "data": {
      "text/plain": [
       "<lightgbm.basic.Booster at 0x137897f98>"
      ]
     },
     "execution_count": 94,
     "metadata": {},
     "output_type": "execute_result"
    }
   ],
   "source": [
    "lgb_model.save_model('./model_artifacts/lgbm_rr_2.ml') "
   ]
  },
  {
   "cell_type": "code",
   "execution_count": 11,
   "metadata": {
    "ExecuteTime": {
     "end_time": "2019-09-27T18:16:32.322526Z",
     "start_time": "2019-09-27T18:16:25.380925Z"
    }
   },
   "outputs": [],
   "source": [
    "test = pd.read_parquet('./model_data/reduced_processed/test_set.pqt.gz')\n",
    "test.drop('isFraud', axis=1, inplace=True)"
   ]
  },
  {
   "cell_type": "code",
   "execution_count": 12,
   "metadata": {
    "ExecuteTime": {
     "end_time": "2019-09-27T18:16:41.514810Z",
     "start_time": "2019-09-27T18:16:41.505844Z"
    }
   },
   "outputs": [],
   "source": [
    "def submission_data(model, data, idx=None, fp = 'submission.csv'):\n",
    "    y_score = model.predict(data)\n",
    "    \n",
    "    submission_data = pd.concat([pd.Series(idx), pd.Series(y_score)], axis=1)\n",
    "    submission_data.columns = ['TransactionID', 'isFraud']\n",
    "    submission_folder = os.path.join(wd,'submissions')\n",
    "    os.makedirs(submission_folder, exist_ok=True)\n",
    "    fp = os.path.join(submission_folder, fp)\n",
    "    submission_data.to_csv(fp, index=False)"
   ]
  },
  {
   "cell_type": "code",
   "execution_count": 13,
   "metadata": {
    "ExecuteTime": {
     "end_time": "2019-09-27T18:16:41.960326Z",
     "start_time": "2019-09-27T18:16:41.952246Z"
    },
    "code_folding": []
   },
   "outputs": [],
   "source": [
    "import subprocess\n",
    "\n",
    "def shell(cmd):\n",
    "    try:\n",
    "        sub_cmd = subprocess.Popen(cmd,\n",
    "                                   shell=True,\n",
    "                                   stdout=subprocess.PIPE)\n",
    "    except Exception as e:\n",
    "        logger.error('Exception occurred during shell execution. Message: %s' % e)\n",
    "    else:\n",
    "        output = sub_cmd.communicate()[0].decode('utf-8')\n",
    "        print(output)\n",
    "        return output"
   ]
  },
  {
   "cell_type": "code",
   "execution_count": 14,
   "metadata": {
    "ExecuteTime": {
     "end_time": "2019-09-27T18:16:43.461211Z",
     "start_time": "2019-09-27T18:16:43.456180Z"
    }
   },
   "outputs": [],
   "source": [
    "def submit_result(submission_file = 'submission.csv', message='Submission made.'):\n",
    "    s_file = os.path.join(wd, 'submissions', submission_file)\n",
    "    submit_cmd = f'kaggle competitions submit -f {s_file} -m {message} -c ieee-fraud-detection'\n",
    "    shell(submit_cmd)"
   ]
  },
  {
   "cell_type": "code",
   "execution_count": 112,
   "metadata": {
    "ExecuteTime": {
     "end_time": "2019-09-27T13:52:32.312216Z",
     "start_time": "2019-09-27T13:52:30.585365Z"
    },
    "scrolled": true
   },
   "outputs": [
    {
     "name": "stdout",
     "output_type": "stream",
     "text": [
      "Could not find competition - please verify that you entered the correct competition ID and that the competition is still accepting submissions.\n",
      "\n"
     ]
    }
   ],
   "source": [
    "submit_result('submission.csv')"
   ]
  },
  {
   "cell_type": "code",
   "execution_count": null,
   "metadata": {},
   "outputs": [],
   "source": []
  }
 ],
 "metadata": {
  "hide_input": false,
  "kernelspec": {
   "display_name": "Python 3",
   "language": "python",
   "name": "python3"
  },
  "language_info": {
   "codemirror_mode": {
    "name": "ipython",
    "version": 3
   },
   "file_extension": ".py",
   "mimetype": "text/x-python",
   "name": "python",
   "nbconvert_exporter": "python",
   "pygments_lexer": "ipython3",
   "version": "3.7.4"
  },
  "notify_time": "5",
  "toc": {
   "base_numbering": 1,
   "nav_menu": {},
   "number_sections": true,
   "sideBar": true,
   "skip_h1_title": false,
   "title_cell": "Table of Contents",
   "title_sidebar": "Contents",
   "toc_cell": false,
   "toc_position": {},
   "toc_section_display": true,
   "toc_window_display": false
  }
 },
 "nbformat": 4,
 "nbformat_minor": 2
}
