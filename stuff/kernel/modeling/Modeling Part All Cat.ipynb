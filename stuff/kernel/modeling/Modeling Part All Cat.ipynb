{
 "cells": [
  {
   "cell_type": "code",
   "execution_count": 2,
   "metadata": {
    "ExecuteTime": {
     "end_time": "2019-09-23T15:25:12.807387Z",
     "start_time": "2019-09-23T15:25:10.317277Z"
    }
   },
   "outputs": [
    {
     "data": {
      "text/html": [
       "        <script type=\"text/javascript\">\n",
       "        window.PlotlyConfig = {MathJaxConfig: 'local'};\n",
       "        if (window.MathJax) {MathJax.Hub.Config({SVG: {font: \"STIX-Web\"}});}\n",
       "        if (typeof require !== 'undefined') {\n",
       "        require.undef(\"plotly\");\n",
       "        requirejs.config({\n",
       "            paths: {\n",
       "                'plotly': ['https://cdn.plot.ly/plotly-latest.min']\n",
       "            }\n",
       "        });\n",
       "        require(['plotly'], function(Plotly) {\n",
       "            window._Plotly = Plotly;\n",
       "        });\n",
       "        }\n",
       "        </script>\n",
       "        "
      ]
     },
     "metadata": {},
     "output_type": "display_data"
    }
   ],
   "source": [
    "# Scientific libraries\n",
    "              \n",
    "import numpy as np              \n",
    "import scipy as sp              \n",
    "import pandas as pd              \n",
    "import json              \n",
    "import missingno as msno              \n",
    "\n",
    "# Loading Plotting Modules     \n",
    "   \n",
    "import chart_studio.plotly as py              \n",
    "import plotly.figure_factory as ff              \n",
    "import plotly.graph_objects as go              \n",
    "import plotly.express as px              \n",
    "from plotly.offline import download_plotlyjs, init_notebook_mode, plot, iplot              \n",
    "init_notebook_mode(connected=True)              \n",
    "\n",
    "from sklearn.metrics import auc, roc_curve\n",
    "\n",
    "# Setting Data Frame Options         \n",
    "\n",
    "import katana.nbutil as ktn\n",
    "              \n",
    "import os"
   ]
  },
  {
   "cell_type": "code",
   "execution_count": 3,
   "metadata": {
    "ExecuteTime": {
     "end_time": "2019-09-25T08:01:44.441346Z",
     "start_time": "2019-09-25T08:01:44.429182Z"
    }
   },
   "outputs": [],
   "source": [
    "import json\n",
    "import gc\n",
    "import os\n",
    "\n",
    "import numpy as np              \n",
    "import scipy as sp              \n",
    "import pandas as pd                            \n",
    "import missingno as msno \n",
    "\n",
    "import matplotlib              \n",
    "import matplotlib.pyplot as plt              \n",
    "import seaborn as sns              \n",
    "%matplotlib inline           \n",
    "\n",
    "pd.set_option('display.max_rows', 40)              \n",
    "pd.set_option('display.max_columns', 50)              \n",
    "pd.set_option('display.width', 100)              \n",
    "pd.set_option('display.max_colwidth', 100)              \n",
    "\n",
    "# Setting Plot Configuration\n",
    "              \n",
    "sns.set(rc={'figure.figsize':(19,11)}, style = 'white')     "
   ]
  },
  {
   "cell_type": "code",
   "execution_count": 4,
   "metadata": {
    "ExecuteTime": {
     "end_time": "2019-09-25T08:02:03.194980Z",
     "start_time": "2019-09-25T08:01:58.441339Z"
    }
   },
   "outputs": [
    {
     "name": "stdout",
     "output_type": "stream",
     "text": [
      "Data Frame: 144233 x 6586\n"
     ]
    },
    {
     "data": {
      "text/html": [
       "<div>\n",
       "<style scoped>\n",
       "    .dataframe tbody tr th:only-of-type {\n",
       "        vertical-align: middle;\n",
       "    }\n",
       "\n",
       "    .dataframe tbody tr th {\n",
       "        vertical-align: top;\n",
       "    }\n",
       "\n",
       "    .dataframe thead th {\n",
       "        text-align: right;\n",
       "    }\n",
       "</style>\n",
       "<table border=\"1\" class=\"dataframe\">\n",
       "  <thead>\n",
       "    <tr style=\"text-align: right;\">\n",
       "      <th></th>\n",
       "      <th>C1</th>\n",
       "      <th>C10</th>\n",
       "      <th>C11</th>\n",
       "      <th>C12</th>\n",
       "      <th>C13</th>\n",
       "      <th>C14</th>\n",
       "      <th>C2</th>\n",
       "      <th>C3</th>\n",
       "      <th>C4</th>\n",
       "      <th>C5</th>\n",
       "      <th>C6</th>\n",
       "      <th>C7</th>\n",
       "      <th>C8</th>\n",
       "      <th>C9</th>\n",
       "      <th>D1</th>\n",
       "      <th>D10</th>\n",
       "      <th>D11</th>\n",
       "      <th>D12</th>\n",
       "      <th>D13</th>\n",
       "      <th>D14</th>\n",
       "      <th>D15</th>\n",
       "      <th>D2</th>\n",
       "      <th>D3</th>\n",
       "      <th>D4</th>\n",
       "      <th>D5</th>\n",
       "      <th>...</th>\n",
       "      <th>DeviceInfo_rv:49.0</th>\n",
       "      <th>DeviceInfo_rv:50.0</th>\n",
       "      <th>DeviceInfo_rv:51.0</th>\n",
       "      <th>DeviceInfo_rv:52.0</th>\n",
       "      <th>DeviceInfo_rv:52.9</th>\n",
       "      <th>DeviceInfo_rv:53.0</th>\n",
       "      <th>DeviceInfo_rv:54.0</th>\n",
       "      <th>DeviceInfo_rv:55.0</th>\n",
       "      <th>DeviceInfo_rv:56.0</th>\n",
       "      <th>DeviceInfo_rv:57.0</th>\n",
       "      <th>DeviceInfo_rv:58.0</th>\n",
       "      <th>DeviceInfo_rv:59.0</th>\n",
       "      <th>DeviceInfo_rv:60.0</th>\n",
       "      <th>DeviceInfo_rv:61.0</th>\n",
       "      <th>DeviceInfo_rv:62.0</th>\n",
       "      <th>DeviceInfo_rv:63.0</th>\n",
       "      <th>DeviceInfo_rv:64.0</th>\n",
       "      <th>DeviceInfo_rv:65.0</th>\n",
       "      <th>DeviceInfo_verykoolS5005</th>\n",
       "      <th>DeviceInfo_verykoolS5525</th>\n",
       "      <th>DeviceInfo_verykoolS5530 Build/LMY47I</th>\n",
       "      <th>DeviceInfo_verykools4009</th>\n",
       "      <th>DeviceInfo_verykools5004</th>\n",
       "      <th>DeviceInfo_vivo</th>\n",
       "      <th>DeviceInfo_nan</th>\n",
       "    </tr>\n",
       "    <tr>\n",
       "      <th>TransactionID</th>\n",
       "      <th></th>\n",
       "      <th></th>\n",
       "      <th></th>\n",
       "      <th></th>\n",
       "      <th></th>\n",
       "      <th></th>\n",
       "      <th></th>\n",
       "      <th></th>\n",
       "      <th></th>\n",
       "      <th></th>\n",
       "      <th></th>\n",
       "      <th></th>\n",
       "      <th></th>\n",
       "      <th></th>\n",
       "      <th></th>\n",
       "      <th></th>\n",
       "      <th></th>\n",
       "      <th></th>\n",
       "      <th></th>\n",
       "      <th></th>\n",
       "      <th></th>\n",
       "      <th></th>\n",
       "      <th></th>\n",
       "      <th></th>\n",
       "      <th></th>\n",
       "      <th></th>\n",
       "      <th></th>\n",
       "      <th></th>\n",
       "      <th></th>\n",
       "      <th></th>\n",
       "      <th></th>\n",
       "      <th></th>\n",
       "      <th></th>\n",
       "      <th></th>\n",
       "      <th></th>\n",
       "      <th></th>\n",
       "      <th></th>\n",
       "      <th></th>\n",
       "      <th></th>\n",
       "      <th></th>\n",
       "      <th></th>\n",
       "      <th></th>\n",
       "      <th></th>\n",
       "      <th></th>\n",
       "      <th></th>\n",
       "      <th></th>\n",
       "      <th></th>\n",
       "      <th></th>\n",
       "      <th></th>\n",
       "      <th></th>\n",
       "      <th></th>\n",
       "    </tr>\n",
       "  </thead>\n",
       "  <tbody>\n",
       "    <tr>\n",
       "      <td>2987004.0</td>\n",
       "      <td>1.0</td>\n",
       "      <td>1.0</td>\n",
       "      <td>1.0</td>\n",
       "      <td>0.0</td>\n",
       "      <td>1.0</td>\n",
       "      <td>1.0</td>\n",
       "      <td>1.0</td>\n",
       "      <td>0.0</td>\n",
       "      <td>0.0</td>\n",
       "      <td>0.0</td>\n",
       "      <td>1.0</td>\n",
       "      <td>0.0</td>\n",
       "      <td>1.0</td>\n",
       "      <td>0.0</td>\n",
       "      <td>0.0</td>\n",
       "      <td>NaN</td>\n",
       "      <td>NaN</td>\n",
       "      <td>NaN</td>\n",
       "      <td>NaN</td>\n",
       "      <td>NaN</td>\n",
       "      <td>NaN</td>\n",
       "      <td>NaN</td>\n",
       "      <td>NaN</td>\n",
       "      <td>NaN</td>\n",
       "      <td>NaN</td>\n",
       "      <td>...</td>\n",
       "      <td>0</td>\n",
       "      <td>0</td>\n",
       "      <td>0</td>\n",
       "      <td>0</td>\n",
       "      <td>0</td>\n",
       "      <td>0</td>\n",
       "      <td>0</td>\n",
       "      <td>0</td>\n",
       "      <td>0</td>\n",
       "      <td>0</td>\n",
       "      <td>0</td>\n",
       "      <td>0</td>\n",
       "      <td>0</td>\n",
       "      <td>0</td>\n",
       "      <td>0</td>\n",
       "      <td>0</td>\n",
       "      <td>0</td>\n",
       "      <td>0</td>\n",
       "      <td>0</td>\n",
       "      <td>0</td>\n",
       "      <td>0</td>\n",
       "      <td>0</td>\n",
       "      <td>0</td>\n",
       "      <td>0</td>\n",
       "      <td>0</td>\n",
       "    </tr>\n",
       "    <tr>\n",
       "      <td>2987008.0</td>\n",
       "      <td>1.0</td>\n",
       "      <td>1.0</td>\n",
       "      <td>1.0</td>\n",
       "      <td>0.0</td>\n",
       "      <td>1.0</td>\n",
       "      <td>1.0</td>\n",
       "      <td>1.0</td>\n",
       "      <td>0.0</td>\n",
       "      <td>0.0</td>\n",
       "      <td>0.0</td>\n",
       "      <td>1.0</td>\n",
       "      <td>0.0</td>\n",
       "      <td>1.0</td>\n",
       "      <td>0.0</td>\n",
       "      <td>0.0</td>\n",
       "      <td>NaN</td>\n",
       "      <td>NaN</td>\n",
       "      <td>NaN</td>\n",
       "      <td>NaN</td>\n",
       "      <td>NaN</td>\n",
       "      <td>NaN</td>\n",
       "      <td>NaN</td>\n",
       "      <td>NaN</td>\n",
       "      <td>NaN</td>\n",
       "      <td>NaN</td>\n",
       "      <td>...</td>\n",
       "      <td>0</td>\n",
       "      <td>0</td>\n",
       "      <td>0</td>\n",
       "      <td>0</td>\n",
       "      <td>0</td>\n",
       "      <td>0</td>\n",
       "      <td>0</td>\n",
       "      <td>0</td>\n",
       "      <td>0</td>\n",
       "      <td>0</td>\n",
       "      <td>0</td>\n",
       "      <td>0</td>\n",
       "      <td>0</td>\n",
       "      <td>0</td>\n",
       "      <td>0</td>\n",
       "      <td>0</td>\n",
       "      <td>0</td>\n",
       "      <td>0</td>\n",
       "      <td>0</td>\n",
       "      <td>0</td>\n",
       "      <td>0</td>\n",
       "      <td>0</td>\n",
       "      <td>0</td>\n",
       "      <td>0</td>\n",
       "      <td>0</td>\n",
       "    </tr>\n",
       "    <tr>\n",
       "      <td>2987010.0</td>\n",
       "      <td>1.0</td>\n",
       "      <td>1.0</td>\n",
       "      <td>2.0</td>\n",
       "      <td>2.0</td>\n",
       "      <td>2.0</td>\n",
       "      <td>1.0</td>\n",
       "      <td>4.0</td>\n",
       "      <td>0.0</td>\n",
       "      <td>1.0</td>\n",
       "      <td>0.0</td>\n",
       "      <td>1.0</td>\n",
       "      <td>1.0</td>\n",
       "      <td>1.0</td>\n",
       "      <td>0.0</td>\n",
       "      <td>1.0</td>\n",
       "      <td>0.0</td>\n",
       "      <td>NaN</td>\n",
       "      <td>0.0</td>\n",
       "      <td>0.0</td>\n",
       "      <td>0.0</td>\n",
       "      <td>0.0</td>\n",
       "      <td>1.0</td>\n",
       "      <td>0.0</td>\n",
       "      <td>0.0</td>\n",
       "      <td>0.0</td>\n",
       "      <td>...</td>\n",
       "      <td>0</td>\n",
       "      <td>0</td>\n",
       "      <td>0</td>\n",
       "      <td>0</td>\n",
       "      <td>0</td>\n",
       "      <td>0</td>\n",
       "      <td>0</td>\n",
       "      <td>0</td>\n",
       "      <td>0</td>\n",
       "      <td>0</td>\n",
       "      <td>0</td>\n",
       "      <td>0</td>\n",
       "      <td>0</td>\n",
       "      <td>0</td>\n",
       "      <td>0</td>\n",
       "      <td>0</td>\n",
       "      <td>0</td>\n",
       "      <td>0</td>\n",
       "      <td>0</td>\n",
       "      <td>0</td>\n",
       "      <td>0</td>\n",
       "      <td>0</td>\n",
       "      <td>0</td>\n",
       "      <td>0</td>\n",
       "      <td>0</td>\n",
       "    </tr>\n",
       "    <tr>\n",
       "      <td>2987011.0</td>\n",
       "      <td>1.0</td>\n",
       "      <td>1.0</td>\n",
       "      <td>1.0</td>\n",
       "      <td>1.0</td>\n",
       "      <td>1.0</td>\n",
       "      <td>1.0</td>\n",
       "      <td>1.0</td>\n",
       "      <td>0.0</td>\n",
       "      <td>1.0</td>\n",
       "      <td>0.0</td>\n",
       "      <td>1.0</td>\n",
       "      <td>1.0</td>\n",
       "      <td>1.0</td>\n",
       "      <td>0.0</td>\n",
       "      <td>0.0</td>\n",
       "      <td>0.0</td>\n",
       "      <td>NaN</td>\n",
       "      <td>0.0</td>\n",
       "      <td>0.0</td>\n",
       "      <td>0.0</td>\n",
       "      <td>0.0</td>\n",
       "      <td>NaN</td>\n",
       "      <td>NaN</td>\n",
       "      <td>0.0</td>\n",
       "      <td>NaN</td>\n",
       "      <td>...</td>\n",
       "      <td>0</td>\n",
       "      <td>0</td>\n",
       "      <td>0</td>\n",
       "      <td>0</td>\n",
       "      <td>0</td>\n",
       "      <td>0</td>\n",
       "      <td>0</td>\n",
       "      <td>0</td>\n",
       "      <td>0</td>\n",
       "      <td>0</td>\n",
       "      <td>0</td>\n",
       "      <td>0</td>\n",
       "      <td>0</td>\n",
       "      <td>0</td>\n",
       "      <td>0</td>\n",
       "      <td>0</td>\n",
       "      <td>0</td>\n",
       "      <td>0</td>\n",
       "      <td>0</td>\n",
       "      <td>0</td>\n",
       "      <td>0</td>\n",
       "      <td>0</td>\n",
       "      <td>0</td>\n",
       "      <td>0</td>\n",
       "      <td>1</td>\n",
       "    </tr>\n",
       "    <tr>\n",
       "      <td>2987016.0</td>\n",
       "      <td>1.0</td>\n",
       "      <td>1.0</td>\n",
       "      <td>1.0</td>\n",
       "      <td>0.0</td>\n",
       "      <td>1.0</td>\n",
       "      <td>1.0</td>\n",
       "      <td>1.0</td>\n",
       "      <td>0.0</td>\n",
       "      <td>0.0</td>\n",
       "      <td>0.0</td>\n",
       "      <td>1.0</td>\n",
       "      <td>0.0</td>\n",
       "      <td>1.0</td>\n",
       "      <td>0.0</td>\n",
       "      <td>0.0</td>\n",
       "      <td>NaN</td>\n",
       "      <td>NaN</td>\n",
       "      <td>NaN</td>\n",
       "      <td>NaN</td>\n",
       "      <td>NaN</td>\n",
       "      <td>NaN</td>\n",
       "      <td>NaN</td>\n",
       "      <td>NaN</td>\n",
       "      <td>NaN</td>\n",
       "      <td>NaN</td>\n",
       "      <td>...</td>\n",
       "      <td>0</td>\n",
       "      <td>0</td>\n",
       "      <td>0</td>\n",
       "      <td>0</td>\n",
       "      <td>0</td>\n",
       "      <td>0</td>\n",
       "      <td>0</td>\n",
       "      <td>0</td>\n",
       "      <td>0</td>\n",
       "      <td>0</td>\n",
       "      <td>0</td>\n",
       "      <td>0</td>\n",
       "      <td>0</td>\n",
       "      <td>0</td>\n",
       "      <td>0</td>\n",
       "      <td>0</td>\n",
       "      <td>0</td>\n",
       "      <td>0</td>\n",
       "      <td>0</td>\n",
       "      <td>0</td>\n",
       "      <td>0</td>\n",
       "      <td>0</td>\n",
       "      <td>0</td>\n",
       "      <td>0</td>\n",
       "      <td>0</td>\n",
       "    </tr>\n",
       "  </tbody>\n",
       "</table>\n",
       "<p>5 rows × 6586 columns</p>\n",
       "</div>"
      ],
      "text/plain": [
       "                C1  C10  C11  C12  C13  C14   C2   C3   C4   C5   C6   C7   C8   C9   D1  D10  \\\n",
       "TransactionID                                                                                   \n",
       "2987004.0      1.0  1.0  1.0  0.0  1.0  1.0  1.0  0.0  0.0  0.0  1.0  0.0  1.0  0.0  0.0  NaN   \n",
       "2987008.0      1.0  1.0  1.0  0.0  1.0  1.0  1.0  0.0  0.0  0.0  1.0  0.0  1.0  0.0  0.0  NaN   \n",
       "2987010.0      1.0  1.0  2.0  2.0  2.0  1.0  4.0  0.0  1.0  0.0  1.0  1.0  1.0  0.0  1.0  0.0   \n",
       "2987011.0      1.0  1.0  1.0  1.0  1.0  1.0  1.0  0.0  1.0  0.0  1.0  1.0  1.0  0.0  0.0  0.0   \n",
       "2987016.0      1.0  1.0  1.0  0.0  1.0  1.0  1.0  0.0  0.0  0.0  1.0  0.0  1.0  0.0  0.0  NaN   \n",
       "\n",
       "               D11  D12  D13  D14  D15   D2   D3   D4   D5  ...  DeviceInfo_rv:49.0  \\\n",
       "TransactionID                                               ...                       \n",
       "2987004.0      NaN  NaN  NaN  NaN  NaN  NaN  NaN  NaN  NaN  ...                   0   \n",
       "2987008.0      NaN  NaN  NaN  NaN  NaN  NaN  NaN  NaN  NaN  ...                   0   \n",
       "2987010.0      NaN  0.0  0.0  0.0  0.0  1.0  0.0  0.0  0.0  ...                   0   \n",
       "2987011.0      NaN  0.0  0.0  0.0  0.0  NaN  NaN  0.0  NaN  ...                   0   \n",
       "2987016.0      NaN  NaN  NaN  NaN  NaN  NaN  NaN  NaN  NaN  ...                   0   \n",
       "\n",
       "               DeviceInfo_rv:50.0  DeviceInfo_rv:51.0  DeviceInfo_rv:52.0  DeviceInfo_rv:52.9  \\\n",
       "TransactionID                                                                                   \n",
       "2987004.0                       0                   0                   0                   0   \n",
       "2987008.0                       0                   0                   0                   0   \n",
       "2987010.0                       0                   0                   0                   0   \n",
       "2987011.0                       0                   0                   0                   0   \n",
       "2987016.0                       0                   0                   0                   0   \n",
       "\n",
       "               DeviceInfo_rv:53.0  DeviceInfo_rv:54.0  DeviceInfo_rv:55.0  DeviceInfo_rv:56.0  \\\n",
       "TransactionID                                                                                   \n",
       "2987004.0                       0                   0                   0                   0   \n",
       "2987008.0                       0                   0                   0                   0   \n",
       "2987010.0                       0                   0                   0                   0   \n",
       "2987011.0                       0                   0                   0                   0   \n",
       "2987016.0                       0                   0                   0                   0   \n",
       "\n",
       "               DeviceInfo_rv:57.0  DeviceInfo_rv:58.0  DeviceInfo_rv:59.0  DeviceInfo_rv:60.0  \\\n",
       "TransactionID                                                                                   \n",
       "2987004.0                       0                   0                   0                   0   \n",
       "2987008.0                       0                   0                   0                   0   \n",
       "2987010.0                       0                   0                   0                   0   \n",
       "2987011.0                       0                   0                   0                   0   \n",
       "2987016.0                       0                   0                   0                   0   \n",
       "\n",
       "               DeviceInfo_rv:61.0  DeviceInfo_rv:62.0  DeviceInfo_rv:63.0  DeviceInfo_rv:64.0  \\\n",
       "TransactionID                                                                                   \n",
       "2987004.0                       0                   0                   0                   0   \n",
       "2987008.0                       0                   0                   0                   0   \n",
       "2987010.0                       0                   0                   0                   0   \n",
       "2987011.0                       0                   0                   0                   0   \n",
       "2987016.0                       0                   0                   0                   0   \n",
       "\n",
       "               DeviceInfo_rv:65.0  DeviceInfo_verykoolS5005  DeviceInfo_verykoolS5525  \\\n",
       "TransactionID                                                                           \n",
       "2987004.0                       0                         0                         0   \n",
       "2987008.0                       0                         0                         0   \n",
       "2987010.0                       0                         0                         0   \n",
       "2987011.0                       0                         0                         0   \n",
       "2987016.0                       0                         0                         0   \n",
       "\n",
       "               DeviceInfo_verykoolS5530 Build/LMY47I  DeviceInfo_verykools4009  \\\n",
       "TransactionID                                                                    \n",
       "2987004.0                                          0                         0   \n",
       "2987008.0                                          0                         0   \n",
       "2987010.0                                          0                         0   \n",
       "2987011.0                                          0                         0   \n",
       "2987016.0                                          0                         0   \n",
       "\n",
       "               DeviceInfo_verykools5004  DeviceInfo_vivo  DeviceInfo_nan  \n",
       "TransactionID                                                             \n",
       "2987004.0                             0                0               0  \n",
       "2987008.0                             0                0               0  \n",
       "2987010.0                             0                0               0  \n",
       "2987011.0                             0                0               1  \n",
       "2987016.0                             0                0               0  \n",
       "\n",
       "[5 rows x 6586 columns]"
      ]
     },
     "execution_count": 4,
     "metadata": {},
     "output_type": "execute_result"
    }
   ],
   "source": [
    "train = pd.read_parquet('./model_data/train_set.pqt.gz')               \n",
    "m, n = train.shape\n",
    "print('Data Frame: {} x {}'.format(m,n))                \n",
    "train.head()"
   ]
  },
  {
   "cell_type": "code",
   "execution_count": 3,
   "metadata": {
    "ExecuteTime": {
     "end_time": "2019-09-22T21:12:55.276449Z",
     "start_time": "2019-09-22T21:12:51.229407Z"
    }
   },
   "outputs": [
    {
     "data": {
      "text/plain": [
       "19799"
      ]
     },
     "execution_count": 3,
     "metadata": {},
     "output_type": "execute_result"
    }
   ],
   "source": [
    "y = train.isFraud\n",
    "X = train.drop('isFraud', axis=1)\n",
    "\n",
    "import gc\n",
    "del train\n",
    "gc.collect()"
   ]
  },
  {
   "cell_type": "code",
   "execution_count": 3,
   "metadata": {
    "ExecuteTime": {
     "end_time": "2019-09-23T15:25:12.826828Z",
     "start_time": "2019-09-23T15:25:12.811291Z"
    }
   },
   "outputs": [],
   "source": [
    "import os\n",
    "import gc\n",
    "import numpy as np \n",
    "import pandas as pd \n",
    "from sklearn.model_selection import train_test_split\n",
    "from sklearn.metrics import confusion_matrix, roc_auc_score"
   ]
  },
  {
   "cell_type": "code",
   "execution_count": 11,
   "metadata": {
    "ExecuteTime": {
     "end_time": "2019-09-23T15:29:31.970076Z",
     "start_time": "2019-09-23T15:29:31.924444Z"
    }
   },
   "outputs": [],
   "source": [
    "def auc_plot_score(model_pred_fn, X_train, X_test, y_train, y_test, dim=2): # Function to take a shortcut of printing plots and \n",
    "                                                                            # scores of auc for both train and test sets\n",
    "\n",
    "    \n",
    "    fig, axs = plt.subplots(nrows=1, ncols=2, figsize=(12,5))\n",
    "    fig.suptitle('AUC Plots', fontsize=20)\n",
    "    \n",
    "    if dim == 1:\n",
    "        proba_train = model_pred_fn(X_train)\n",
    "        proba_test  = model_pred_fn(X_test)\n",
    "    elif dim == 2:\n",
    "        proba_train = model_pred_fn(X_train)[:,1]\n",
    "        proba_test  = model_pred_fn(X_test)[:,1]\n",
    "        \n",
    "    fpr_train, tpr_train, _ = roc_curve(y_train, proba_train, pos_label=1, drop_intermediate=False)\n",
    "    auc_train = round(auc(fpr_train, tpr_train),5)\n",
    "    \n",
    "    fpr_test,  tpr_test , _ = roc_curve(y_test , proba_test,  pos_label=1, drop_intermediate=False)\n",
    "    auc_test = round(auc(fpr_test, tpr_test), 5)\n",
    "    \n",
    "    axs[0].plot([0, 1], [0, 1], linestyle='--')\n",
    "    axs[0].plot(fpr_train, tpr_train, marker='.')\n",
    "    axs[0].set_title('Train')\n",
    "    axs[0].set_xlabel(auc_train, fontsize=15)\n",
    "    \n",
    "    axs[1].plot([0, 1], [0, 1], linestyle='--')\n",
    "    axs[1].plot(fpr_test, tpr_test, marker='.')\n",
    "    axs[1].set_title('Test')\n",
    "    axs[1].set_xlabel(auc_test, fontsize=15)\n",
    "    \n",
    "    plt.tight_layout()\n",
    "    fig.subplots_adjust(top=0.85)\n",
    "    plt.show()\n",
    "    \n",
    "    print(f'Train-set AUC Score = {auc_train}\\nTest-set AUC Score = {auc_test}')"
   ]
  },
  {
   "cell_type": "code",
   "execution_count": 11,
   "metadata": {
    "ExecuteTime": {
     "end_time": "2019-09-22T21:19:09.870485Z",
     "start_time": "2019-09-22T21:19:09.843026Z"
    }
   },
   "outputs": [
    {
     "data": {
      "text/plain": [
       "<lightgbm.basic.Booster at 0x11c5d3048>"
      ]
     },
     "execution_count": 11,
     "metadata": {},
     "output_type": "execute_result"
    }
   ],
   "source": [
    "os.makedirs('./model_artifacts', exist_ok=True)\n",
    "LightGBM.save_model('./model_artifacts/lgbm1.ml')"
   ]
  },
  {
   "cell_type": "code",
   "execution_count": 2,
   "metadata": {
    "ExecuteTime": {
     "end_time": "2019-09-23T15:11:36.820663Z",
     "start_time": "2019-09-23T15:11:36.611983Z"
    },
    "scrolled": false
   },
   "outputs": [
    {
     "name": "stderr",
     "output_type": "stream",
     "text": [
      "/Library/Frameworks/Python.framework/Versions/3.7/lib/python3.7/site-packages/sklearn/externals/joblib/__init__.py:15: DeprecationWarning:\n",
      "\n",
      "sklearn.externals.joblib is deprecated in 0.21 and will be removed in 0.23. Please import this functionality directly from joblib, which can be installed with: pip install joblib. If this warning is raised when loading pickled models, you may need to re-serialize those models with scikit-learn 0.21+.\n",
      "\n",
      "/Library/Frameworks/Python.framework/Versions/3.7/lib/python3.7/site-packages/lightgbm/__init__.py:46: UserWarning:\n",
      "\n",
      "Starting from version 2.2.1, the library file in distribution wheels for macOS is built by the Apple Clang (Xcode_8.3.3) compiler.\n",
      "This means that in case of installing LightGBM from PyPI via the ``pip install lightgbm`` command, you don't need to install the gcc compiler anymore.\n",
      "Instead of that, you need to install the OpenMP library, which is required for running LightGBM on the system with the Apple Clang compiler.\n",
      "You can install the OpenMP library by the following command: ``brew install libomp``.\n",
      "\n"
     ]
    }
   ],
   "source": [
    "from sklearn.externals import joblib\n",
    "\n",
    "# Saving model as pkl\n",
    "# joblib.dump(LightGBM, './model_artifacts/lgbm1.pkl')\n",
    "\n",
    "# To load the model use the following\n",
    "model = joblib.load('./model_artifacts/lgbm1.pkl')"
   ]
  },
  {
   "cell_type": "code",
   "execution_count": 4,
   "metadata": {
    "ExecuteTime": {
     "end_time": "2019-09-23T15:25:44.085353Z",
     "start_time": "2019-09-23T15:25:44.081922Z"
    }
   },
   "outputs": [],
   "source": [
    "import gc"
   ]
  },
  {
   "cell_type": "code",
   "execution_count": 6,
   "metadata": {
    "ExecuteTime": {
     "end_time": "2019-09-23T15:26:03.641765Z",
     "start_time": "2019-09-23T15:25:55.736802Z"
    }
   },
   "outputs": [
    {
     "data": {
      "text/plain": [
       "26390"
      ]
     },
     "execution_count": 6,
     "metadata": {},
     "output_type": "execute_result"
    }
   ],
   "source": [
    "train_set = pd.read_parquet('./model_data/train_set.pqt.gz')\n",
    "y_train = train_set.isFraud\n",
    "X_train = train_set.drop('isFraud', axis=1)\n",
    "\n",
    "\n",
    "del train_set\n",
    "gc.collect()"
   ]
  },
  {
   "cell_type": "code",
   "execution_count": 7,
   "metadata": {
    "ExecuteTime": {
     "end_time": "2019-09-23T15:26:46.082801Z",
     "start_time": "2019-09-23T15:26:04.750957Z"
    }
   },
   "outputs": [
    {
     "data": {
      "text/plain": [
       "19788"
      ]
     },
     "execution_count": 7,
     "metadata": {},
     "output_type": "execute_result"
    }
   ],
   "source": [
    "dev_set = pd.read_parquet('./model_data/dev_set.pqt.gz')\n",
    "y_dev = dev_set.isFraud\n",
    "X_dev = dev_set.drop('isFraud', axis=1)\n",
    "\n",
    "\n",
    "del dev_set\n",
    "gc.collect()"
   ]
  },
  {
   "cell_type": "code",
   "execution_count": 8,
   "metadata": {
    "ExecuteTime": {
     "end_time": "2019-09-23T15:26:49.238716Z",
     "start_time": "2019-09-23T15:26:49.050041Z"
    }
   },
   "outputs": [
    {
     "name": "stderr",
     "output_type": "stream",
     "text": [
      "/Library/Frameworks/Python.framework/Versions/3.7/lib/python3.7/site-packages/lightgbm/__init__.py:46: UserWarning:\n",
      "\n",
      "Starting from version 2.2.1, the library file in distribution wheels for macOS is built by the Apple Clang (Xcode_8.3.3) compiler.\n",
      "This means that in case of installing LightGBM from PyPI via the ``pip install lightgbm`` command, you don't need to install the gcc compiler anymore.\n",
      "Instead of that, you need to install the OpenMP library, which is required for running LightGBM on the system with the Apple Clang compiler.\n",
      "You can install the OpenMP library by the following command: ``brew install libomp``.\n",
      "\n"
     ]
    },
    {
     "data": {
      "text/plain": [
       "0"
      ]
     },
     "execution_count": 8,
     "metadata": {},
     "output_type": "execute_result"
    }
   ],
   "source": [
    "import lightgbm as lgb\n",
    "\n",
    "lgb_train = lgb.Dataset(data=X_train, label=y_train)\n",
    "\n",
    "params ={\n",
    "    'task': 'train',\n",
    "    'boosting_type': 'gbdt',\n",
    "    'objective': 'binary',\n",
    "    'metric': 'auc',\n",
    "    'learning_rate': 0.05,\n",
    "    'verbose': -1\n",
    "     }\n",
    "gc.collect()"
   ]
  },
  {
   "cell_type": "code",
   "execution_count": 10,
   "metadata": {
    "ExecuteTime": {
     "end_time": "2019-09-23T15:29:31.916786Z",
     "start_time": "2019-09-23T15:27:34.042525Z"
    },
    "scrolled": true
   },
   "outputs": [],
   "source": [
    "LightGBM = lgb.train(params=params, train_set = lgb_train)"
   ]
  },
  {
   "cell_type": "code",
   "execution_count": null,
   "metadata": {
    "ExecuteTime": {
     "start_time": "2019-09-23T15:31:15.372Z"
    }
   },
   "outputs": [],
   "source": [
    "auc_plot_score(LightGBM.predict, X_train, X_dev, y_train, y_dev, dim=1)"
   ]
  }
 ],
 "metadata": {
  "hide_input": false,
  "kernelspec": {
   "display_name": "Python 3",
   "language": "python",
   "name": "python3"
  },
  "language_info": {
   "codemirror_mode": {
    "name": "ipython",
    "version": 3
   },
   "file_extension": ".py",
   "mimetype": "text/x-python",
   "name": "python",
   "nbconvert_exporter": "python",
   "pygments_lexer": "ipython3",
   "version": "3.7.1"
  },
  "notify_time": "10",
  "toc": {
   "base_numbering": 1,
   "nav_menu": {},
   "number_sections": true,
   "sideBar": true,
   "skip_h1_title": false,
   "title_cell": "Table of Contents",
   "title_sidebar": "Contents",
   "toc_cell": false,
   "toc_position": {},
   "toc_section_display": true,
   "toc_window_display": false
  }
 },
 "nbformat": 4,
 "nbformat_minor": 2
}
